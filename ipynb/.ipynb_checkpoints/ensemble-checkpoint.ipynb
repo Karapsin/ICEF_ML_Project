{
 "cells": [
  {
   "cell_type": "code",
   "execution_count": 2,
   "id": "a53ffdad-4d0f-40d7-86b8-709b56492e0d",
   "metadata": {},
   "outputs": [],
   "source": [
    "import sys\n",
    "import os\n",
    "os.chdir('..')\n",
    "sys.path.append('py//models')\n",
    "from model_funs import *\n",
    "X, y = get_x_y('data_for_modelling')\n",
    "X_hold, y_hold = get_x_y('holdout')"
   ]
  },
  {
   "cell_type": "code",
   "execution_count": 3,
   "id": "1995e5da-2299-4c2e-b631-7bf6fde4cb49",
   "metadata": {},
   "outputs": [
    {
     "name": "stdout",
     "output_type": "stream",
     "text": [
      "all: Explained Variance Ratio per Component: [0.26122786 0.05374642 0.04691406 0.03920592 0.0345376  0.03109392\n",
      " 0.02974972 0.0291486  0.02773239 0.02509565]\n",
      "all: Cumulative Explained Variance: 0.5785\n",
      "parks: Explained Variance Ratio per Component: [0.32376045]\n",
      "parks: Cumulative Explained Variance: 0.3238\n",
      "edu: Explained Variance Ratio per Component: [0.52977431]\n",
      "edu: Cumulative Explained Variance: 0.5298\n",
      "shops: Explained Variance Ratio per Component: [0.395567]\n",
      "shops: Cumulative Explained Variance: 0.3956\n",
      "moscow_stations: Explained Variance Ratio per Component: [0.50439374]\n",
      "moscow_stations: Cumulative Explained Variance: 0.5044\n",
      "bus_stops: Explained Variance Ratio per Component: [0.49780078]\n",
      "bus_stops: Cumulative Explained Variance: 0.4978\n",
      "eco: Explained Variance Ratio per Component: [0.49611701]\n",
      "eco: Cumulative Explained Variance: 0.4961\n",
      "hospitals: Explained Variance Ratio per Component: [0.76014283]\n",
      "hospitals: Cumulative Explained Variance: 0.7601\n"
     ]
    }
   ],
   "source": [
    "# Best KNN\n",
    "custom_knn_model = get_model_pipeline(X, \n",
    "                                      KNeighborsRegressor(algorithm = 'auto', n_neighbors = 17, weights = 'uniform'), \n",
    "                                      pca_groups = get_PCA_groups(X, ('all', 10)),\n",
    "                                      feature_selection = ('k_best', 10),\n",
    "                                      standartize = True\n",
    "                    )\n",
    "            \n",
    "\n",
    "# Best LASSO\n",
    "patterns_components = [\n",
    "    ['parks', min(1, 9)], \n",
    "    ['edu', min(1, 6)],\n",
    "    ['shops', min(1, 5)],\n",
    "    ['moscow_stations', min(1, 5)],\n",
    "    ['bus_stops', min(1, 5)],\n",
    "    ['eco', min(1, 5)],\n",
    "    ['hospitals', min(1, 2)]\n",
    "]\n",
    "lasso_model = get_model_pipeline(\n",
    "    X = X,\n",
    "    model = Lasso(alpha = 640, tol = 0.001),\n",
    "    poly_features = 2,\n",
    "    pca_groups = get_PCA_groups(X, patterns_components),\n",
    "    standartize = True\n",
    ")\n",
    "\n",
    "# Best XGBoost\n",
    "xgb_model = XGBRegressor(eval_metric='mae',\n",
    "                         tree_method='hist',\n",
    "                         device='cuda',\n",
    "                         n_estimators=182,\n",
    "                         max_depth=6,\n",
    "                         learning_rate=0.11\n",
    "            )"
   ]
  },
  {
   "cell_type": "code",
   "execution_count": 15,
   "id": "6dab9914-1828-4905-8240-d0705fca2c9f",
   "metadata": {},
   "outputs": [
    {
     "name": "stdout",
     "output_type": "stream",
     "text": [
      "Fitting 5 folds for each of 4 candidates, totalling 20 fits\n",
      "Best Weights: [0.18, 0.12, 0.7]\n",
      "Best MAE: 20175.86\n"
     ]
    }
   ],
   "source": [
    "step = 0.01\n",
    "weights = []\n",
    "for w1 in np.arange(0.18, 0.19, step):\n",
    "    for w2 in np.arange(0.12, 0.13, step):\n",
    "        w3 = 1.0 - (w1 + w2) \n",
    "        if w3 >= 0.65 and w3 <= 0.75: \n",
    "            weights.append([round(w1, 2), round(w2, 2), round(w3, 2)])\n",
    "\n",
    "\n",
    "\n",
    "voting_model = VotingRegressor(\n",
    "    estimators=[\n",
    "        ('lasso', lasso_model),\n",
    "        ('knn', custom_knn_model),\n",
    "        ('xgb', xgb_model)\n",
    "    ]\n",
    ")\n",
    "\n",
    "\n",
    "from sklearn.metrics import make_scorer, mean_absolute_error\n",
    "grid_search = GridSearchCV(\n",
    "    estimator = voting_model,\n",
    "    param_grid = {'weights': weights},\n",
    "    scoring = make_scorer(mean_absolute_error, greater_is_better=False),\n",
    "    cv = 5,\n",
    "    verbose = 5,\n",
    "    n_jobs = 5\n",
    ")\n",
    "\n",
    "# Fit GridSearchCV\n",
    "grid_search.fit(X, y)\n",
    "\n",
    "# Get the best weights\n",
    "best_weights = grid_search.best_params_['weights']\n",
    "print(f\"Best Weights: {best_weights}\")\n",
    "print(\"Best MAE: {:.2f}\".format(-grid_search.best_score_))"
   ]
  },
  {
   "cell_type": "code",
   "execution_count": 16,
   "id": "9ce2f5e9-7910-4f94-b720-c7e0fc719704",
   "metadata": {},
   "outputs": [
    {
     "name": "stdout",
     "output_type": "stream",
     "text": [
      "count     1000.0000\n",
      "mean     19960.8525\n",
      "std      23540.6275\n",
      "min         15.7762\n",
      "25%       5294.9232\n",
      "50%      12209.6823\n",
      "75%      24231.1079\n",
      "max     196808.3427\n",
      "Name: price, dtype: float64\n",
      "MAE 19960.852503179474\n",
      "MAPE 17.8072440296633%\n"
     ]
    },
    {
     "name": "stderr",
     "output_type": "stream",
     "text": [
      "C:\\Users\\UBAN\\AppData\\Local\\Programs\\Python\\Python312\\Lib\\site-packages\\xgboost\\core.py:158: UserWarning: [22:04:18] WARNING: C:\\buildkite-agent\\builds\\buildkite-windows-cpu-autoscaling-group-i-0c55ff5f71b100e98-1\\xgboost\\xgboost-ci-windows\\src\\common\\error_msg.cc:58: Falling back to prediction using DMatrix due to mismatched devices. This might lead to higher memory usage and slower performance. XGBoost is running on: cuda:0, while the input data is on: cpu.\n",
      "Potential solutions:\n",
      "- Use a data structure that matches the device ordinal in the booster.\n",
      "- Set the device for booster before call to inplace_predict.\n",
      "\n",
      "This warning will only be shown once.\n",
      "\n",
      "  warnings.warn(smsg, UserWarning)\n"
     ]
    },
    {
     "data": {
      "text/plain": [
       "0.17807244029663297"
      ]
     },
     "execution_count": 16,
     "metadata": {},
     "output_type": "execute_result"
    }
   ],
   "source": [
    "best_model = grid_search.best_estimator_\n",
    "best_model.fit(X, y)\n",
    "\n",
    "errors = best_model.predict(X_hold) - y_hold\n",
    "print(np.abs(errors).describe())\n",
    "get_MAE(errors)\n",
    "get_MAPE(errors, y_hold)"
   ]
  },
  {
   "cell_type": "code",
   "execution_count": 17,
   "id": "7309ab25-32bc-4ddf-82b9-1af7cf173839",
   "metadata": {},
   "outputs": [
    {
     "name": "stdout",
     "output_type": "stream",
     "text": [
      "errors 95%: 42336.042595382234\n",
      "errors 5%: -57784.4710328726\n"
     ]
    }
   ],
   "source": [
    "print(f\"errors 95%: {np.quantile(errors, 0.95)}\")\n",
    "print(f\"errors 5%: {np.quantile(errors, 0.05)}\")"
   ]
  }
 ],
 "metadata": {
  "kernelspec": {
   "display_name": "Python 3 (ipykernel)",
   "language": "python",
   "name": "python3"
  },
  "language_info": {
   "codemirror_mode": {
    "name": "ipython",
    "version": 3
   },
   "file_extension": ".py",
   "mimetype": "text/x-python",
   "name": "python",
   "nbconvert_exporter": "python",
   "pygments_lexer": "ipython3",
   "version": "3.12.3"
  }
 },
 "nbformat": 4,
 "nbformat_minor": 5
}
