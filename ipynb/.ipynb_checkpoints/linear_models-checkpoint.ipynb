{
 "cells": [
  {
   "cell_type": "code",
   "execution_count": 1,
   "id": "bce88072-734b-41b4-bdc4-0bf5e4d679dc",
   "metadata": {},
   "outputs": [],
   "source": [
    "import sys\n",
    "import os\n",
    "os.chdir('..')\n",
    "sys.path.append('py//models')\n",
    "from model_funs import *\n",
    "X, y = get_x_y('data_for_modelling')\n",
    "X_hold, y_hold = get_x_y('holdout')"
   ]
  },
  {
   "cell_type": "code",
   "execution_count": 2,
   "id": "b5240356-cea8-4632-9540-216a2ddabc05",
   "metadata": {},
   "outputs": [
    {
     "name": "stdout",
     "output_type": "stream",
     "text": [
      "Fitting 5 folds for each of 6 candidates, totalling 30 fits\n",
      "Best Parameters: {'model__alpha': 229.76}\n",
      "Best MAE: 24725.54266340083\n",
      "poly_degree: 1\n",
      "\n",
      "\n",
      "Fitting 5 folds for each of 11 candidates, totalling 55 fits\n",
      "Best Parameters: {'model__alpha': 374.2799999999999}\n",
      "Best MAE: 23067.681592847795\n",
      "poly_degree: 2\n",
      "\n",
      "\n"
     ]
    }
   ],
   "source": [
    "for degree in range(1, 3):\n",
    "    grid_search = GridSearchCV(estimator = get_model_pipeline(X = X, \n",
    "                                                              model = Lasso(), \n",
    "                                                              poly_features = degree,\n",
    "                                                              standartize = True\n",
    "                                            ),\n",
    "                                param_grid = {'model__alpha': [np.arange(229.75, 229.8, 0.01),\n",
    "                                                               np.arange(374.2, 374.3, 0.01)\n",
    "                                                              ][degree - 1]\n",
    "                                             },\n",
    "                                scoring = 'neg_mean_absolute_error',\n",
    "                                cv = 5,\n",
    "                                verbose = 1,\n",
    "                                n_jobs = 5\n",
    "                  )\n",
    "    \n",
    "\n",
    "    grid_search.fit(X, y)\n",
    "    \n",
    "    print(\"Best Parameters:\", grid_search.best_params_)\n",
    "    print(\"Best MAE:\", -grid_search.best_score_)\n",
    "    print(f\"poly_degree: {degree}\")\n",
    "\n",
    "    print(\"\")\n",
    "    print(\"\")"
   ]
  },
  {
   "cell_type": "code",
   "execution_count": 3,
   "id": "ca860c67-0992-4a16-8747-951b2d534863",
   "metadata": {
    "scrolled": true
   },
   "outputs": [
    {
     "name": "stdout",
     "output_type": "stream",
     "text": [
      "processing floor\n",
      "degree 1\n",
      "Fitting 5 folds for each of 20 candidates, totalling 100 fits\n",
      "Best MAE: 48851.377916012854\n",
      "poly_degree: 1\n",
      "Current lowest MAE: 48851.377916012854\n",
      "\n",
      "\n",
      "degree 2\n",
      "Fitting 5 folds for each of 20 candidates, totalling 100 fits\n",
      "Best MAE: 48666.71563805816\n",
      "poly_degree: 2\n",
      "Current lowest MAE: 48666.71563805816\n",
      "\n",
      "\n",
      "degree 3\n",
      "Fitting 5 folds for each of 20 candidates, totalling 100 fits\n",
      "Best MAE: 48682.78939608307\n",
      "poly_degree: 3\n",
      "Current lowest MAE: 48666.71563805816\n",
      "\n",
      "\n",
      "degree 4\n",
      "Fitting 5 folds for each of 20 candidates, totalling 100 fits\n"
     ]
    },
    {
     "name": "stderr",
     "output_type": "stream",
     "text": [
      "C:\\Users\\UBAN\\AppData\\Local\\Programs\\Python\\Python312\\Lib\\site-packages\\sklearn\\linear_model\\_coordinate_descent.py:697: ConvergenceWarning: Objective did not converge. You might want to increase the number of iterations, check the scale of the features or consider increasing regularisation. Duality gap: 3.623e+12, tolerance: 2.770e+09\n",
      "  model = cd_fast.enet_coordinate_descent(\n"
     ]
    },
    {
     "name": "stdout",
     "output_type": "stream",
     "text": [
      "Best MAE: 48573.24093720508\n",
      "poly_degree: 4\n",
      "Current lowest MAE: 48573.24093720508\n",
      "\n",
      "\n",
      "degree 5\n",
      "Fitting 5 folds for each of 20 candidates, totalling 100 fits\n",
      "Best MAE: 48571.41488538068\n",
      "poly_degree: 5\n",
      "Current lowest MAE: 48571.41488538068\n",
      "\n",
      "\n",
      "degree 6\n",
      "Fitting 5 folds for each of 20 candidates, totalling 100 fits\n",
      "Best MAE: 48603.68191352413\n",
      "poly_degree: 6\n",
      "Current lowest MAE: 48571.41488538068\n",
      "\n",
      "\n",
      "degree 7\n",
      "Fitting 5 folds for each of 20 candidates, totalling 100 fits\n"
     ]
    },
    {
     "name": "stderr",
     "output_type": "stream",
     "text": [
      "C:\\Users\\UBAN\\AppData\\Local\\Programs\\Python\\Python312\\Lib\\site-packages\\sklearn\\linear_model\\_coordinate_descent.py:697: ConvergenceWarning: Objective did not converge. You might want to increase the number of iterations, check the scale of the features or consider increasing regularisation. Duality gap: 1.285e+13, tolerance: 2.770e+09\n",
      "  model = cd_fast.enet_coordinate_descent(\n"
     ]
    },
    {
     "name": "stdout",
     "output_type": "stream",
     "text": [
      "Best MAE: 48639.966943696774\n",
      "poly_degree: 7\n",
      "Current lowest MAE: 48571.41488538068\n",
      "\n",
      "\n",
      "degree 8\n",
      "Fitting 5 folds for each of 20 candidates, totalling 100 fits\n"
     ]
    },
    {
     "name": "stderr",
     "output_type": "stream",
     "text": [
      "C:\\Users\\UBAN\\AppData\\Local\\Programs\\Python\\Python312\\Lib\\site-packages\\sklearn\\linear_model\\_coordinate_descent.py:697: ConvergenceWarning: Objective did not converge. You might want to increase the number of iterations, check the scale of the features or consider increasing regularisation. Duality gap: 1.284e+13, tolerance: 2.770e+09\n",
      "  model = cd_fast.enet_coordinate_descent(\n"
     ]
    },
    {
     "name": "stdout",
     "output_type": "stream",
     "text": [
      "Best MAE: 48606.70325758561\n",
      "poly_degree: 8\n",
      "Current lowest MAE: 48571.41488538068\n",
      "\n",
      "\n",
      "degree 9\n",
      "Fitting 5 folds for each of 20 candidates, totalling 100 fits\n"
     ]
    },
    {
     "name": "stderr",
     "output_type": "stream",
     "text": [
      "C:\\Users\\UBAN\\AppData\\Local\\Programs\\Python\\Python312\\Lib\\site-packages\\sklearn\\linear_model\\_coordinate_descent.py:697: ConvergenceWarning: Objective did not converge. You might want to increase the number of iterations, check the scale of the features or consider increasing regularisation. Duality gap: 1.282e+13, tolerance: 2.770e+09\n",
      "  model = cd_fast.enet_coordinate_descent(\n"
     ]
    },
    {
     "name": "stdout",
     "output_type": "stream",
     "text": [
      "Best MAE: 48555.7692363011\n",
      "poly_degree: 9\n",
      "Current lowest MAE: 48555.7692363011\n",
      "\n",
      "\n",
      "degree 10\n",
      "Fitting 5 folds for each of 20 candidates, totalling 100 fits\n"
     ]
    },
    {
     "name": "stderr",
     "output_type": "stream",
     "text": [
      "C:\\Users\\UBAN\\AppData\\Local\\Programs\\Python\\Python312\\Lib\\site-packages\\sklearn\\linear_model\\_coordinate_descent.py:697: ConvergenceWarning: Objective did not converge. You might want to increase the number of iterations, check the scale of the features or consider increasing regularisation. Duality gap: 2.265e+12, tolerance: 2.770e+09\n",
      "  model = cd_fast.enet_coordinate_descent(\n"
     ]
    },
    {
     "name": "stdout",
     "output_type": "stream",
     "text": [
      "Best MAE: 48578.95755708342\n",
      "poly_degree: 10\n",
      "Current lowest MAE: 48555.7692363011\n",
      "\n",
      "\n",
      "processing floors_total\n",
      "degree 1\n",
      "Fitting 5 folds for each of 20 candidates, totalling 100 fits\n",
      "Best MAE: 47249.863512662276\n",
      "poly_degree: 1\n",
      "Current lowest MAE: 47249.863512662276\n",
      "\n",
      "\n",
      "degree 2\n",
      "Fitting 5 folds for each of 20 candidates, totalling 100 fits\n",
      "Best MAE: 46546.70786111005\n",
      "poly_degree: 2\n",
      "Current lowest MAE: 46546.70786111005\n",
      "\n",
      "\n",
      "degree 3\n",
      "Fitting 5 folds for each of 20 candidates, totalling 100 fits\n"
     ]
    },
    {
     "name": "stderr",
     "output_type": "stream",
     "text": [
      "C:\\Users\\UBAN\\AppData\\Local\\Programs\\Python\\Python312\\Lib\\site-packages\\sklearn\\linear_model\\_coordinate_descent.py:697: ConvergenceWarning: Objective did not converge. You might want to increase the number of iterations, check the scale of the features or consider increasing regularisation. Duality gap: 6.916e+12, tolerance: 2.770e+09\n",
      "  model = cd_fast.enet_coordinate_descent(\n"
     ]
    },
    {
     "name": "stdout",
     "output_type": "stream",
     "text": [
      "Best MAE: 46298.545512669254\n",
      "poly_degree: 3\n",
      "Current lowest MAE: 46298.545512669254\n",
      "\n",
      "\n",
      "degree 4\n",
      "Fitting 5 folds for each of 20 candidates, totalling 100 fits\n"
     ]
    },
    {
     "name": "stderr",
     "output_type": "stream",
     "text": [
      "C:\\Users\\UBAN\\AppData\\Local\\Programs\\Python\\Python312\\Lib\\site-packages\\sklearn\\linear_model\\_coordinate_descent.py:697: ConvergenceWarning: Objective did not converge. You might want to increase the number of iterations, check the scale of the features or consider increasing regularisation. Duality gap: 1.175e+13, tolerance: 2.770e+09\n",
      "  model = cd_fast.enet_coordinate_descent(\n"
     ]
    },
    {
     "name": "stdout",
     "output_type": "stream",
     "text": [
      "Best MAE: 46305.73743054748\n",
      "poly_degree: 4\n",
      "Current lowest MAE: 46298.545512669254\n",
      "\n",
      "\n",
      "degree 5\n",
      "Fitting 5 folds for each of 20 candidates, totalling 100 fits\n"
     ]
    },
    {
     "name": "stderr",
     "output_type": "stream",
     "text": [
      "C:\\Users\\UBAN\\AppData\\Local\\Programs\\Python\\Python312\\Lib\\site-packages\\sklearn\\linear_model\\_coordinate_descent.py:697: ConvergenceWarning: Objective did not converge. You might want to increase the number of iterations, check the scale of the features or consider increasing regularisation. Duality gap: 1.184e+13, tolerance: 2.770e+09\n",
      "  model = cd_fast.enet_coordinate_descent(\n"
     ]
    },
    {
     "name": "stdout",
     "output_type": "stream",
     "text": [
      "Best MAE: 46310.43157441663\n",
      "poly_degree: 5\n",
      "Current lowest MAE: 46298.545512669254\n",
      "\n",
      "\n",
      "degree 6\n",
      "Fitting 5 folds for each of 20 candidates, totalling 100 fits\n"
     ]
    },
    {
     "name": "stderr",
     "output_type": "stream",
     "text": [
      "C:\\Users\\UBAN\\AppData\\Local\\Programs\\Python\\Python312\\Lib\\site-packages\\sklearn\\linear_model\\_coordinate_descent.py:697: ConvergenceWarning: Objective did not converge. You might want to increase the number of iterations, check the scale of the features or consider increasing regularisation. Duality gap: 1.910e+12, tolerance: 2.770e+09\n",
      "  model = cd_fast.enet_coordinate_descent(\n"
     ]
    },
    {
     "name": "stdout",
     "output_type": "stream",
     "text": [
      "Best MAE: 46315.748822070316\n",
      "poly_degree: 6\n",
      "Current lowest MAE: 46298.545512669254\n",
      "\n",
      "\n",
      "degree 7\n",
      "Fitting 5 folds for each of 20 candidates, totalling 100 fits\n"
     ]
    },
    {
     "name": "stderr",
     "output_type": "stream",
     "text": [
      "C:\\Users\\UBAN\\AppData\\Local\\Programs\\Python\\Python312\\Lib\\site-packages\\sklearn\\linear_model\\_coordinate_descent.py:697: ConvergenceWarning: Objective did not converge. You might want to increase the number of iterations, check the scale of the features or consider increasing regularisation. Duality gap: 1.089e+12, tolerance: 2.770e+09\n",
      "  model = cd_fast.enet_coordinate_descent(\n"
     ]
    },
    {
     "name": "stdout",
     "output_type": "stream",
     "text": [
      "Best MAE: 46317.39440071858\n",
      "poly_degree: 7\n",
      "Current lowest MAE: 46298.545512669254\n",
      "\n",
      "\n",
      "degree 8\n",
      "Fitting 5 folds for each of 20 candidates, totalling 100 fits\n"
     ]
    },
    {
     "name": "stderr",
     "output_type": "stream",
     "text": [
      "C:\\Users\\UBAN\\AppData\\Local\\Programs\\Python\\Python312\\Lib\\site-packages\\sklearn\\linear_model\\_coordinate_descent.py:697: ConvergenceWarning: Objective did not converge. You might want to increase the number of iterations, check the scale of the features or consider increasing regularisation. Duality gap: 1.191e+13, tolerance: 2.770e+09\n",
      "  model = cd_fast.enet_coordinate_descent(\n"
     ]
    },
    {
     "name": "stdout",
     "output_type": "stream",
     "text": [
      "Best MAE: 46313.79920823315\n",
      "poly_degree: 8\n",
      "Current lowest MAE: 46298.545512669254\n",
      "\n",
      "\n",
      "degree 9\n",
      "Fitting 5 folds for each of 20 candidates, totalling 100 fits\n"
     ]
    },
    {
     "name": "stderr",
     "output_type": "stream",
     "text": [
      "C:\\Users\\UBAN\\AppData\\Local\\Programs\\Python\\Python312\\Lib\\site-packages\\sklearn\\linear_model\\_coordinate_descent.py:697: ConvergenceWarning: Objective did not converge. You might want to increase the number of iterations, check the scale of the features or consider increasing regularisation. Duality gap: 1.192e+13, tolerance: 2.770e+09\n",
      "  model = cd_fast.enet_coordinate_descent(\n"
     ]
    },
    {
     "name": "stdout",
     "output_type": "stream",
     "text": [
      "Best MAE: 46307.42864888012\n",
      "poly_degree: 9\n",
      "Current lowest MAE: 46298.545512669254\n",
      "\n",
      "\n",
      "degree 10\n",
      "Fitting 5 folds for each of 20 candidates, totalling 100 fits\n"
     ]
    },
    {
     "name": "stderr",
     "output_type": "stream",
     "text": [
      "C:\\Users\\UBAN\\AppData\\Local\\Programs\\Python\\Python312\\Lib\\site-packages\\sklearn\\linear_model\\_coordinate_descent.py:697: ConvergenceWarning: Objective did not converge. You might want to increase the number of iterations, check the scale of the features or consider increasing regularisation. Duality gap: 1.193e+13, tolerance: 2.770e+09\n",
      "  model = cd_fast.enet_coordinate_descent(\n"
     ]
    },
    {
     "name": "stdout",
     "output_type": "stream",
     "text": [
      "Best MAE: 46301.6073932414\n",
      "poly_degree: 10\n",
      "Current lowest MAE: 46298.545512669254\n",
      "\n",
      "\n",
      "processing meters\n",
      "degree 1\n",
      "Fitting 5 folds for each of 20 candidates, totalling 100 fits\n",
      "Best MAE: 35166.13571813103\n",
      "poly_degree: 1\n",
      "Current lowest MAE: 35166.13571813103\n",
      "\n",
      "\n",
      "degree 2\n",
      "Fitting 5 folds for each of 20 candidates, totalling 100 fits\n",
      "Best MAE: 35256.54060158843\n",
      "poly_degree: 2\n",
      "Current lowest MAE: 35166.13571813103\n",
      "\n",
      "\n",
      "degree 3\n",
      "Fitting 5 folds for each of 20 candidates, totalling 100 fits\n"
     ]
    },
    {
     "name": "stderr",
     "output_type": "stream",
     "text": [
      "C:\\Users\\UBAN\\AppData\\Local\\Programs\\Python\\Python312\\Lib\\site-packages\\sklearn\\linear_model\\_coordinate_descent.py:697: ConvergenceWarning: Objective did not converge. You might want to increase the number of iterations, check the scale of the features or consider increasing regularisation. Duality gap: 2.717e+12, tolerance: 2.770e+09\n",
      "  model = cd_fast.enet_coordinate_descent(\n"
     ]
    },
    {
     "name": "stdout",
     "output_type": "stream",
     "text": [
      "Best MAE: 35021.28704741392\n",
      "poly_degree: 3\n",
      "Current lowest MAE: 35021.28704741392\n",
      "\n",
      "\n",
      "degree 4\n",
      "Fitting 5 folds for each of 20 candidates, totalling 100 fits\n"
     ]
    },
    {
     "name": "stderr",
     "output_type": "stream",
     "text": [
      "C:\\Users\\UBAN\\AppData\\Local\\Programs\\Python\\Python312\\Lib\\site-packages\\sklearn\\linear_model\\_coordinate_descent.py:697: ConvergenceWarning: Objective did not converge. You might want to increase the number of iterations, check the scale of the features or consider increasing regularisation. Duality gap: 7.155e+12, tolerance: 2.770e+09\n",
      "  model = cd_fast.enet_coordinate_descent(\n"
     ]
    },
    {
     "name": "stdout",
     "output_type": "stream",
     "text": [
      "Best MAE: 35008.67441016682\n",
      "poly_degree: 4\n",
      "Current lowest MAE: 35008.67441016682\n",
      "\n",
      "\n",
      "degree 5\n",
      "Fitting 5 folds for each of 20 candidates, totalling 100 fits\n"
     ]
    },
    {
     "name": "stderr",
     "output_type": "stream",
     "text": [
      "C:\\Users\\UBAN\\AppData\\Local\\Programs\\Python\\Python312\\Lib\\site-packages\\sklearn\\linear_model\\_coordinate_descent.py:697: ConvergenceWarning: Objective did not converge. You might want to increase the number of iterations, check the scale of the features or consider increasing regularisation. Duality gap: 7.127e+12, tolerance: 2.770e+09\n",
      "  model = cd_fast.enet_coordinate_descent(\n"
     ]
    },
    {
     "name": "stdout",
     "output_type": "stream",
     "text": [
      "Best MAE: 34953.75404418712\n",
      "poly_degree: 5\n",
      "Current lowest MAE: 34953.75404418712\n",
      "\n",
      "\n",
      "degree 6\n",
      "Fitting 5 folds for each of 20 candidates, totalling 100 fits\n"
     ]
    },
    {
     "name": "stderr",
     "output_type": "stream",
     "text": [
      "C:\\Users\\UBAN\\AppData\\Local\\Programs\\Python\\Python312\\Lib\\site-packages\\sklearn\\linear_model\\_coordinate_descent.py:697: ConvergenceWarning: Objective did not converge. You might want to increase the number of iterations, check the scale of the features or consider increasing regularisation. Duality gap: 7.089e+12, tolerance: 2.770e+09\n",
      "  model = cd_fast.enet_coordinate_descent(\n"
     ]
    },
    {
     "name": "stdout",
     "output_type": "stream",
     "text": [
      "Best MAE: 34982.13479624364\n",
      "poly_degree: 6\n",
      "Current lowest MAE: 34953.75404418712\n",
      "\n",
      "\n",
      "degree 7\n",
      "Fitting 5 folds for each of 20 candidates, totalling 100 fits\n"
     ]
    },
    {
     "name": "stderr",
     "output_type": "stream",
     "text": [
      "C:\\Users\\UBAN\\AppData\\Local\\Programs\\Python\\Python312\\Lib\\site-packages\\sklearn\\linear_model\\_coordinate_descent.py:697: ConvergenceWarning: Objective did not converge. You might want to increase the number of iterations, check the scale of the features or consider increasing regularisation. Duality gap: 7.121e+12, tolerance: 2.770e+09\n",
      "  model = cd_fast.enet_coordinate_descent(\n"
     ]
    },
    {
     "name": "stdout",
     "output_type": "stream",
     "text": [
      "Best MAE: 35000.43721204846\n",
      "poly_degree: 7\n",
      "Current lowest MAE: 34953.75404418712\n",
      "\n",
      "\n",
      "degree 8\n",
      "Fitting 5 folds for each of 20 candidates, totalling 100 fits\n"
     ]
    },
    {
     "name": "stderr",
     "output_type": "stream",
     "text": [
      "C:\\Users\\UBAN\\AppData\\Local\\Programs\\Python\\Python312\\Lib\\site-packages\\sklearn\\linear_model\\_coordinate_descent.py:697: ConvergenceWarning: Objective did not converge. You might want to increase the number of iterations, check the scale of the features or consider increasing regularisation. Duality gap: 7.136e+12, tolerance: 2.770e+09\n",
      "  model = cd_fast.enet_coordinate_descent(\n"
     ]
    },
    {
     "name": "stdout",
     "output_type": "stream",
     "text": [
      "Best MAE: 34994.15387556351\n",
      "poly_degree: 8\n",
      "Current lowest MAE: 34953.75404418712\n",
      "\n",
      "\n",
      "degree 9\n",
      "Fitting 5 folds for each of 20 candidates, totalling 100 fits\n"
     ]
    },
    {
     "name": "stderr",
     "output_type": "stream",
     "text": [
      "C:\\Users\\UBAN\\AppData\\Local\\Programs\\Python\\Python312\\Lib\\site-packages\\sklearn\\linear_model\\_coordinate_descent.py:697: ConvergenceWarning: Objective did not converge. You might want to increase the number of iterations, check the scale of the features or consider increasing regularisation. Duality gap: 7.139e+12, tolerance: 2.770e+09\n",
      "  model = cd_fast.enet_coordinate_descent(\n"
     ]
    },
    {
     "name": "stdout",
     "output_type": "stream",
     "text": [
      "Best MAE: 34975.38346364267\n",
      "poly_degree: 9\n",
      "Current lowest MAE: 34953.75404418712\n",
      "\n",
      "\n",
      "degree 10\n",
      "Fitting 5 folds for each of 20 candidates, totalling 100 fits\n"
     ]
    },
    {
     "name": "stderr",
     "output_type": "stream",
     "text": [
      "C:\\Users\\UBAN\\AppData\\Local\\Programs\\Python\\Python312\\Lib\\site-packages\\sklearn\\linear_model\\_coordinate_descent.py:697: ConvergenceWarning: Objective did not converge. You might want to increase the number of iterations, check the scale of the features or consider increasing regularisation. Duality gap: 7.137e+12, tolerance: 2.770e+09\n",
      "  model = cd_fast.enet_coordinate_descent(\n"
     ]
    },
    {
     "name": "stdout",
     "output_type": "stream",
     "text": [
      "Best MAE: 34953.98252726721\n",
      "poly_degree: 10\n",
      "Current lowest MAE: 34953.75404418712\n",
      "\n",
      "\n",
      "processing center_dist\n",
      "degree 1\n",
      "Fitting 5 folds for each of 20 candidates, totalling 100 fits\n",
      "Best MAE: 44005.358761409756\n",
      "poly_degree: 1\n",
      "Current lowest MAE: 34953.75404418712\n",
      "\n",
      "\n",
      "degree 2\n",
      "Fitting 5 folds for each of 20 candidates, totalling 100 fits\n",
      "Best MAE: 41378.30156123682\n",
      "poly_degree: 2\n",
      "Current lowest MAE: 34953.75404418712\n",
      "\n",
      "\n",
      "degree 3\n",
      "Fitting 5 folds for each of 20 candidates, totalling 100 fits\n"
     ]
    },
    {
     "name": "stderr",
     "output_type": "stream",
     "text": [
      "C:\\Users\\UBAN\\AppData\\Local\\Programs\\Python\\Python312\\Lib\\site-packages\\sklearn\\linear_model\\_coordinate_descent.py:697: ConvergenceWarning: Objective did not converge. You might want to increase the number of iterations, check the scale of the features or consider increasing regularisation. Duality gap: 8.766e+12, tolerance: 2.770e+09\n",
      "  model = cd_fast.enet_coordinate_descent(\n"
     ]
    },
    {
     "name": "stdout",
     "output_type": "stream",
     "text": [
      "Best MAE: 40722.98077513712\n",
      "poly_degree: 3\n",
      "Current lowest MAE: 34953.75404418712\n",
      "\n",
      "\n",
      "degree 4\n",
      "Fitting 5 folds for each of 20 candidates, totalling 100 fits\n"
     ]
    },
    {
     "name": "stderr",
     "output_type": "stream",
     "text": [
      "C:\\Users\\UBAN\\AppData\\Local\\Programs\\Python\\Python312\\Lib\\site-packages\\sklearn\\linear_model\\_coordinate_descent.py:697: ConvergenceWarning: Objective did not converge. You might want to increase the number of iterations, check the scale of the features or consider increasing regularisation. Duality gap: 9.948e+12, tolerance: 2.770e+09\n",
      "  model = cd_fast.enet_coordinate_descent(\n"
     ]
    },
    {
     "name": "stdout",
     "output_type": "stream",
     "text": [
      "Best MAE: 40746.08726816582\n",
      "poly_degree: 4\n",
      "Current lowest MAE: 34953.75404418712\n",
      "\n",
      "\n",
      "degree 5\n",
      "Fitting 5 folds for each of 20 candidates, totalling 100 fits\n"
     ]
    },
    {
     "name": "stderr",
     "output_type": "stream",
     "text": [
      "C:\\Users\\UBAN\\AppData\\Local\\Programs\\Python\\Python312\\Lib\\site-packages\\sklearn\\linear_model\\_coordinate_descent.py:697: ConvergenceWarning: Objective did not converge. You might want to increase the number of iterations, check the scale of the features or consider increasing regularisation. Duality gap: 1.002e+13, tolerance: 2.770e+09\n",
      "  model = cd_fast.enet_coordinate_descent(\n"
     ]
    },
    {
     "name": "stdout",
     "output_type": "stream",
     "text": [
      "Best MAE: 40739.53949577305\n",
      "poly_degree: 5\n",
      "Current lowest MAE: 34953.75404418712\n",
      "\n",
      "\n",
      "degree 6\n",
      "Fitting 5 folds for each of 20 candidates, totalling 100 fits\n"
     ]
    },
    {
     "name": "stderr",
     "output_type": "stream",
     "text": [
      "C:\\Users\\UBAN\\AppData\\Local\\Programs\\Python\\Python312\\Lib\\site-packages\\sklearn\\linear_model\\_coordinate_descent.py:697: ConvergenceWarning: Objective did not converge. You might want to increase the number of iterations, check the scale of the features or consider increasing regularisation. Duality gap: 9.995e+12, tolerance: 2.770e+09\n",
      "  model = cd_fast.enet_coordinate_descent(\n"
     ]
    },
    {
     "name": "stdout",
     "output_type": "stream",
     "text": [
      "Best MAE: 40727.22753379338\n",
      "poly_degree: 6\n",
      "Current lowest MAE: 34953.75404418712\n",
      "\n",
      "\n",
      "degree 7\n",
      "Fitting 5 folds for each of 20 candidates, totalling 100 fits\n"
     ]
    },
    {
     "name": "stderr",
     "output_type": "stream",
     "text": [
      "C:\\Users\\UBAN\\AppData\\Local\\Programs\\Python\\Python312\\Lib\\site-packages\\sklearn\\linear_model\\_coordinate_descent.py:697: ConvergenceWarning: Objective did not converge. You might want to increase the number of iterations, check the scale of the features or consider increasing regularisation. Duality gap: 9.902e+12, tolerance: 2.770e+09\n",
      "  model = cd_fast.enet_coordinate_descent(\n"
     ]
    },
    {
     "name": "stdout",
     "output_type": "stream",
     "text": [
      "Best MAE: 40726.3751327851\n",
      "poly_degree: 7\n",
      "Current lowest MAE: 34953.75404418712\n",
      "\n",
      "\n",
      "degree 8\n",
      "Fitting 5 folds for each of 20 candidates, totalling 100 fits\n"
     ]
    },
    {
     "name": "stderr",
     "output_type": "stream",
     "text": [
      "C:\\Users\\UBAN\\AppData\\Local\\Programs\\Python\\Python312\\Lib\\site-packages\\sklearn\\linear_model\\_coordinate_descent.py:697: ConvergenceWarning: Objective did not converge. You might want to increase the number of iterations, check the scale of the features or consider increasing regularisation. Duality gap: 9.782e+12, tolerance: 2.770e+09\n",
      "  model = cd_fast.enet_coordinate_descent(\n"
     ]
    },
    {
     "name": "stdout",
     "output_type": "stream",
     "text": [
      "Best MAE: 40732.580157085424\n",
      "poly_degree: 8\n",
      "Current lowest MAE: 34953.75404418712\n",
      "\n",
      "\n",
      "degree 9\n",
      "Fitting 5 folds for each of 20 candidates, totalling 100 fits\n"
     ]
    },
    {
     "name": "stderr",
     "output_type": "stream",
     "text": [
      "C:\\Users\\UBAN\\AppData\\Local\\Programs\\Python\\Python312\\Lib\\site-packages\\sklearn\\linear_model\\_coordinate_descent.py:697: ConvergenceWarning: Objective did not converge. You might want to increase the number of iterations, check the scale of the features or consider increasing regularisation. Duality gap: 9.807e+12, tolerance: 2.770e+09\n",
      "  model = cd_fast.enet_coordinate_descent(\n"
     ]
    },
    {
     "name": "stdout",
     "output_type": "stream",
     "text": [
      "Best MAE: 40739.988232606986\n",
      "poly_degree: 9\n",
      "Current lowest MAE: 34953.75404418712\n",
      "\n",
      "\n",
      "degree 10\n",
      "Fitting 5 folds for each of 20 candidates, totalling 100 fits\n"
     ]
    },
    {
     "name": "stderr",
     "output_type": "stream",
     "text": [
      "C:\\Users\\UBAN\\AppData\\Local\\Programs\\Python\\Python312\\Lib\\site-packages\\sklearn\\linear_model\\_coordinate_descent.py:697: ConvergenceWarning: Objective did not converge. You might want to increase the number of iterations, check the scale of the features or consider increasing regularisation. Duality gap: 9.883e+12, tolerance: 2.770e+09\n",
      "  model = cd_fast.enet_coordinate_descent(\n"
     ]
    },
    {
     "name": "stdout",
     "output_type": "stream",
     "text": [
      "Best MAE: 40746.38763546231\n",
      "poly_degree: 10\n",
      "Current lowest MAE: 34953.75404418712\n",
      "\n",
      "\n",
      "processing adult_hospitals_closest_km\n",
      "degree 1\n",
      "Fitting 5 folds for each of 20 candidates, totalling 100 fits\n",
      "Best MAE: 48695.17971419389\n",
      "poly_degree: 1\n",
      "Current lowest MAE: 34953.75404418712\n",
      "\n",
      "\n",
      "degree 2\n",
      "Fitting 5 folds for each of 20 candidates, totalling 100 fits\n",
      "Best MAE: 48630.9213371097\n",
      "poly_degree: 2\n",
      "Current lowest MAE: 34953.75404418712\n",
      "\n",
      "\n",
      "degree 3\n",
      "Fitting 5 folds for each of 20 candidates, totalling 100 fits\n",
      "Best MAE: 48508.407950911416\n",
      "poly_degree: 3\n",
      "Current lowest MAE: 34953.75404418712\n",
      "\n",
      "\n",
      "degree 4\n",
      "Fitting 5 folds for each of 20 candidates, totalling 100 fits\n"
     ]
    },
    {
     "name": "stderr",
     "output_type": "stream",
     "text": [
      "C:\\Users\\UBAN\\AppData\\Local\\Programs\\Python\\Python312\\Lib\\site-packages\\sklearn\\linear_model\\_coordinate_descent.py:697: ConvergenceWarning: Objective did not converge. You might want to increase the number of iterations, check the scale of the features or consider increasing regularisation. Duality gap: 1.310e+13, tolerance: 2.770e+09\n",
      "  model = cd_fast.enet_coordinate_descent(\n"
     ]
    },
    {
     "name": "stdout",
     "output_type": "stream",
     "text": [
      "Best MAE: 48469.48894192851\n",
      "poly_degree: 4\n",
      "Current lowest MAE: 34953.75404418712\n",
      "\n",
      "\n",
      "degree 5\n",
      "Fitting 5 folds for each of 20 candidates, totalling 100 fits\n"
     ]
    },
    {
     "name": "stderr",
     "output_type": "stream",
     "text": [
      "C:\\Users\\UBAN\\AppData\\Local\\Programs\\Python\\Python312\\Lib\\site-packages\\sklearn\\linear_model\\_coordinate_descent.py:697: ConvergenceWarning: Objective did not converge. You might want to increase the number of iterations, check the scale of the features or consider increasing regularisation. Duality gap: 1.299e+13, tolerance: 2.770e+09\n",
      "  model = cd_fast.enet_coordinate_descent(\n"
     ]
    },
    {
     "name": "stdout",
     "output_type": "stream",
     "text": [
      "Best MAE: 48448.41809403767\n",
      "poly_degree: 5\n",
      "Current lowest MAE: 34953.75404418712\n",
      "\n",
      "\n",
      "degree 6\n",
      "Fitting 5 folds for each of 20 candidates, totalling 100 fits\n"
     ]
    },
    {
     "name": "stderr",
     "output_type": "stream",
     "text": [
      "C:\\Users\\UBAN\\AppData\\Local\\Programs\\Python\\Python312\\Lib\\site-packages\\sklearn\\linear_model\\_coordinate_descent.py:697: ConvergenceWarning: Objective did not converge. You might want to increase the number of iterations, check the scale of the features or consider increasing regularisation. Duality gap: 1.258e+13, tolerance: 2.770e+09\n",
      "  model = cd_fast.enet_coordinate_descent(\n"
     ]
    },
    {
     "name": "stdout",
     "output_type": "stream",
     "text": [
      "Best MAE: 48467.241679032464\n",
      "poly_degree: 6\n",
      "Current lowest MAE: 34953.75404418712\n",
      "\n",
      "\n",
      "degree 7\n",
      "Fitting 5 folds for each of 20 candidates, totalling 100 fits\n"
     ]
    },
    {
     "name": "stderr",
     "output_type": "stream",
     "text": [
      "C:\\Users\\UBAN\\AppData\\Local\\Programs\\Python\\Python312\\Lib\\site-packages\\sklearn\\linear_model\\_coordinate_descent.py:697: ConvergenceWarning: Objective did not converge. You might want to increase the number of iterations, check the scale of the features or consider increasing regularisation. Duality gap: 1.287e+13, tolerance: 2.770e+09\n",
      "  model = cd_fast.enet_coordinate_descent(\n"
     ]
    },
    {
     "name": "stdout",
     "output_type": "stream",
     "text": [
      "Best MAE: 48471.76404353063\n",
      "poly_degree: 7\n",
      "Current lowest MAE: 34953.75404418712\n",
      "\n",
      "\n",
      "degree 8\n",
      "Fitting 5 folds for each of 20 candidates, totalling 100 fits\n"
     ]
    },
    {
     "name": "stderr",
     "output_type": "stream",
     "text": [
      "C:\\Users\\UBAN\\AppData\\Local\\Programs\\Python\\Python312\\Lib\\site-packages\\sklearn\\linear_model\\_coordinate_descent.py:697: ConvergenceWarning: Objective did not converge. You might want to increase the number of iterations, check the scale of the features or consider increasing regularisation. Duality gap: 1.300e+13, tolerance: 2.770e+09\n",
      "  model = cd_fast.enet_coordinate_descent(\n"
     ]
    },
    {
     "name": "stdout",
     "output_type": "stream",
     "text": [
      "Best MAE: 48462.938868908794\n",
      "poly_degree: 8\n",
      "Current lowest MAE: 34953.75404418712\n",
      "\n",
      "\n",
      "degree 9\n",
      "Fitting 5 folds for each of 20 candidates, totalling 100 fits\n"
     ]
    },
    {
     "name": "stderr",
     "output_type": "stream",
     "text": [
      "C:\\Users\\UBAN\\AppData\\Local\\Programs\\Python\\Python312\\Lib\\site-packages\\sklearn\\linear_model\\_coordinate_descent.py:697: ConvergenceWarning: Objective did not converge. You might want to increase the number of iterations, check the scale of the features or consider increasing regularisation. Duality gap: 1.303e+13, tolerance: 2.770e+09\n",
      "  model = cd_fast.enet_coordinate_descent(\n"
     ]
    },
    {
     "name": "stdout",
     "output_type": "stream",
     "text": [
      "Best MAE: 48448.402191218556\n",
      "poly_degree: 9\n",
      "Current lowest MAE: 34953.75404418712\n",
      "\n",
      "\n",
      "degree 10\n",
      "Fitting 5 folds for each of 20 candidates, totalling 100 fits\n"
     ]
    },
    {
     "name": "stderr",
     "output_type": "stream",
     "text": [
      "C:\\Users\\UBAN\\AppData\\Local\\Programs\\Python\\Python312\\Lib\\site-packages\\sklearn\\linear_model\\_coordinate_descent.py:697: ConvergenceWarning: Objective did not converge. You might want to increase the number of iterations, check the scale of the features or consider increasing regularisation. Duality gap: 1.302e+13, tolerance: 2.770e+09\n",
      "  model = cd_fast.enet_coordinate_descent(\n"
     ]
    },
    {
     "name": "stdout",
     "output_type": "stream",
     "text": [
      "Best MAE: 48433.8542167055\n",
      "poly_degree: 10\n",
      "Current lowest MAE: 34953.75404418712\n",
      "\n",
      "\n",
      "processing bus_stations_closest_km\n",
      "degree 1\n",
      "Fitting 5 folds for each of 20 candidates, totalling 100 fits\n",
      "Best MAE: 44963.73603596762\n",
      "poly_degree: 1\n",
      "Current lowest MAE: 34953.75404418712\n",
      "\n",
      "\n",
      "degree 2\n",
      "Fitting 5 folds for each of 20 candidates, totalling 100 fits\n",
      "Best MAE: 45228.36276766837\n",
      "poly_degree: 2\n",
      "Current lowest MAE: 34953.75404418712\n",
      "\n",
      "\n",
      "degree 3\n",
      "Fitting 5 folds for each of 20 candidates, totalling 100 fits\n"
     ]
    },
    {
     "name": "stderr",
     "output_type": "stream",
     "text": [
      "C:\\Users\\UBAN\\AppData\\Local\\Programs\\Python\\Python312\\Lib\\site-packages\\sklearn\\linear_model\\_coordinate_descent.py:697: ConvergenceWarning: Objective did not converge. You might want to increase the number of iterations, check the scale of the features or consider increasing regularisation. Duality gap: 1.042e+13, tolerance: 2.770e+09\n",
      "  model = cd_fast.enet_coordinate_descent(\n"
     ]
    },
    {
     "name": "stdout",
     "output_type": "stream",
     "text": [
      "Best MAE: 43837.06327457879\n",
      "poly_degree: 3\n",
      "Current lowest MAE: 34953.75404418712\n",
      "\n",
      "\n",
      "degree 4\n",
      "Fitting 5 folds for each of 20 candidates, totalling 100 fits\n"
     ]
    },
    {
     "name": "stderr",
     "output_type": "stream",
     "text": [
      "C:\\Users\\UBAN\\AppData\\Local\\Programs\\Python\\Python312\\Lib\\site-packages\\sklearn\\linear_model\\_coordinate_descent.py:697: ConvergenceWarning: Objective did not converge. You might want to increase the number of iterations, check the scale of the features or consider increasing regularisation. Duality gap: 1.097e+13, tolerance: 2.770e+09\n",
      "  model = cd_fast.enet_coordinate_descent(\n"
     ]
    },
    {
     "name": "stdout",
     "output_type": "stream",
     "text": [
      "Best MAE: 43169.650481417964\n",
      "poly_degree: 4\n",
      "Current lowest MAE: 34953.75404418712\n",
      "\n",
      "\n",
      "degree 5\n",
      "Fitting 5 folds for each of 20 candidates, totalling 100 fits\n"
     ]
    },
    {
     "name": "stderr",
     "output_type": "stream",
     "text": [
      "C:\\Users\\UBAN\\AppData\\Local\\Programs\\Python\\Python312\\Lib\\site-packages\\sklearn\\linear_model\\_coordinate_descent.py:697: ConvergenceWarning: Objective did not converge. You might want to increase the number of iterations, check the scale of the features or consider increasing regularisation. Duality gap: 9.626e+10, tolerance: 2.770e+09\n",
      "  model = cd_fast.enet_coordinate_descent(\n"
     ]
    },
    {
     "name": "stdout",
     "output_type": "stream",
     "text": [
      "Best MAE: 43088.16158024645\n",
      "poly_degree: 5\n",
      "Current lowest MAE: 34953.75404418712\n",
      "\n",
      "\n",
      "degree 6\n",
      "Fitting 5 folds for each of 20 candidates, totalling 100 fits\n",
      "Best MAE: 43114.88362063661\n",
      "poly_degree: 6\n",
      "Current lowest MAE: 34953.75404418712\n",
      "\n",
      "\n",
      "degree 7\n",
      "Fitting 5 folds for each of 20 candidates, totalling 100 fits\n"
     ]
    },
    {
     "name": "stderr",
     "output_type": "stream",
     "text": [
      "C:\\Users\\UBAN\\AppData\\Local\\Programs\\Python\\Python312\\Lib\\site-packages\\sklearn\\linear_model\\_coordinate_descent.py:697: ConvergenceWarning: Objective did not converge. You might want to increase the number of iterations, check the scale of the features or consider increasing regularisation. Duality gap: 6.024e+09, tolerance: 2.770e+09\n",
      "  model = cd_fast.enet_coordinate_descent(\n"
     ]
    },
    {
     "name": "stdout",
     "output_type": "stream",
     "text": [
      "Best MAE: 43163.75339499765\n",
      "poly_degree: 7\n",
      "Current lowest MAE: 34953.75404418712\n",
      "\n",
      "\n",
      "degree 8\n",
      "Fitting 5 folds for each of 20 candidates, totalling 100 fits\n"
     ]
    },
    {
     "name": "stderr",
     "output_type": "stream",
     "text": [
      "C:\\Users\\UBAN\\AppData\\Local\\Programs\\Python\\Python312\\Lib\\site-packages\\sklearn\\linear_model\\_coordinate_descent.py:697: ConvergenceWarning: Objective did not converge. You might want to increase the number of iterations, check the scale of the features or consider increasing regularisation. Duality gap: 1.095e+13, tolerance: 2.770e+09\n",
      "  model = cd_fast.enet_coordinate_descent(\n"
     ]
    },
    {
     "name": "stdout",
     "output_type": "stream",
     "text": [
      "Best MAE: 43091.766148163784\n",
      "poly_degree: 8\n",
      "Current lowest MAE: 34953.75404418712\n",
      "\n",
      "\n",
      "degree 9\n",
      "Fitting 5 folds for each of 20 candidates, totalling 100 fits\n"
     ]
    },
    {
     "name": "stderr",
     "output_type": "stream",
     "text": [
      "C:\\Users\\UBAN\\AppData\\Local\\Programs\\Python\\Python312\\Lib\\site-packages\\sklearn\\linear_model\\_coordinate_descent.py:697: ConvergenceWarning: Objective did not converge. You might want to increase the number of iterations, check the scale of the features or consider increasing regularisation. Duality gap: 6.319e+12, tolerance: 2.770e+09\n",
      "  model = cd_fast.enet_coordinate_descent(\n"
     ]
    },
    {
     "name": "stdout",
     "output_type": "stream",
     "text": [
      "Best MAE: 42967.102126107595\n",
      "poly_degree: 9\n",
      "Current lowest MAE: 34953.75404418712\n",
      "\n",
      "\n",
      "degree 10\n",
      "Fitting 5 folds for each of 20 candidates, totalling 100 fits\n"
     ]
    },
    {
     "name": "stderr",
     "output_type": "stream",
     "text": [
      "C:\\Users\\UBAN\\AppData\\Local\\Programs\\Python\\Python312\\Lib\\site-packages\\sklearn\\linear_model\\_coordinate_descent.py:697: ConvergenceWarning: Objective did not converge. You might want to increase the number of iterations, check the scale of the features or consider increasing regularisation. Duality gap: 3.194e+11, tolerance: 2.770e+09\n",
      "  model = cd_fast.enet_coordinate_descent(\n"
     ]
    },
    {
     "name": "stdout",
     "output_type": "stream",
     "text": [
      "Best MAE: 42930.15869650191\n",
      "poly_degree: 10\n",
      "Current lowest MAE: 34953.75404418712\n",
      "\n",
      "\n",
      "processing bus_stops_closest_km\n",
      "degree 1\n",
      "Fitting 5 folds for each of 20 candidates, totalling 100 fits\n",
      "Best MAE: 50277.60930592297\n",
      "poly_degree: 1\n",
      "Current lowest MAE: 34953.75404418712\n",
      "\n",
      "\n",
      "degree 2\n",
      "Fitting 5 folds for each of 20 candidates, totalling 100 fits\n",
      "Best MAE: 50279.46680565299\n",
      "poly_degree: 2\n",
      "Current lowest MAE: 34953.75404418712\n",
      "\n",
      "\n",
      "degree 3\n",
      "Fitting 5 folds for each of 20 candidates, totalling 100 fits\n",
      "Best MAE: 50280.92681907622\n",
      "poly_degree: 3\n",
      "Current lowest MAE: 34953.75404418712\n",
      "\n",
      "\n",
      "degree 4\n",
      "Fitting 5 folds for each of 20 candidates, totalling 100 fits\n",
      "Best MAE: 50284.4910744089\n",
      "poly_degree: 4\n",
      "Current lowest MAE: 34953.75404418712\n",
      "\n",
      "\n",
      "degree 5\n",
      "Fitting 5 folds for each of 20 candidates, totalling 100 fits\n"
     ]
    },
    {
     "name": "stderr",
     "output_type": "stream",
     "text": [
      "C:\\Users\\UBAN\\AppData\\Local\\Programs\\Python\\Python312\\Lib\\site-packages\\sklearn\\linear_model\\_coordinate_descent.py:697: ConvergenceWarning: Objective did not converge. You might want to increase the number of iterations, check the scale of the features or consider increasing regularisation. Duality gap: 1.336e+13, tolerance: 2.770e+09\n",
      "  model = cd_fast.enet_coordinate_descent(\n"
     ]
    },
    {
     "name": "stdout",
     "output_type": "stream",
     "text": [
      "Best MAE: 50277.39620377954\n",
      "poly_degree: 5\n",
      "Current lowest MAE: 34953.75404418712\n",
      "\n",
      "\n",
      "degree 6\n",
      "Fitting 5 folds for each of 20 candidates, totalling 100 fits\n"
     ]
    },
    {
     "name": "stderr",
     "output_type": "stream",
     "text": [
      "C:\\Users\\UBAN\\AppData\\Local\\Programs\\Python\\Python312\\Lib\\site-packages\\sklearn\\linear_model\\_coordinate_descent.py:697: ConvergenceWarning: Objective did not converge. You might want to increase the number of iterations, check the scale of the features or consider increasing regularisation. Duality gap: 1.352e+13, tolerance: 2.770e+09\n",
      "  model = cd_fast.enet_coordinate_descent(\n"
     ]
    },
    {
     "name": "stdout",
     "output_type": "stream",
     "text": [
      "Best MAE: 50267.86061269485\n",
      "poly_degree: 6\n",
      "Current lowest MAE: 34953.75404418712\n",
      "\n",
      "\n",
      "degree 7\n",
      "Fitting 5 folds for each of 20 candidates, totalling 100 fits\n"
     ]
    },
    {
     "name": "stderr",
     "output_type": "stream",
     "text": [
      "C:\\Users\\UBAN\\AppData\\Local\\Programs\\Python\\Python312\\Lib\\site-packages\\sklearn\\linear_model\\_coordinate_descent.py:697: ConvergenceWarning: Objective did not converge. You might want to increase the number of iterations, check the scale of the features or consider increasing regularisation. Duality gap: 1.360e+13, tolerance: 2.770e+09\n",
      "  model = cd_fast.enet_coordinate_descent(\n"
     ]
    },
    {
     "name": "stdout",
     "output_type": "stream",
     "text": [
      "Best MAE: 50262.60727548356\n",
      "poly_degree: 7\n",
      "Current lowest MAE: 34953.75404418712\n",
      "\n",
      "\n",
      "degree 8\n",
      "Fitting 5 folds for each of 20 candidates, totalling 100 fits\n",
      "Best MAE: 50261.61799909671\n",
      "poly_degree: 8\n",
      "Current lowest MAE: 34953.75404418712\n",
      "\n",
      "\n",
      "degree 9\n",
      "Fitting 5 folds for each of 20 candidates, totalling 100 fits\n",
      "Best MAE: 50260.316476104155\n",
      "poly_degree: 9\n",
      "Current lowest MAE: 34953.75404418712\n",
      "\n",
      "\n",
      "degree 10\n",
      "Fitting 5 folds for each of 20 candidates, totalling 100 fits\n",
      "Best MAE: 50260.700210928466\n",
      "poly_degree: 10\n",
      "Current lowest MAE: 34953.75404418712\n",
      "\n",
      "\n",
      "processing bus_stops_less500m\n",
      "degree 1\n",
      "Fitting 5 folds for each of 20 candidates, totalling 100 fits\n",
      "Best MAE: 50169.93984044364\n",
      "poly_degree: 1\n",
      "Current lowest MAE: 34953.75404418712\n",
      "\n",
      "\n",
      "degree 2\n",
      "Fitting 5 folds for each of 20 candidates, totalling 100 fits\n",
      "Best MAE: 50164.30325233938\n",
      "poly_degree: 2\n",
      "Current lowest MAE: 34953.75404418712\n",
      "\n",
      "\n",
      "degree 3\n",
      "Fitting 5 folds for each of 20 candidates, totalling 100 fits\n",
      "Best MAE: 50096.3069999109\n",
      "poly_degree: 3\n",
      "Current lowest MAE: 34953.75404418712\n",
      "\n",
      "\n",
      "degree 4\n",
      "Fitting 5 folds for each of 20 candidates, totalling 100 fits\n",
      "Best MAE: 50102.44484104451\n",
      "poly_degree: 4\n",
      "Current lowest MAE: 34953.75404418712\n",
      "\n",
      "\n",
      "degree 5\n",
      "Fitting 5 folds for each of 20 candidates, totalling 100 fits\n"
     ]
    },
    {
     "name": "stderr",
     "output_type": "stream",
     "text": [
      "C:\\Users\\UBAN\\AppData\\Local\\Programs\\Python\\Python312\\Lib\\site-packages\\sklearn\\linear_model\\_coordinate_descent.py:697: ConvergenceWarning: Objective did not converge. You might want to increase the number of iterations, check the scale of the features or consider increasing regularisation. Duality gap: 1.352e+13, tolerance: 2.770e+09\n",
      "  model = cd_fast.enet_coordinate_descent(\n"
     ]
    },
    {
     "name": "stdout",
     "output_type": "stream",
     "text": [
      "Best MAE: 50129.55962783186\n",
      "poly_degree: 5\n",
      "Current lowest MAE: 34953.75404418712\n",
      "\n",
      "\n",
      "degree 6\n",
      "Fitting 5 folds for each of 20 candidates, totalling 100 fits\n"
     ]
    },
    {
     "name": "stderr",
     "output_type": "stream",
     "text": [
      "C:\\Users\\UBAN\\AppData\\Local\\Programs\\Python\\Python312\\Lib\\site-packages\\sklearn\\linear_model\\_coordinate_descent.py:697: ConvergenceWarning: Objective did not converge. You might want to increase the number of iterations, check the scale of the features or consider increasing regularisation. Duality gap: 1.354e+13, tolerance: 2.770e+09\n",
      "  model = cd_fast.enet_coordinate_descent(\n"
     ]
    },
    {
     "name": "stdout",
     "output_type": "stream",
     "text": [
      "Best MAE: 50047.23783946434\n",
      "poly_degree: 6\n",
      "Current lowest MAE: 34953.75404418712\n",
      "\n",
      "\n",
      "degree 7\n",
      "Fitting 5 folds for each of 20 candidates, totalling 100 fits\n"
     ]
    },
    {
     "name": "stderr",
     "output_type": "stream",
     "text": [
      "C:\\Users\\UBAN\\AppData\\Local\\Programs\\Python\\Python312\\Lib\\site-packages\\sklearn\\linear_model\\_coordinate_descent.py:697: ConvergenceWarning: Objective did not converge. You might want to increase the number of iterations, check the scale of the features or consider increasing regularisation. Duality gap: 4.388e+11, tolerance: 2.770e+09\n",
      "  model = cd_fast.enet_coordinate_descent(\n"
     ]
    },
    {
     "name": "stdout",
     "output_type": "stream",
     "text": [
      "Best MAE: 50037.66621534859\n",
      "poly_degree: 7\n",
      "Current lowest MAE: 34953.75404418712\n",
      "\n",
      "\n",
      "degree 8\n",
      "Fitting 5 folds for each of 20 candidates, totalling 100 fits\n"
     ]
    },
    {
     "name": "stderr",
     "output_type": "stream",
     "text": [
      "C:\\Users\\UBAN\\AppData\\Local\\Programs\\Python\\Python312\\Lib\\site-packages\\sklearn\\linear_model\\_coordinate_descent.py:697: ConvergenceWarning: Objective did not converge. You might want to increase the number of iterations, check the scale of the features or consider increasing regularisation. Duality gap: 4.405e+10, tolerance: 2.770e+09\n",
      "  model = cd_fast.enet_coordinate_descent(\n"
     ]
    },
    {
     "name": "stdout",
     "output_type": "stream",
     "text": [
      "Best MAE: 50051.4006912977\n",
      "poly_degree: 8\n",
      "Current lowest MAE: 34953.75404418712\n",
      "\n",
      "\n",
      "degree 9\n",
      "Fitting 5 folds for each of 20 candidates, totalling 100 fits\n"
     ]
    },
    {
     "name": "stderr",
     "output_type": "stream",
     "text": [
      "C:\\Users\\UBAN\\AppData\\Local\\Programs\\Python\\Python312\\Lib\\site-packages\\sklearn\\linear_model\\_coordinate_descent.py:697: ConvergenceWarning: Objective did not converge. You might want to increase the number of iterations, check the scale of the features or consider increasing regularisation. Duality gap: 6.124e+09, tolerance: 2.770e+09\n",
      "  model = cd_fast.enet_coordinate_descent(\n"
     ]
    },
    {
     "name": "stdout",
     "output_type": "stream",
     "text": [
      "Best MAE: 50066.22815266623\n",
      "poly_degree: 9\n",
      "Current lowest MAE: 34953.75404418712\n",
      "\n",
      "\n",
      "degree 10\n",
      "Fitting 5 folds for each of 20 candidates, totalling 100 fits\n",
      "Best MAE: 50070.69955141447\n",
      "poly_degree: 10\n",
      "Current lowest MAE: 34953.75404418712\n",
      "\n",
      "\n",
      "processing bus_stops_0.5-1km\n",
      "degree 1\n",
      "Fitting 5 folds for each of 20 candidates, totalling 100 fits\n",
      "Best MAE: 49197.489467534804\n",
      "poly_degree: 1\n",
      "Current lowest MAE: 34953.75404418712\n",
      "\n",
      "\n",
      "degree 2\n",
      "Fitting 5 folds for each of 20 candidates, totalling 100 fits\n",
      "Best MAE: 49048.50825799325\n",
      "poly_degree: 2\n",
      "Current lowest MAE: 34953.75404418712\n",
      "\n",
      "\n",
      "degree 3\n",
      "Fitting 5 folds for each of 20 candidates, totalling 100 fits\n",
      "Best MAE: 49018.22525350186\n",
      "poly_degree: 3\n",
      "Current lowest MAE: 34953.75404418712\n",
      "\n",
      "\n",
      "degree 4\n",
      "Fitting 5 folds for each of 20 candidates, totalling 100 fits\n",
      "Best MAE: 49017.64593998634\n",
      "poly_degree: 4\n",
      "Current lowest MAE: 34953.75404418712\n",
      "\n",
      "\n",
      "degree 5\n",
      "Fitting 5 folds for each of 20 candidates, totalling 100 fits\n"
     ]
    },
    {
     "name": "stderr",
     "output_type": "stream",
     "text": [
      "C:\\Users\\UBAN\\AppData\\Local\\Programs\\Python\\Python312\\Lib\\site-packages\\sklearn\\linear_model\\_coordinate_descent.py:697: ConvergenceWarning: Objective did not converge. You might want to increase the number of iterations, check the scale of the features or consider increasing regularisation. Duality gap: 1.318e+13, tolerance: 2.770e+09\n",
      "  model = cd_fast.enet_coordinate_descent(\n"
     ]
    },
    {
     "name": "stdout",
     "output_type": "stream",
     "text": [
      "Best MAE: 49014.89687225954\n",
      "poly_degree: 5\n",
      "Current lowest MAE: 34953.75404418712\n",
      "\n",
      "\n",
      "degree 6\n",
      "Fitting 5 folds for each of 20 candidates, totalling 100 fits\n"
     ]
    },
    {
     "name": "stderr",
     "output_type": "stream",
     "text": [
      "C:\\Users\\UBAN\\AppData\\Local\\Programs\\Python\\Python312\\Lib\\site-packages\\sklearn\\linear_model\\_coordinate_descent.py:697: ConvergenceWarning: Objective did not converge. You might want to increase the number of iterations, check the scale of the features or consider increasing regularisation. Duality gap: 1.310e+13, tolerance: 2.770e+09\n",
      "  model = cd_fast.enet_coordinate_descent(\n"
     ]
    },
    {
     "name": "stdout",
     "output_type": "stream",
     "text": [
      "Best MAE: 49006.33074086895\n",
      "poly_degree: 6\n",
      "Current lowest MAE: 34953.75404418712\n",
      "\n",
      "\n",
      "degree 7\n",
      "Fitting 5 folds for each of 20 candidates, totalling 100 fits\n"
     ]
    },
    {
     "name": "stderr",
     "output_type": "stream",
     "text": [
      "C:\\Users\\UBAN\\AppData\\Local\\Programs\\Python\\Python312\\Lib\\site-packages\\sklearn\\linear_model\\_coordinate_descent.py:697: ConvergenceWarning: Objective did not converge. You might want to increase the number of iterations, check the scale of the features or consider increasing regularisation. Duality gap: 1.273e+13, tolerance: 2.770e+09\n",
      "  model = cd_fast.enet_coordinate_descent(\n"
     ]
    },
    {
     "name": "stdout",
     "output_type": "stream",
     "text": [
      "Best MAE: 49004.401717123365\n",
      "poly_degree: 7\n",
      "Current lowest MAE: 34953.75404418712\n",
      "\n",
      "\n",
      "degree 8\n",
      "Fitting 5 folds for each of 20 candidates, totalling 100 fits\n"
     ]
    },
    {
     "name": "stderr",
     "output_type": "stream",
     "text": [
      "C:\\Users\\UBAN\\AppData\\Local\\Programs\\Python\\Python312\\Lib\\site-packages\\sklearn\\linear_model\\_coordinate_descent.py:697: ConvergenceWarning: Objective did not converge. You might want to increase the number of iterations, check the scale of the features or consider increasing regularisation. Duality gap: 1.209e+13, tolerance: 2.770e+09\n",
      "  model = cd_fast.enet_coordinate_descent(\n"
     ]
    },
    {
     "name": "stdout",
     "output_type": "stream",
     "text": [
      "Best MAE: 49005.09557851682\n",
      "poly_degree: 8\n",
      "Current lowest MAE: 34953.75404418712\n",
      "\n",
      "\n",
      "degree 9\n",
      "Fitting 5 folds for each of 20 candidates, totalling 100 fits\n"
     ]
    },
    {
     "name": "stderr",
     "output_type": "stream",
     "text": [
      "C:\\Users\\UBAN\\AppData\\Local\\Programs\\Python\\Python312\\Lib\\site-packages\\sklearn\\linear_model\\_coordinate_descent.py:697: ConvergenceWarning: Objective did not converge. You might want to increase the number of iterations, check the scale of the features or consider increasing regularisation. Duality gap: 1.230e+13, tolerance: 2.770e+09\n",
      "  model = cd_fast.enet_coordinate_descent(\n"
     ]
    },
    {
     "name": "stdout",
     "output_type": "stream",
     "text": [
      "Best MAE: 49006.68922217257\n",
      "poly_degree: 9\n",
      "Current lowest MAE: 34953.75404418712\n",
      "\n",
      "\n",
      "degree 10\n",
      "Fitting 5 folds for each of 20 candidates, totalling 100 fits\n"
     ]
    },
    {
     "name": "stderr",
     "output_type": "stream",
     "text": [
      "C:\\Users\\UBAN\\AppData\\Local\\Programs\\Python\\Python312\\Lib\\site-packages\\sklearn\\linear_model\\_coordinate_descent.py:697: ConvergenceWarning: Objective did not converge. You might want to increase the number of iterations, check the scale of the features or consider increasing regularisation. Duality gap: 1.260e+13, tolerance: 2.770e+09\n",
      "  model = cd_fast.enet_coordinate_descent(\n"
     ]
    },
    {
     "name": "stdout",
     "output_type": "stream",
     "text": [
      "Best MAE: 49008.58901538172\n",
      "poly_degree: 10\n",
      "Current lowest MAE: 34953.75404418712\n",
      "\n",
      "\n",
      "processing bus_stops_1-3km\n",
      "degree 1\n",
      "Fitting 5 folds for each of 20 candidates, totalling 100 fits\n",
      "Best MAE: 45252.69337154762\n",
      "poly_degree: 1\n",
      "Current lowest MAE: 34953.75404418712\n",
      "\n",
      "\n",
      "degree 2\n",
      "Fitting 5 folds for each of 20 candidates, totalling 100 fits\n",
      "Best MAE: 44782.18901462103\n",
      "poly_degree: 2\n",
      "Current lowest MAE: 34953.75404418712\n",
      "\n",
      "\n",
      "degree 3\n",
      "Fitting 5 folds for each of 20 candidates, totalling 100 fits\n"
     ]
    },
    {
     "name": "stderr",
     "output_type": "stream",
     "text": [
      "C:\\Users\\UBAN\\AppData\\Local\\Programs\\Python\\Python312\\Lib\\site-packages\\sklearn\\linear_model\\_coordinate_descent.py:697: ConvergenceWarning: Objective did not converge. You might want to increase the number of iterations, check the scale of the features or consider increasing regularisation. Duality gap: 1.156e+13, tolerance: 2.770e+09\n",
      "  model = cd_fast.enet_coordinate_descent(\n"
     ]
    },
    {
     "name": "stdout",
     "output_type": "stream",
     "text": [
      "Best MAE: 44769.87165272792\n",
      "poly_degree: 3\n",
      "Current lowest MAE: 34953.75404418712\n",
      "\n",
      "\n",
      "degree 4\n",
      "Fitting 5 folds for each of 20 candidates, totalling 100 fits\n"
     ]
    },
    {
     "name": "stderr",
     "output_type": "stream",
     "text": [
      "C:\\Users\\UBAN\\AppData\\Local\\Programs\\Python\\Python312\\Lib\\site-packages\\sklearn\\linear_model\\_coordinate_descent.py:697: ConvergenceWarning: Objective did not converge. You might want to increase the number of iterations, check the scale of the features or consider increasing regularisation. Duality gap: 1.149e+13, tolerance: 2.770e+09\n",
      "  model = cd_fast.enet_coordinate_descent(\n"
     ]
    },
    {
     "name": "stdout",
     "output_type": "stream",
     "text": [
      "Best MAE: 44722.51049479524\n",
      "poly_degree: 4\n",
      "Current lowest MAE: 34953.75404418712\n",
      "\n",
      "\n",
      "degree 5\n",
      "Fitting 5 folds for each of 20 candidates, totalling 100 fits\n"
     ]
    },
    {
     "name": "stderr",
     "output_type": "stream",
     "text": [
      "C:\\Users\\UBAN\\AppData\\Local\\Programs\\Python\\Python312\\Lib\\site-packages\\sklearn\\linear_model\\_coordinate_descent.py:697: ConvergenceWarning: Objective did not converge. You might want to increase the number of iterations, check the scale of the features or consider increasing regularisation. Duality gap: 1.158e+13, tolerance: 2.770e+09\n",
      "  model = cd_fast.enet_coordinate_descent(\n"
     ]
    },
    {
     "name": "stdout",
     "output_type": "stream",
     "text": [
      "Best MAE: 44646.68115044785\n",
      "poly_degree: 5\n",
      "Current lowest MAE: 34953.75404418712\n",
      "\n",
      "\n",
      "degree 6\n",
      "Fitting 5 folds for each of 20 candidates, totalling 100 fits\n"
     ]
    },
    {
     "name": "stderr",
     "output_type": "stream",
     "text": [
      "C:\\Users\\UBAN\\AppData\\Local\\Programs\\Python\\Python312\\Lib\\site-packages\\sklearn\\linear_model\\_coordinate_descent.py:697: ConvergenceWarning: Objective did not converge. You might want to increase the number of iterations, check the scale of the features or consider increasing regularisation. Duality gap: 1.158e+13, tolerance: 2.770e+09\n",
      "  model = cd_fast.enet_coordinate_descent(\n"
     ]
    },
    {
     "name": "stdout",
     "output_type": "stream",
     "text": [
      "Best MAE: 44571.73558444395\n",
      "poly_degree: 6\n",
      "Current lowest MAE: 34953.75404418712\n",
      "\n",
      "\n",
      "degree 7\n",
      "Fitting 5 folds for each of 20 candidates, totalling 100 fits\n"
     ]
    },
    {
     "name": "stderr",
     "output_type": "stream",
     "text": [
      "C:\\Users\\UBAN\\AppData\\Local\\Programs\\Python\\Python312\\Lib\\site-packages\\sklearn\\linear_model\\_coordinate_descent.py:697: ConvergenceWarning: Objective did not converge. You might want to increase the number of iterations, check the scale of the features or consider increasing regularisation. Duality gap: 1.155e+13, tolerance: 2.770e+09\n",
      "  model = cd_fast.enet_coordinate_descent(\n"
     ]
    },
    {
     "name": "stdout",
     "output_type": "stream",
     "text": [
      "Best MAE: 44524.19303717035\n",
      "poly_degree: 7\n",
      "Current lowest MAE: 34953.75404418712\n",
      "\n",
      "\n",
      "degree 8\n",
      "Fitting 5 folds for each of 20 candidates, totalling 100 fits\n"
     ]
    },
    {
     "name": "stderr",
     "output_type": "stream",
     "text": [
      "C:\\Users\\UBAN\\AppData\\Local\\Programs\\Python\\Python312\\Lib\\site-packages\\sklearn\\linear_model\\_coordinate_descent.py:697: ConvergenceWarning: Objective did not converge. You might want to increase the number of iterations, check the scale of the features or consider increasing regularisation. Duality gap: 1.150e+13, tolerance: 2.770e+09\n",
      "  model = cd_fast.enet_coordinate_descent(\n"
     ]
    },
    {
     "name": "stdout",
     "output_type": "stream",
     "text": [
      "Best MAE: 44504.530916814096\n",
      "poly_degree: 8\n",
      "Current lowest MAE: 34953.75404418712\n",
      "\n",
      "\n",
      "degree 9\n",
      "Fitting 5 folds for each of 20 candidates, totalling 100 fits\n"
     ]
    },
    {
     "name": "stderr",
     "output_type": "stream",
     "text": [
      "C:\\Users\\UBAN\\AppData\\Local\\Programs\\Python\\Python312\\Lib\\site-packages\\sklearn\\linear_model\\_coordinate_descent.py:697: ConvergenceWarning: Objective did not converge. You might want to increase the number of iterations, check the scale of the features or consider increasing regularisation. Duality gap: 1.142e+13, tolerance: 2.770e+09\n",
      "  model = cd_fast.enet_coordinate_descent(\n"
     ]
    },
    {
     "name": "stdout",
     "output_type": "stream",
     "text": [
      "Best MAE: 44503.927381649686\n",
      "poly_degree: 9\n",
      "Current lowest MAE: 34953.75404418712\n",
      "\n",
      "\n",
      "degree 10\n",
      "Fitting 5 folds for each of 20 candidates, totalling 100 fits\n"
     ]
    },
    {
     "name": "stderr",
     "output_type": "stream",
     "text": [
      "C:\\Users\\UBAN\\AppData\\Local\\Programs\\Python\\Python312\\Lib\\site-packages\\sklearn\\linear_model\\_coordinate_descent.py:697: ConvergenceWarning: Objective did not converge. You might want to increase the number of iterations, check the scale of the features or consider increasing regularisation. Duality gap: 1.131e+13, tolerance: 2.770e+09\n",
      "  model = cd_fast.enet_coordinate_descent(\n"
     ]
    },
    {
     "name": "stdout",
     "output_type": "stream",
     "text": [
      "Best MAE: 44509.32096835895\n",
      "poly_degree: 10\n",
      "Current lowest MAE: 34953.75404418712\n",
      "\n",
      "\n",
      "processing bus_stops_3-5km\n",
      "degree 1\n",
      "Fitting 5 folds for each of 20 candidates, totalling 100 fits\n",
      "Best MAE: 44566.79903382447\n",
      "poly_degree: 1\n",
      "Current lowest MAE: 34953.75404418712\n",
      "\n",
      "\n",
      "degree 2\n",
      "Fitting 5 folds for each of 20 candidates, totalling 100 fits\n",
      "Best MAE: 44067.48614550503\n",
      "poly_degree: 2\n",
      "Current lowest MAE: 34953.75404418712\n",
      "\n",
      "\n",
      "degree 3\n",
      "Fitting 5 folds for each of 20 candidates, totalling 100 fits\n"
     ]
    },
    {
     "name": "stderr",
     "output_type": "stream",
     "text": [
      "C:\\Users\\UBAN\\AppData\\Local\\Programs\\Python\\Python312\\Lib\\site-packages\\sklearn\\linear_model\\_coordinate_descent.py:697: ConvergenceWarning: Objective did not converge. You might want to increase the number of iterations, check the scale of the features or consider increasing regularisation. Duality gap: 1.703e+11, tolerance: 2.770e+09\n",
      "  model = cd_fast.enet_coordinate_descent(\n"
     ]
    },
    {
     "name": "stdout",
     "output_type": "stream",
     "text": [
      "Best MAE: 44065.157752536405\n",
      "poly_degree: 3\n",
      "Current lowest MAE: 34953.75404418712\n",
      "\n",
      "\n",
      "degree 4\n",
      "Fitting 5 folds for each of 20 candidates, totalling 100 fits\n"
     ]
    },
    {
     "name": "stderr",
     "output_type": "stream",
     "text": [
      "C:\\Users\\UBAN\\AppData\\Local\\Programs\\Python\\Python312\\Lib\\site-packages\\sklearn\\linear_model\\_coordinate_descent.py:697: ConvergenceWarning: Objective did not converge. You might want to increase the number of iterations, check the scale of the features or consider increasing regularisation. Duality gap: 1.246e+11, tolerance: 2.770e+09\n",
      "  model = cd_fast.enet_coordinate_descent(\n"
     ]
    },
    {
     "name": "stdout",
     "output_type": "stream",
     "text": [
      "Best MAE: 44075.77405197573\n",
      "poly_degree: 4\n",
      "Current lowest MAE: 34953.75404418712\n",
      "\n",
      "\n",
      "degree 5\n",
      "Fitting 5 folds for each of 20 candidates, totalling 100 fits\n"
     ]
    },
    {
     "name": "stderr",
     "output_type": "stream",
     "text": [
      "C:\\Users\\UBAN\\AppData\\Local\\Programs\\Python\\Python312\\Lib\\site-packages\\sklearn\\linear_model\\_coordinate_descent.py:697: ConvergenceWarning: Objective did not converge. You might want to increase the number of iterations, check the scale of the features or consider increasing regularisation. Duality gap: 3.237e+10, tolerance: 2.770e+09\n",
      "  model = cd_fast.enet_coordinate_descent(\n"
     ]
    },
    {
     "name": "stdout",
     "output_type": "stream",
     "text": [
      "Best MAE: 44078.49693891535\n",
      "poly_degree: 5\n",
      "Current lowest MAE: 34953.75404418712\n",
      "\n",
      "\n",
      "degree 6\n",
      "Fitting 5 folds for each of 20 candidates, totalling 100 fits\n"
     ]
    },
    {
     "name": "stderr",
     "output_type": "stream",
     "text": [
      "C:\\Users\\UBAN\\AppData\\Local\\Programs\\Python\\Python312\\Lib\\site-packages\\sklearn\\linear_model\\_coordinate_descent.py:697: ConvergenceWarning: Objective did not converge. You might want to increase the number of iterations, check the scale of the features or consider increasing regularisation. Duality gap: 6.116e+09, tolerance: 2.770e+09\n",
      "  model = cd_fast.enet_coordinate_descent(\n"
     ]
    },
    {
     "name": "stdout",
     "output_type": "stream",
     "text": [
      "Best MAE: 44081.145043371376\n",
      "poly_degree: 6\n",
      "Current lowest MAE: 34953.75404418712\n",
      "\n",
      "\n",
      "degree 7\n",
      "Fitting 5 folds for each of 20 candidates, totalling 100 fits\n"
     ]
    },
    {
     "name": "stderr",
     "output_type": "stream",
     "text": [
      "C:\\Users\\UBAN\\AppData\\Local\\Programs\\Python\\Python312\\Lib\\site-packages\\sklearn\\linear_model\\_coordinate_descent.py:697: ConvergenceWarning: Objective did not converge. You might want to increase the number of iterations, check the scale of the features or consider increasing regularisation. Duality gap: 6.263e+09, tolerance: 2.770e+09\n",
      "  model = cd_fast.enet_coordinate_descent(\n"
     ]
    },
    {
     "name": "stdout",
     "output_type": "stream",
     "text": [
      "Best MAE: 44083.78058380069\n",
      "poly_degree: 7\n",
      "Current lowest MAE: 34953.75404418712\n",
      "\n",
      "\n",
      "degree 8\n",
      "Fitting 5 folds for each of 20 candidates, totalling 100 fits\n",
      "Best MAE: 44086.676983473844\n",
      "poly_degree: 8\n",
      "Current lowest MAE: 34953.75404418712\n",
      "\n",
      "\n",
      "degree 9\n",
      "Fitting 5 folds for each of 20 candidates, totalling 100 fits\n",
      "Best MAE: 44090.02555508334\n",
      "poly_degree: 9\n",
      "Current lowest MAE: 34953.75404418712\n",
      "\n",
      "\n",
      "degree 10\n",
      "Fitting 5 folds for each of 20 candidates, totalling 100 fits\n",
      "Best MAE: 44092.15186552467\n",
      "poly_degree: 10\n",
      "Current lowest MAE: 34953.75404418712\n",
      "\n",
      "\n",
      "processing eco_boiler_closest_km\n",
      "degree 1\n",
      "Fitting 5 folds for each of 20 candidates, totalling 100 fits\n",
      "Best MAE: 46499.6430084159\n",
      "poly_degree: 1\n",
      "Current lowest MAE: 34953.75404418712\n",
      "\n",
      "\n",
      "degree 2\n",
      "Fitting 5 folds for each of 20 candidates, totalling 100 fits\n",
      "Best MAE: 45215.26157148254\n",
      "poly_degree: 2\n",
      "Current lowest MAE: 34953.75404418712\n",
      "\n",
      "\n",
      "degree 3\n",
      "Fitting 5 folds for each of 20 candidates, totalling 100 fits\n"
     ]
    },
    {
     "name": "stderr",
     "output_type": "stream",
     "text": [
      "C:\\Users\\UBAN\\AppData\\Local\\Programs\\Python\\Python312\\Lib\\site-packages\\sklearn\\linear_model\\_coordinate_descent.py:697: ConvergenceWarning: Objective did not converge. You might want to increase the number of iterations, check the scale of the features or consider increasing regularisation. Duality gap: 2.653e+12, tolerance: 2.770e+09\n",
      "  model = cd_fast.enet_coordinate_descent(\n"
     ]
    },
    {
     "name": "stdout",
     "output_type": "stream",
     "text": [
      "Best MAE: 45174.393025412945\n",
      "poly_degree: 3\n",
      "Current lowest MAE: 34953.75404418712\n",
      "\n",
      "\n",
      "degree 4\n",
      "Fitting 5 folds for each of 20 candidates, totalling 100 fits\n"
     ]
    },
    {
     "name": "stderr",
     "output_type": "stream",
     "text": [
      "C:\\Users\\UBAN\\AppData\\Local\\Programs\\Python\\Python312\\Lib\\site-packages\\sklearn\\linear_model\\_coordinate_descent.py:697: ConvergenceWarning: Objective did not converge. You might want to increase the number of iterations, check the scale of the features or consider increasing regularisation. Duality gap: 1.169e+13, tolerance: 2.770e+09\n",
      "  model = cd_fast.enet_coordinate_descent(\n"
     ]
    },
    {
     "name": "stdout",
     "output_type": "stream",
     "text": [
      "Best MAE: 45038.03887545216\n",
      "poly_degree: 4\n",
      "Current lowest MAE: 34953.75404418712\n",
      "\n",
      "\n",
      "degree 5\n",
      "Fitting 5 folds for each of 20 candidates, totalling 100 fits\n"
     ]
    },
    {
     "name": "stderr",
     "output_type": "stream",
     "text": [
      "C:\\Users\\UBAN\\AppData\\Local\\Programs\\Python\\Python312\\Lib\\site-packages\\sklearn\\linear_model\\_coordinate_descent.py:697: ConvergenceWarning: Objective did not converge. You might want to increase the number of iterations, check the scale of the features or consider increasing regularisation. Duality gap: 4.249e+11, tolerance: 2.770e+09\n",
      "  model = cd_fast.enet_coordinate_descent(\n"
     ]
    },
    {
     "name": "stdout",
     "output_type": "stream",
     "text": [
      "Best MAE: 45062.68683504333\n",
      "poly_degree: 5\n",
      "Current lowest MAE: 34953.75404418712\n",
      "\n",
      "\n",
      "degree 6\n",
      "Fitting 5 folds for each of 20 candidates, totalling 100 fits\n"
     ]
    },
    {
     "name": "stderr",
     "output_type": "stream",
     "text": [
      "C:\\Users\\UBAN\\AppData\\Local\\Programs\\Python\\Python312\\Lib\\site-packages\\sklearn\\linear_model\\_coordinate_descent.py:697: ConvergenceWarning: Objective did not converge. You might want to increase the number of iterations, check the scale of the features or consider increasing regularisation. Duality gap: 1.163e+13, tolerance: 2.770e+09\n",
      "  model = cd_fast.enet_coordinate_descent(\n"
     ]
    },
    {
     "name": "stdout",
     "output_type": "stream",
     "text": [
      "Best MAE: 45053.53666010708\n",
      "poly_degree: 6\n",
      "Current lowest MAE: 34953.75404418712\n",
      "\n",
      "\n",
      "degree 7\n",
      "Fitting 5 folds for each of 20 candidates, totalling 100 fits\n"
     ]
    },
    {
     "name": "stderr",
     "output_type": "stream",
     "text": [
      "C:\\Users\\UBAN\\AppData\\Local\\Programs\\Python\\Python312\\Lib\\site-packages\\sklearn\\linear_model\\_coordinate_descent.py:697: ConvergenceWarning: Objective did not converge. You might want to increase the number of iterations, check the scale of the features or consider increasing regularisation. Duality gap: 1.168e+13, tolerance: 2.770e+09\n",
      "  model = cd_fast.enet_coordinate_descent(\n"
     ]
    },
    {
     "name": "stdout",
     "output_type": "stream",
     "text": [
      "Best MAE: 45061.06851922021\n",
      "poly_degree: 7\n",
      "Current lowest MAE: 34953.75404418712\n",
      "\n",
      "\n",
      "degree 8\n",
      "Fitting 5 folds for each of 20 candidates, totalling 100 fits\n"
     ]
    },
    {
     "name": "stderr",
     "output_type": "stream",
     "text": [
      "C:\\Users\\UBAN\\AppData\\Local\\Programs\\Python\\Python312\\Lib\\site-packages\\sklearn\\linear_model\\_coordinate_descent.py:697: ConvergenceWarning: Objective did not converge. You might want to increase the number of iterations, check the scale of the features or consider increasing regularisation. Duality gap: 1.169e+13, tolerance: 2.770e+09\n",
      "  model = cd_fast.enet_coordinate_descent(\n"
     ]
    },
    {
     "name": "stdout",
     "output_type": "stream",
     "text": [
      "Best MAE: 45074.623919140955\n",
      "poly_degree: 8\n",
      "Current lowest MAE: 34953.75404418712\n",
      "\n",
      "\n",
      "degree 9\n",
      "Fitting 5 folds for each of 20 candidates, totalling 100 fits\n"
     ]
    },
    {
     "name": "stderr",
     "output_type": "stream",
     "text": [
      "C:\\Users\\UBAN\\AppData\\Local\\Programs\\Python\\Python312\\Lib\\site-packages\\sklearn\\linear_model\\_coordinate_descent.py:697: ConvergenceWarning: Objective did not converge. You might want to increase the number of iterations, check the scale of the features or consider increasing regularisation. Duality gap: 1.171e+13, tolerance: 2.770e+09\n",
      "  model = cd_fast.enet_coordinate_descent(\n"
     ]
    },
    {
     "name": "stdout",
     "output_type": "stream",
     "text": [
      "Best MAE: 45080.63290574002\n",
      "poly_degree: 9\n",
      "Current lowest MAE: 34953.75404418712\n",
      "\n",
      "\n",
      "degree 10\n",
      "Fitting 5 folds for each of 20 candidates, totalling 100 fits\n"
     ]
    },
    {
     "name": "stderr",
     "output_type": "stream",
     "text": [
      "C:\\Users\\UBAN\\AppData\\Local\\Programs\\Python\\Python312\\Lib\\site-packages\\sklearn\\linear_model\\_coordinate_descent.py:697: ConvergenceWarning: Objective did not converge. You might want to increase the number of iterations, check the scale of the features or consider increasing regularisation. Duality gap: 1.171e+13, tolerance: 2.770e+09\n",
      "  model = cd_fast.enet_coordinate_descent(\n"
     ]
    },
    {
     "name": "stdout",
     "output_type": "stream",
     "text": [
      "Best MAE: 45082.26129805774\n",
      "poly_degree: 10\n",
      "Current lowest MAE: 34953.75404418712\n",
      "\n",
      "\n",
      "processing eco_dump_closest_km\n",
      "degree 1\n",
      "Fitting 5 folds for each of 20 candidates, totalling 100 fits\n",
      "Best MAE: 46181.41416081683\n",
      "poly_degree: 1\n",
      "Current lowest MAE: 34953.75404418712\n",
      "\n",
      "\n",
      "degree 2\n",
      "Fitting 5 folds for each of 20 candidates, totalling 100 fits\n",
      "Best MAE: 45210.17954867889\n",
      "poly_degree: 2\n",
      "Current lowest MAE: 34953.75404418712\n",
      "\n",
      "\n",
      "degree 3\n",
      "Fitting 5 folds for each of 20 candidates, totalling 100 fits\n",
      "Best MAE: 45187.705427243935\n",
      "poly_degree: 3\n",
      "Current lowest MAE: 34953.75404418712\n",
      "\n",
      "\n",
      "degree 4\n",
      "Fitting 5 folds for each of 20 candidates, totalling 100 fits\n",
      "Best MAE: 45182.926119247306\n",
      "poly_degree: 4\n",
      "Current lowest MAE: 34953.75404418712\n",
      "\n",
      "\n",
      "degree 5\n",
      "Fitting 5 folds for each of 20 candidates, totalling 100 fits\n",
      "Best MAE: 45195.88848367295\n",
      "poly_degree: 5\n",
      "Current lowest MAE: 34953.75404418712\n",
      "\n",
      "\n",
      "degree 6\n",
      "Fitting 5 folds for each of 20 candidates, totalling 100 fits\n",
      "Best MAE: 45215.17648010775\n",
      "poly_degree: 6\n",
      "Current lowest MAE: 34953.75404418712\n",
      "\n",
      "\n",
      "degree 7\n",
      "Fitting 5 folds for each of 20 candidates, totalling 100 fits\n",
      "Best MAE: 45232.41410975963\n",
      "poly_degree: 7\n",
      "Current lowest MAE: 34953.75404418712\n",
      "\n",
      "\n",
      "degree 8\n",
      "Fitting 5 folds for each of 20 candidates, totalling 100 fits\n",
      "Best MAE: 45235.674937312586\n",
      "poly_degree: 8\n",
      "Current lowest MAE: 34953.75404418712\n",
      "\n",
      "\n",
      "degree 9\n",
      "Fitting 5 folds for each of 20 candidates, totalling 100 fits\n",
      "Best MAE: 45237.078401242674\n",
      "poly_degree: 9\n",
      "Current lowest MAE: 34953.75404418712\n",
      "\n",
      "\n",
      "degree 10\n",
      "Fitting 5 folds for each of 20 candidates, totalling 100 fits\n"
     ]
    },
    {
     "name": "stderr",
     "output_type": "stream",
     "text": [
      "C:\\Users\\UBAN\\AppData\\Local\\Programs\\Python\\Python312\\Lib\\site-packages\\sklearn\\linear_model\\_coordinate_descent.py:697: ConvergenceWarning: Objective did not converge. You might want to increase the number of iterations, check the scale of the features or consider increasing regularisation. Duality gap: 4.062e+09, tolerance: 2.770e+09\n",
      "  model = cd_fast.enet_coordinate_descent(\n"
     ]
    },
    {
     "name": "stdout",
     "output_type": "stream",
     "text": [
      "Best MAE: 45240.482913432126\n",
      "poly_degree: 10\n",
      "Current lowest MAE: 34953.75404418712\n",
      "\n",
      "\n",
      "processing eco_factory_closest_km\n",
      "degree 1\n",
      "Fitting 5 folds for each of 20 candidates, totalling 100 fits\n",
      "Best MAE: 49233.77664383888\n",
      "poly_degree: 1\n",
      "Current lowest MAE: 34953.75404418712\n",
      "\n",
      "\n",
      "degree 2\n",
      "Fitting 5 folds for each of 20 candidates, totalling 100 fits\n",
      "Best MAE: 49590.60595231851\n",
      "poly_degree: 2\n",
      "Current lowest MAE: 34953.75404418712\n",
      "\n",
      "\n",
      "degree 3\n",
      "Fitting 5 folds for each of 20 candidates, totalling 100 fits\n",
      "Best MAE: 49190.144061564744\n",
      "poly_degree: 3\n",
      "Current lowest MAE: 34953.75404418712\n",
      "\n",
      "\n",
      "degree 4\n",
      "Fitting 5 folds for each of 20 candidates, totalling 100 fits\n"
     ]
    },
    {
     "name": "stderr",
     "output_type": "stream",
     "text": [
      "C:\\Users\\UBAN\\AppData\\Local\\Programs\\Python\\Python312\\Lib\\site-packages\\sklearn\\linear_model\\_coordinate_descent.py:697: ConvergenceWarning: Objective did not converge. You might want to increase the number of iterations, check the scale of the features or consider increasing regularisation. Duality gap: 1.326e+13, tolerance: 2.770e+09\n",
      "  model = cd_fast.enet_coordinate_descent(\n"
     ]
    },
    {
     "name": "stdout",
     "output_type": "stream",
     "text": [
      "Best MAE: 49231.21877696684\n",
      "poly_degree: 4\n",
      "Current lowest MAE: 34953.75404418712\n",
      "\n",
      "\n",
      "degree 5\n",
      "Fitting 5 folds for each of 20 candidates, totalling 100 fits\n"
     ]
    },
    {
     "name": "stderr",
     "output_type": "stream",
     "text": [
      "C:\\Users\\UBAN\\AppData\\Local\\Programs\\Python\\Python312\\Lib\\site-packages\\sklearn\\linear_model\\_coordinate_descent.py:697: ConvergenceWarning: Objective did not converge. You might want to increase the number of iterations, check the scale of the features or consider increasing regularisation. Duality gap: 1.324e+13, tolerance: 2.770e+09\n",
      "  model = cd_fast.enet_coordinate_descent(\n"
     ]
    },
    {
     "name": "stdout",
     "output_type": "stream",
     "text": [
      "Best MAE: 49082.86026966752\n",
      "poly_degree: 5\n",
      "Current lowest MAE: 34953.75404418712\n",
      "\n",
      "\n",
      "degree 6\n",
      "Fitting 5 folds for each of 20 candidates, totalling 100 fits\n"
     ]
    },
    {
     "name": "stderr",
     "output_type": "stream",
     "text": [
      "C:\\Users\\UBAN\\AppData\\Local\\Programs\\Python\\Python312\\Lib\\site-packages\\sklearn\\linear_model\\_coordinate_descent.py:697: ConvergenceWarning: Objective did not converge. You might want to increase the number of iterations, check the scale of the features or consider increasing regularisation. Duality gap: 1.322e+13, tolerance: 2.770e+09\n",
      "  model = cd_fast.enet_coordinate_descent(\n"
     ]
    },
    {
     "name": "stdout",
     "output_type": "stream",
     "text": [
      "Best MAE: 49115.06937035416\n",
      "poly_degree: 6\n",
      "Current lowest MAE: 34953.75404418712\n",
      "\n",
      "\n",
      "degree 7\n",
      "Fitting 5 folds for each of 20 candidates, totalling 100 fits\n"
     ]
    },
    {
     "name": "stderr",
     "output_type": "stream",
     "text": [
      "C:\\Users\\UBAN\\AppData\\Local\\Programs\\Python\\Python312\\Lib\\site-packages\\sklearn\\linear_model\\_coordinate_descent.py:697: ConvergenceWarning: Objective did not converge. You might want to increase the number of iterations, check the scale of the features or consider increasing regularisation. Duality gap: 1.320e+13, tolerance: 2.770e+09\n",
      "  model = cd_fast.enet_coordinate_descent(\n"
     ]
    },
    {
     "name": "stdout",
     "output_type": "stream",
     "text": [
      "Best MAE: 49116.63406764863\n",
      "poly_degree: 7\n",
      "Current lowest MAE: 34953.75404418712\n",
      "\n",
      "\n",
      "degree 8\n",
      "Fitting 5 folds for each of 20 candidates, totalling 100 fits\n"
     ]
    },
    {
     "name": "stderr",
     "output_type": "stream",
     "text": [
      "C:\\Users\\UBAN\\AppData\\Local\\Programs\\Python\\Python312\\Lib\\site-packages\\sklearn\\linear_model\\_coordinate_descent.py:697: ConvergenceWarning: Objective did not converge. You might want to increase the number of iterations, check the scale of the features or consider increasing regularisation. Duality gap: 1.320e+13, tolerance: 2.770e+09\n",
      "  model = cd_fast.enet_coordinate_descent(\n"
     ]
    },
    {
     "name": "stdout",
     "output_type": "stream",
     "text": [
      "Best MAE: 49095.11239236074\n",
      "poly_degree: 8\n",
      "Current lowest MAE: 34953.75404418712\n",
      "\n",
      "\n",
      "degree 9\n",
      "Fitting 5 folds for each of 20 candidates, totalling 100 fits\n"
     ]
    },
    {
     "name": "stderr",
     "output_type": "stream",
     "text": [
      "C:\\Users\\UBAN\\AppData\\Local\\Programs\\Python\\Python312\\Lib\\site-packages\\sklearn\\linear_model\\_coordinate_descent.py:697: ConvergenceWarning: Objective did not converge. You might want to increase the number of iterations, check the scale of the features or consider increasing regularisation. Duality gap: 1.321e+13, tolerance: 2.770e+09\n",
      "  model = cd_fast.enet_coordinate_descent(\n"
     ]
    },
    {
     "name": "stdout",
     "output_type": "stream",
     "text": [
      "Best MAE: 49074.05320362161\n",
      "poly_degree: 9\n",
      "Current lowest MAE: 34953.75404418712\n",
      "\n",
      "\n",
      "degree 10\n",
      "Fitting 5 folds for each of 20 candidates, totalling 100 fits\n"
     ]
    },
    {
     "name": "stderr",
     "output_type": "stream",
     "text": [
      "C:\\Users\\UBAN\\AppData\\Local\\Programs\\Python\\Python312\\Lib\\site-packages\\sklearn\\linear_model\\_coordinate_descent.py:697: ConvergenceWarning: Objective did not converge. You might want to increase the number of iterations, check the scale of the features or consider increasing regularisation. Duality gap: 1.322e+13, tolerance: 2.770e+09\n",
      "  model = cd_fast.enet_coordinate_descent(\n"
     ]
    },
    {
     "name": "stdout",
     "output_type": "stream",
     "text": [
      "Best MAE: 49056.93621765527\n",
      "poly_degree: 10\n",
      "Current lowest MAE: 34953.75404418712\n",
      "\n",
      "\n",
      "processing eco_thermal_closest_km\n",
      "degree 1\n",
      "Fitting 5 folds for each of 20 candidates, totalling 100 fits\n",
      "Best MAE: 49656.61624188412\n",
      "poly_degree: 1\n",
      "Current lowest MAE: 34953.75404418712\n",
      "\n",
      "\n",
      "degree 2\n",
      "Fitting 5 folds for each of 20 candidates, totalling 100 fits\n",
      "Best MAE: 50205.95685692644\n",
      "poly_degree: 2\n",
      "Current lowest MAE: 34953.75404418712\n",
      "\n",
      "\n",
      "degree 3\n",
      "Fitting 5 folds for each of 20 candidates, totalling 100 fits\n",
      "Best MAE: 49650.21501584727\n",
      "poly_degree: 3\n",
      "Current lowest MAE: 34953.75404418712\n",
      "\n",
      "\n",
      "degree 4\n",
      "Fitting 5 folds for each of 20 candidates, totalling 100 fits\n"
     ]
    },
    {
     "name": "stderr",
     "output_type": "stream",
     "text": [
      "C:\\Users\\UBAN\\AppData\\Local\\Programs\\Python\\Python312\\Lib\\site-packages\\sklearn\\linear_model\\_coordinate_descent.py:697: ConvergenceWarning: Objective did not converge. You might want to increase the number of iterations, check the scale of the features or consider increasing regularisation. Duality gap: 1.349e+13, tolerance: 2.770e+09\n",
      "  model = cd_fast.enet_coordinate_descent(\n"
     ]
    },
    {
     "name": "stdout",
     "output_type": "stream",
     "text": [
      "Best MAE: 49619.485508410005\n",
      "poly_degree: 4\n",
      "Current lowest MAE: 34953.75404418712\n",
      "\n",
      "\n",
      "degree 5\n",
      "Fitting 5 folds for each of 20 candidates, totalling 100 fits\n"
     ]
    },
    {
     "name": "stderr",
     "output_type": "stream",
     "text": [
      "C:\\Users\\UBAN\\AppData\\Local\\Programs\\Python\\Python312\\Lib\\site-packages\\sklearn\\linear_model\\_coordinate_descent.py:697: ConvergenceWarning: Objective did not converge. You might want to increase the number of iterations, check the scale of the features or consider increasing regularisation. Duality gap: 1.348e+13, tolerance: 2.770e+09\n",
      "  model = cd_fast.enet_coordinate_descent(\n"
     ]
    },
    {
     "name": "stdout",
     "output_type": "stream",
     "text": [
      "Best MAE: 49562.44318345493\n",
      "poly_degree: 5\n",
      "Current lowest MAE: 34953.75404418712\n",
      "\n",
      "\n",
      "degree 6\n",
      "Fitting 5 folds for each of 20 candidates, totalling 100 fits\n"
     ]
    },
    {
     "name": "stderr",
     "output_type": "stream",
     "text": [
      "C:\\Users\\UBAN\\AppData\\Local\\Programs\\Python\\Python312\\Lib\\site-packages\\sklearn\\linear_model\\_coordinate_descent.py:697: ConvergenceWarning: Objective did not converge. You might want to increase the number of iterations, check the scale of the features or consider increasing regularisation. Duality gap: 1.345e+13, tolerance: 2.770e+09\n",
      "  model = cd_fast.enet_coordinate_descent(\n"
     ]
    },
    {
     "name": "stdout",
     "output_type": "stream",
     "text": [
      "Best MAE: 49606.06536793186\n",
      "poly_degree: 6\n",
      "Current lowest MAE: 34953.75404418712\n",
      "\n",
      "\n",
      "degree 7\n",
      "Fitting 5 folds for each of 20 candidates, totalling 100 fits\n"
     ]
    },
    {
     "name": "stderr",
     "output_type": "stream",
     "text": [
      "C:\\Users\\UBAN\\AppData\\Local\\Programs\\Python\\Python312\\Lib\\site-packages\\sklearn\\linear_model\\_coordinate_descent.py:697: ConvergenceWarning: Objective did not converge. You might want to increase the number of iterations, check the scale of the features or consider increasing regularisation. Duality gap: 1.342e+13, tolerance: 2.770e+09\n",
      "  model = cd_fast.enet_coordinate_descent(\n"
     ]
    },
    {
     "name": "stdout",
     "output_type": "stream",
     "text": [
      "Best MAE: 49626.821468198636\n",
      "poly_degree: 7\n",
      "Current lowest MAE: 34953.75404418712\n",
      "\n",
      "\n",
      "degree 8\n",
      "Fitting 5 folds for each of 20 candidates, totalling 100 fits\n"
     ]
    },
    {
     "name": "stderr",
     "output_type": "stream",
     "text": [
      "C:\\Users\\UBAN\\AppData\\Local\\Programs\\Python\\Python312\\Lib\\site-packages\\sklearn\\linear_model\\_coordinate_descent.py:697: ConvergenceWarning: Objective did not converge. You might want to increase the number of iterations, check the scale of the features or consider increasing regularisation. Duality gap: 1.342e+13, tolerance: 2.770e+09\n",
      "  model = cd_fast.enet_coordinate_descent(\n"
     ]
    },
    {
     "name": "stdout",
     "output_type": "stream",
     "text": [
      "Best MAE: 49600.4953209347\n",
      "poly_degree: 8\n",
      "Current lowest MAE: 34953.75404418712\n",
      "\n",
      "\n",
      "degree 9\n",
      "Fitting 5 folds for each of 20 candidates, totalling 100 fits\n"
     ]
    },
    {
     "name": "stderr",
     "output_type": "stream",
     "text": [
      "C:\\Users\\UBAN\\AppData\\Local\\Programs\\Python\\Python312\\Lib\\site-packages\\sklearn\\linear_model\\_coordinate_descent.py:697: ConvergenceWarning: Objective did not converge. You might want to increase the number of iterations, check the scale of the features or consider increasing regularisation. Duality gap: 1.344e+13, tolerance: 2.770e+09\n",
      "  model = cd_fast.enet_coordinate_descent(\n"
     ]
    },
    {
     "name": "stdout",
     "output_type": "stream",
     "text": [
      "Best MAE: 49542.937146689525\n",
      "poly_degree: 9\n",
      "Current lowest MAE: 34953.75404418712\n",
      "\n",
      "\n",
      "degree 10\n",
      "Fitting 5 folds for each of 20 candidates, totalling 100 fits\n"
     ]
    },
    {
     "name": "stderr",
     "output_type": "stream",
     "text": [
      "C:\\Users\\UBAN\\AppData\\Local\\Programs\\Python\\Python312\\Lib\\site-packages\\sklearn\\linear_model\\_coordinate_descent.py:697: ConvergenceWarning: Objective did not converge. You might want to increase the number of iterations, check the scale of the features or consider increasing regularisation. Duality gap: 1.346e+13, tolerance: 2.770e+09\n",
      "  model = cd_fast.enet_coordinate_descent(\n"
     ]
    },
    {
     "name": "stdout",
     "output_type": "stream",
     "text": [
      "Best MAE: 49523.93503533385\n",
      "poly_degree: 10\n",
      "Current lowest MAE: 34953.75404418712\n",
      "\n",
      "\n",
      "processing eco_waste_closest_km\n",
      "degree 1\n",
      "Fitting 5 folds for each of 20 candidates, totalling 100 fits\n",
      "Best MAE: 49176.575590303575\n",
      "poly_degree: 1\n",
      "Current lowest MAE: 34953.75404418712\n",
      "\n",
      "\n",
      "degree 2\n",
      "Fitting 5 folds for each of 20 candidates, totalling 100 fits\n",
      "Best MAE: 47308.83443117174\n",
      "poly_degree: 2\n",
      "Current lowest MAE: 34953.75404418712\n",
      "\n",
      "\n",
      "degree 3\n",
      "Fitting 5 folds for each of 20 candidates, totalling 100 fits\n",
      "Best MAE: 47335.981668698485\n",
      "poly_degree: 3\n",
      "Current lowest MAE: 34953.75404418712\n",
      "\n",
      "\n",
      "degree 4\n",
      "Fitting 5 folds for each of 20 candidates, totalling 100 fits\n"
     ]
    },
    {
     "name": "stderr",
     "output_type": "stream",
     "text": [
      "C:\\Users\\UBAN\\AppData\\Local\\Programs\\Python\\Python312\\Lib\\site-packages\\sklearn\\linear_model\\_coordinate_descent.py:697: ConvergenceWarning: Objective did not converge. You might want to increase the number of iterations, check the scale of the features or consider increasing regularisation. Duality gap: 1.236e+13, tolerance: 2.770e+09\n",
      "  model = cd_fast.enet_coordinate_descent(\n"
     ]
    },
    {
     "name": "stdout",
     "output_type": "stream",
     "text": [
      "Best MAE: 47128.735226243836\n",
      "poly_degree: 4\n",
      "Current lowest MAE: 34953.75404418712\n",
      "\n",
      "\n",
      "degree 5\n",
      "Fitting 5 folds for each of 20 candidates, totalling 100 fits\n"
     ]
    },
    {
     "name": "stderr",
     "output_type": "stream",
     "text": [
      "C:\\Users\\UBAN\\AppData\\Local\\Programs\\Python\\Python312\\Lib\\site-packages\\sklearn\\linear_model\\_coordinate_descent.py:697: ConvergenceWarning: Objective did not converge. You might want to increase the number of iterations, check the scale of the features or consider increasing regularisation. Duality gap: 1.226e+13, tolerance: 2.770e+09\n",
      "  model = cd_fast.enet_coordinate_descent(\n"
     ]
    },
    {
     "name": "stdout",
     "output_type": "stream",
     "text": [
      "Best MAE: 46693.20157462148\n",
      "poly_degree: 5\n",
      "Current lowest MAE: 34953.75404418712\n",
      "\n",
      "\n",
      "degree 6\n",
      "Fitting 5 folds for each of 20 candidates, totalling 100 fits\n"
     ]
    },
    {
     "name": "stderr",
     "output_type": "stream",
     "text": [
      "C:\\Users\\UBAN\\AppData\\Local\\Programs\\Python\\Python312\\Lib\\site-packages\\sklearn\\linear_model\\_coordinate_descent.py:697: ConvergenceWarning: Objective did not converge. You might want to increase the number of iterations, check the scale of the features or consider increasing regularisation. Duality gap: 1.223e+13, tolerance: 2.770e+09\n",
      "  model = cd_fast.enet_coordinate_descent(\n"
     ]
    },
    {
     "name": "stdout",
     "output_type": "stream",
     "text": [
      "Best MAE: 46641.90912084404\n",
      "poly_degree: 6\n",
      "Current lowest MAE: 34953.75404418712\n",
      "\n",
      "\n",
      "degree 7\n",
      "Fitting 5 folds for each of 20 candidates, totalling 100 fits\n"
     ]
    },
    {
     "name": "stderr",
     "output_type": "stream",
     "text": [
      "C:\\Users\\UBAN\\AppData\\Local\\Programs\\Python\\Python312\\Lib\\site-packages\\sklearn\\linear_model\\_coordinate_descent.py:697: ConvergenceWarning: Objective did not converge. You might want to increase the number of iterations, check the scale of the features or consider increasing regularisation. Duality gap: 1.223e+13, tolerance: 2.770e+09\n",
      "  model = cd_fast.enet_coordinate_descent(\n"
     ]
    },
    {
     "name": "stdout",
     "output_type": "stream",
     "text": [
      "Best MAE: 46681.64978366579\n",
      "poly_degree: 7\n",
      "Current lowest MAE: 34953.75404418712\n",
      "\n",
      "\n",
      "degree 8\n",
      "Fitting 5 folds for each of 20 candidates, totalling 100 fits\n"
     ]
    },
    {
     "name": "stderr",
     "output_type": "stream",
     "text": [
      "C:\\Users\\UBAN\\AppData\\Local\\Programs\\Python\\Python312\\Lib\\site-packages\\sklearn\\linear_model\\_coordinate_descent.py:697: ConvergenceWarning: Objective did not converge. You might want to increase the number of iterations, check the scale of the features or consider increasing regularisation. Duality gap: 1.224e+13, tolerance: 2.770e+09\n",
      "  model = cd_fast.enet_coordinate_descent(\n"
     ]
    },
    {
     "name": "stdout",
     "output_type": "stream",
     "text": [
      "Best MAE: 46680.41289173625\n",
      "poly_degree: 8\n",
      "Current lowest MAE: 34953.75404418712\n",
      "\n",
      "\n",
      "degree 9\n",
      "Fitting 5 folds for each of 20 candidates, totalling 100 fits\n"
     ]
    },
    {
     "name": "stderr",
     "output_type": "stream",
     "text": [
      "C:\\Users\\UBAN\\AppData\\Local\\Programs\\Python\\Python312\\Lib\\site-packages\\sklearn\\linear_model\\_coordinate_descent.py:697: ConvergenceWarning: Objective did not converge. You might want to increase the number of iterations, check the scale of the features or consider increasing regularisation. Duality gap: 1.224e+13, tolerance: 2.770e+09\n",
      "  model = cd_fast.enet_coordinate_descent(\n"
     ]
    },
    {
     "name": "stdout",
     "output_type": "stream",
     "text": [
      "Best MAE: 46647.141667633245\n",
      "poly_degree: 9\n",
      "Current lowest MAE: 34953.75404418712\n",
      "\n",
      "\n",
      "degree 10\n",
      "Fitting 5 folds for each of 20 candidates, totalling 100 fits\n"
     ]
    },
    {
     "name": "stderr",
     "output_type": "stream",
     "text": [
      "C:\\Users\\UBAN\\AppData\\Local\\Programs\\Python\\Python312\\Lib\\site-packages\\sklearn\\linear_model\\_coordinate_descent.py:697: ConvergenceWarning: Objective did not converge. You might want to increase the number of iterations, check the scale of the features or consider increasing regularisation. Duality gap: 1.223e+13, tolerance: 2.770e+09\n",
      "  model = cd_fast.enet_coordinate_descent(\n"
     ]
    },
    {
     "name": "stdout",
     "output_type": "stream",
     "text": [
      "Best MAE: 46611.42945484269\n",
      "poly_degree: 10\n",
      "Current lowest MAE: 34953.75404418712\n",
      "\n",
      "\n",
      "processing edu_prof_closest_km\n",
      "degree 1\n",
      "Fitting 5 folds for each of 20 candidates, totalling 100 fits\n",
      "Best MAE: 48952.96451562705\n",
      "poly_degree: 1\n",
      "Current lowest MAE: 34953.75404418712\n",
      "\n",
      "\n",
      "degree 2\n",
      "Fitting 5 folds for each of 20 candidates, totalling 100 fits\n",
      "Best MAE: 49068.44613631859\n",
      "poly_degree: 2\n",
      "Current lowest MAE: 34953.75404418712\n",
      "\n",
      "\n",
      "degree 3\n",
      "Fitting 5 folds for each of 20 candidates, totalling 100 fits\n",
      "Best MAE: 48884.4548011615\n",
      "poly_degree: 3\n",
      "Current lowest MAE: 34953.75404418712\n",
      "\n",
      "\n",
      "degree 4\n",
      "Fitting 5 folds for each of 20 candidates, totalling 100 fits\n"
     ]
    },
    {
     "name": "stderr",
     "output_type": "stream",
     "text": [
      "C:\\Users\\UBAN\\AppData\\Local\\Programs\\Python\\Python312\\Lib\\site-packages\\sklearn\\linear_model\\_coordinate_descent.py:697: ConvergenceWarning: Objective did not converge. You might want to increase the number of iterations, check the scale of the features or consider increasing regularisation. Duality gap: 1.324e+13, tolerance: 2.770e+09\n",
      "  model = cd_fast.enet_coordinate_descent(\n"
     ]
    },
    {
     "name": "stdout",
     "output_type": "stream",
     "text": [
      "Best MAE: 48875.57582636049\n",
      "poly_degree: 4\n",
      "Current lowest MAE: 34953.75404418712\n",
      "\n",
      "\n",
      "degree 5\n",
      "Fitting 5 folds for each of 20 candidates, totalling 100 fits\n"
     ]
    },
    {
     "name": "stderr",
     "output_type": "stream",
     "text": [
      "C:\\Users\\UBAN\\AppData\\Local\\Programs\\Python\\Python312\\Lib\\site-packages\\sklearn\\linear_model\\_coordinate_descent.py:697: ConvergenceWarning: Objective did not converge. You might want to increase the number of iterations, check the scale of the features or consider increasing regularisation. Duality gap: 1.323e+13, tolerance: 2.770e+09\n",
      "  model = cd_fast.enet_coordinate_descent(\n"
     ]
    },
    {
     "name": "stdout",
     "output_type": "stream",
     "text": [
      "Best MAE: 48842.68501249467\n",
      "poly_degree: 5\n",
      "Current lowest MAE: 34953.75404418712\n",
      "\n",
      "\n",
      "degree 6\n",
      "Fitting 5 folds for each of 20 candidates, totalling 100 fits\n"
     ]
    },
    {
     "name": "stderr",
     "output_type": "stream",
     "text": [
      "C:\\Users\\UBAN\\AppData\\Local\\Programs\\Python\\Python312\\Lib\\site-packages\\sklearn\\linear_model\\_coordinate_descent.py:697: ConvergenceWarning: Objective did not converge. You might want to increase the number of iterations, check the scale of the features or consider increasing regularisation. Duality gap: 6.450e+11, tolerance: 2.770e+09\n",
      "  model = cd_fast.enet_coordinate_descent(\n"
     ]
    },
    {
     "name": "stdout",
     "output_type": "stream",
     "text": [
      "Best MAE: 48863.23219344856\n",
      "poly_degree: 6\n",
      "Current lowest MAE: 34953.75404418712\n",
      "\n",
      "\n",
      "degree 7\n",
      "Fitting 5 folds for each of 20 candidates, totalling 100 fits\n",
      "Best MAE: 48875.42913050375\n",
      "poly_degree: 7\n",
      "Current lowest MAE: 34953.75404418712\n",
      "\n",
      "\n",
      "degree 8\n",
      "Fitting 5 folds for each of 20 candidates, totalling 100 fits\n",
      "Best MAE: 48878.557741639175\n",
      "poly_degree: 8\n",
      "Current lowest MAE: 34953.75404418712\n",
      "\n",
      "\n",
      "degree 9\n",
      "Fitting 5 folds for each of 20 candidates, totalling 100 fits\n"
     ]
    },
    {
     "name": "stderr",
     "output_type": "stream",
     "text": [
      "C:\\Users\\UBAN\\AppData\\Local\\Programs\\Python\\Python312\\Lib\\site-packages\\sklearn\\linear_model\\_coordinate_descent.py:697: ConvergenceWarning: Objective did not converge. You might want to increase the number of iterations, check the scale of the features or consider increasing regularisation. Duality gap: 1.322e+13, tolerance: 2.770e+09\n",
      "  model = cd_fast.enet_coordinate_descent(\n"
     ]
    },
    {
     "name": "stdout",
     "output_type": "stream",
     "text": [
      "Best MAE: 48873.21302869408\n",
      "poly_degree: 9\n",
      "Current lowest MAE: 34953.75404418712\n",
      "\n",
      "\n",
      "degree 10\n",
      "Fitting 5 folds for each of 20 candidates, totalling 100 fits\n"
     ]
    },
    {
     "name": "stderr",
     "output_type": "stream",
     "text": [
      "C:\\Users\\UBAN\\AppData\\Local\\Programs\\Python\\Python312\\Lib\\site-packages\\sklearn\\linear_model\\_coordinate_descent.py:697: ConvergenceWarning: Objective did not converge. You might want to increase the number of iterations, check the scale of the features or consider increasing regularisation. Duality gap: 1.322e+13, tolerance: 2.770e+09\n",
      "  model = cd_fast.enet_coordinate_descent(\n"
     ]
    },
    {
     "name": "stdout",
     "output_type": "stream",
     "text": [
      "Best MAE: 48863.778515362734\n",
      "poly_degree: 10\n",
      "Current lowest MAE: 34953.75404418712\n",
      "\n",
      "\n",
      "processing edu_prof_1-3km\n",
      "degree 1\n",
      "Fitting 5 folds for each of 20 candidates, totalling 100 fits\n",
      "Best MAE: 47910.85337701209\n",
      "poly_degree: 1\n",
      "Current lowest MAE: 34953.75404418712\n",
      "\n",
      "\n",
      "degree 2\n",
      "Fitting 5 folds for each of 20 candidates, totalling 100 fits\n",
      "Best MAE: 47902.82061599224\n",
      "poly_degree: 2\n",
      "Current lowest MAE: 34953.75404418712\n",
      "\n",
      "\n",
      "degree 3\n",
      "Fitting 5 folds for each of 20 candidates, totalling 100 fits\n",
      "Best MAE: 47921.3451610639\n",
      "poly_degree: 3\n",
      "Current lowest MAE: 34953.75404418712\n",
      "\n",
      "\n",
      "degree 4\n",
      "Fitting 5 folds for each of 20 candidates, totalling 100 fits\n"
     ]
    },
    {
     "name": "stderr",
     "output_type": "stream",
     "text": [
      "C:\\Users\\UBAN\\AppData\\Local\\Programs\\Python\\Python312\\Lib\\site-packages\\sklearn\\linear_model\\_coordinate_descent.py:697: ConvergenceWarning: Objective did not converge. You might want to increase the number of iterations, check the scale of the features or consider increasing regularisation. Duality gap: 1.288e+13, tolerance: 2.770e+09\n",
      "  model = cd_fast.enet_coordinate_descent(\n"
     ]
    },
    {
     "name": "stdout",
     "output_type": "stream",
     "text": [
      "Best MAE: 47878.45659577935\n",
      "poly_degree: 4\n",
      "Current lowest MAE: 34953.75404418712\n",
      "\n",
      "\n",
      "degree 5\n",
      "Fitting 5 folds for each of 20 candidates, totalling 100 fits\n"
     ]
    },
    {
     "name": "stderr",
     "output_type": "stream",
     "text": [
      "C:\\Users\\UBAN\\AppData\\Local\\Programs\\Python\\Python312\\Lib\\site-packages\\sklearn\\linear_model\\_coordinate_descent.py:697: ConvergenceWarning: Objective did not converge. You might want to increase the number of iterations, check the scale of the features or consider increasing regularisation. Duality gap: 1.287e+13, tolerance: 2.770e+09\n",
      "  model = cd_fast.enet_coordinate_descent(\n"
     ]
    },
    {
     "name": "stdout",
     "output_type": "stream",
     "text": [
      "Best MAE: 47877.45589779767\n",
      "poly_degree: 5\n",
      "Current lowest MAE: 34953.75404418712\n",
      "\n",
      "\n",
      "degree 6\n",
      "Fitting 5 folds for each of 20 candidates, totalling 100 fits\n"
     ]
    },
    {
     "name": "stderr",
     "output_type": "stream",
     "text": [
      "C:\\Users\\UBAN\\AppData\\Local\\Programs\\Python\\Python312\\Lib\\site-packages\\sklearn\\linear_model\\_coordinate_descent.py:697: ConvergenceWarning: Objective did not converge. You might want to increase the number of iterations, check the scale of the features or consider increasing regularisation. Duality gap: 1.288e+13, tolerance: 2.770e+09\n",
      "  model = cd_fast.enet_coordinate_descent(\n"
     ]
    },
    {
     "name": "stdout",
     "output_type": "stream",
     "text": [
      "Best MAE: 47889.35592461143\n",
      "poly_degree: 6\n",
      "Current lowest MAE: 34953.75404418712\n",
      "\n",
      "\n",
      "degree 7\n",
      "Fitting 5 folds for each of 20 candidates, totalling 100 fits\n"
     ]
    },
    {
     "name": "stderr",
     "output_type": "stream",
     "text": [
      "C:\\Users\\UBAN\\AppData\\Local\\Programs\\Python\\Python312\\Lib\\site-packages\\sklearn\\linear_model\\_coordinate_descent.py:697: ConvergenceWarning: Objective did not converge. You might want to increase the number of iterations, check the scale of the features or consider increasing regularisation. Duality gap: 1.290e+13, tolerance: 2.770e+09\n",
      "  model = cd_fast.enet_coordinate_descent(\n"
     ]
    },
    {
     "name": "stdout",
     "output_type": "stream",
     "text": [
      "Best MAE: 47872.017037771504\n",
      "poly_degree: 7\n",
      "Current lowest MAE: 34953.75404418712\n",
      "\n",
      "\n",
      "degree 8\n",
      "Fitting 5 folds for each of 20 candidates, totalling 100 fits\n"
     ]
    },
    {
     "name": "stderr",
     "output_type": "stream",
     "text": [
      "C:\\Users\\UBAN\\AppData\\Local\\Programs\\Python\\Python312\\Lib\\site-packages\\sklearn\\linear_model\\_coordinate_descent.py:697: ConvergenceWarning: Objective did not converge. You might want to increase the number of iterations, check the scale of the features or consider increasing regularisation. Duality gap: 1.290e+13, tolerance: 2.770e+09\n",
      "  model = cd_fast.enet_coordinate_descent(\n"
     ]
    },
    {
     "name": "stdout",
     "output_type": "stream",
     "text": [
      "Best MAE: 47836.74342111207\n",
      "poly_degree: 8\n",
      "Current lowest MAE: 34953.75404418712\n",
      "\n",
      "\n",
      "degree 9\n",
      "Fitting 5 folds for each of 20 candidates, totalling 100 fits\n"
     ]
    },
    {
     "name": "stderr",
     "output_type": "stream",
     "text": [
      "C:\\Users\\UBAN\\AppData\\Local\\Programs\\Python\\Python312\\Lib\\site-packages\\sklearn\\linear_model\\_coordinate_descent.py:697: ConvergenceWarning: Objective did not converge. You might want to increase the number of iterations, check the scale of the features or consider increasing regularisation. Duality gap: 1.290e+13, tolerance: 2.770e+09\n",
      "  model = cd_fast.enet_coordinate_descent(\n"
     ]
    },
    {
     "name": "stdout",
     "output_type": "stream",
     "text": [
      "Best MAE: 47804.31481047061\n",
      "poly_degree: 9\n",
      "Current lowest MAE: 34953.75404418712\n",
      "\n",
      "\n",
      "degree 10\n",
      "Fitting 5 folds for each of 20 candidates, totalling 100 fits\n"
     ]
    },
    {
     "name": "stderr",
     "output_type": "stream",
     "text": [
      "C:\\Users\\UBAN\\AppData\\Local\\Programs\\Python\\Python312\\Lib\\site-packages\\sklearn\\linear_model\\_coordinate_descent.py:697: ConvergenceWarning: Objective did not converge. You might want to increase the number of iterations, check the scale of the features or consider increasing regularisation. Duality gap: 1.289e+13, tolerance: 2.770e+09\n",
      "  model = cd_fast.enet_coordinate_descent(\n"
     ]
    },
    {
     "name": "stdout",
     "output_type": "stream",
     "text": [
      "Best MAE: 47784.73938620322\n",
      "poly_degree: 10\n",
      "Current lowest MAE: 34953.75404418712\n",
      "\n",
      "\n",
      "processing edu_prof_3-5km\n",
      "degree 1\n",
      "Fitting 5 folds for each of 20 candidates, totalling 100 fits\n",
      "Best MAE: 47079.86450308845\n",
      "poly_degree: 1\n",
      "Current lowest MAE: 34953.75404418712\n",
      "\n",
      "\n",
      "degree 2\n",
      "Fitting 5 folds for each of 20 candidates, totalling 100 fits\n",
      "Best MAE: 46932.20204774504\n",
      "poly_degree: 2\n",
      "Current lowest MAE: 34953.75404418712\n",
      "\n",
      "\n",
      "degree 3\n",
      "Fitting 5 folds for each of 20 candidates, totalling 100 fits\n",
      "Best MAE: 46929.48682715934\n",
      "poly_degree: 3\n",
      "Current lowest MAE: 34953.75404418712\n",
      "\n",
      "\n",
      "degree 4\n",
      "Fitting 5 folds for each of 20 candidates, totalling 100 fits\n",
      "Best MAE: 46930.79658108699\n",
      "poly_degree: 4\n",
      "Current lowest MAE: 34953.75404418712\n",
      "\n",
      "\n",
      "degree 5\n",
      "Fitting 5 folds for each of 20 candidates, totalling 100 fits\n",
      "Best MAE: 46932.51868192745\n",
      "poly_degree: 5\n",
      "Current lowest MAE: 34953.75404418712\n",
      "\n",
      "\n",
      "degree 6\n",
      "Fitting 5 folds for each of 20 candidates, totalling 100 fits\n",
      "Best MAE: 46933.71624831358\n",
      "poly_degree: 6\n",
      "Current lowest MAE: 34953.75404418712\n",
      "\n",
      "\n",
      "degree 7\n",
      "Fitting 5 folds for each of 20 candidates, totalling 100 fits\n",
      "Best MAE: 46937.69144702315\n",
      "poly_degree: 7\n",
      "Current lowest MAE: 34953.75404418712\n",
      "\n",
      "\n",
      "degree 8\n",
      "Fitting 5 folds for each of 20 candidates, totalling 100 fits\n",
      "Best MAE: 46939.63053879597\n",
      "poly_degree: 8\n",
      "Current lowest MAE: 34953.75404418712\n",
      "\n",
      "\n",
      "degree 9\n",
      "Fitting 5 folds for each of 20 candidates, totalling 100 fits\n",
      "Best MAE: 46941.71780290991\n",
      "poly_degree: 9\n",
      "Current lowest MAE: 34953.75404418712\n",
      "\n",
      "\n",
      "degree 10\n",
      "Fitting 5 folds for each of 20 candidates, totalling 100 fits\n",
      "Best MAE: 46943.58693473288\n",
      "poly_degree: 10\n",
      "Current lowest MAE: 34953.75404418712\n",
      "\n",
      "\n",
      "processing edu_school_closest_km\n",
      "degree 1\n",
      "Fitting 5 folds for each of 20 candidates, totalling 100 fits\n",
      "Best MAE: 49925.71567123539\n",
      "poly_degree: 1\n",
      "Current lowest MAE: 34953.75404418712\n",
      "\n",
      "\n",
      "degree 2\n",
      "Fitting 5 folds for each of 20 candidates, totalling 100 fits\n",
      "Best MAE: 49137.7237997825\n",
      "poly_degree: 2\n",
      "Current lowest MAE: 34953.75404418712\n",
      "\n",
      "\n",
      "degree 3\n",
      "Fitting 5 folds for each of 20 candidates, totalling 100 fits\n",
      "Best MAE: 48896.45121249913\n",
      "poly_degree: 3\n",
      "Current lowest MAE: 34953.75404418712\n",
      "\n",
      "\n",
      "degree 4\n",
      "Fitting 5 folds for each of 20 candidates, totalling 100 fits\n",
      "Best MAE: 48955.09177429949\n",
      "poly_degree: 4\n",
      "Current lowest MAE: 34953.75404418712\n",
      "\n",
      "\n",
      "degree 5\n",
      "Fitting 5 folds for each of 20 candidates, totalling 100 fits\n"
     ]
    },
    {
     "name": "stderr",
     "output_type": "stream",
     "text": [
      "C:\\Users\\UBAN\\AppData\\Local\\Programs\\Python\\Python312\\Lib\\site-packages\\sklearn\\linear_model\\_coordinate_descent.py:697: ConvergenceWarning: Objective did not converge. You might want to increase the number of iterations, check the scale of the features or consider increasing regularisation. Duality gap: 1.309e+13, tolerance: 2.770e+09\n",
      "  model = cd_fast.enet_coordinate_descent(\n"
     ]
    },
    {
     "name": "stdout",
     "output_type": "stream",
     "text": [
      "Best MAE: 48939.044610821256\n",
      "poly_degree: 5\n",
      "Current lowest MAE: 34953.75404418712\n",
      "\n",
      "\n",
      "degree 6\n",
      "Fitting 5 folds for each of 20 candidates, totalling 100 fits\n"
     ]
    },
    {
     "name": "stderr",
     "output_type": "stream",
     "text": [
      "C:\\Users\\UBAN\\AppData\\Local\\Programs\\Python\\Python312\\Lib\\site-packages\\sklearn\\linear_model\\_coordinate_descent.py:697: ConvergenceWarning: Objective did not converge. You might want to increase the number of iterations, check the scale of the features or consider increasing regularisation. Duality gap: 4.321e+12, tolerance: 2.770e+09\n",
      "  model = cd_fast.enet_coordinate_descent(\n"
     ]
    },
    {
     "name": "stdout",
     "output_type": "stream",
     "text": [
      "Best MAE: 48887.84856013877\n",
      "poly_degree: 6\n",
      "Current lowest MAE: 34953.75404418712\n",
      "\n",
      "\n",
      "degree 7\n",
      "Fitting 5 folds for each of 20 candidates, totalling 100 fits\n"
     ]
    },
    {
     "name": "stderr",
     "output_type": "stream",
     "text": [
      "C:\\Users\\UBAN\\AppData\\Local\\Programs\\Python\\Python312\\Lib\\site-packages\\sklearn\\linear_model\\_coordinate_descent.py:697: ConvergenceWarning: Objective did not converge. You might want to increase the number of iterations, check the scale of the features or consider increasing regularisation. Duality gap: 1.747e+11, tolerance: 2.770e+09\n",
      "  model = cd_fast.enet_coordinate_descent(\n"
     ]
    },
    {
     "name": "stdout",
     "output_type": "stream",
     "text": [
      "Best MAE: 48925.79552180593\n",
      "poly_degree: 7\n",
      "Current lowest MAE: 34953.75404418712\n",
      "\n",
      "\n",
      "degree 8\n",
      "Fitting 5 folds for each of 20 candidates, totalling 100 fits\n",
      "Best MAE: 48955.105335862216\n",
      "poly_degree: 8\n",
      "Current lowest MAE: 34953.75404418712\n",
      "\n",
      "\n",
      "degree 9\n",
      "Fitting 5 folds for each of 20 candidates, totalling 100 fits\n",
      "Best MAE: 48913.183908344305\n",
      "poly_degree: 9\n",
      "Current lowest MAE: 34953.75404418712\n",
      "\n",
      "\n",
      "degree 10\n",
      "Fitting 5 folds for each of 20 candidates, totalling 100 fits\n",
      "Best MAE: 48929.89809684192\n",
      "poly_degree: 10\n",
      "Current lowest MAE: 34953.75404418712\n",
      "\n",
      "\n",
      "processing edu_school_1-3km\n",
      "degree 1\n",
      "Fitting 5 folds for each of 20 candidates, totalling 100 fits\n",
      "Best MAE: 46962.329058414485\n",
      "poly_degree: 1\n",
      "Current lowest MAE: 34953.75404418712\n",
      "\n",
      "\n",
      "degree 2\n",
      "Fitting 5 folds for each of 20 candidates, totalling 100 fits\n",
      "Best MAE: 46964.65425144149\n",
      "poly_degree: 2\n",
      "Current lowest MAE: 34953.75404418712\n",
      "\n",
      "\n",
      "degree 3\n",
      "Fitting 5 folds for each of 20 candidates, totalling 100 fits\n",
      "Best MAE: 46963.95041757753\n",
      "poly_degree: 3\n",
      "Current lowest MAE: 34953.75404418712\n",
      "\n",
      "\n",
      "degree 4\n",
      "Fitting 5 folds for each of 20 candidates, totalling 100 fits\n",
      "Best MAE: 46960.11933474743\n",
      "poly_degree: 4\n",
      "Current lowest MAE: 34953.75404418712\n",
      "\n",
      "\n",
      "degree 5\n",
      "Fitting 5 folds for each of 20 candidates, totalling 100 fits\n",
      "Best MAE: 46955.017005080575\n",
      "poly_degree: 5\n",
      "Current lowest MAE: 34953.75404418712\n",
      "\n",
      "\n",
      "degree 6\n",
      "Fitting 5 folds for each of 20 candidates, totalling 100 fits\n",
      "Best MAE: 46953.080839938135\n",
      "poly_degree: 6\n",
      "Current lowest MAE: 34953.75404418712\n",
      "\n",
      "\n",
      "degree 7\n",
      "Fitting 5 folds for each of 20 candidates, totalling 100 fits\n",
      "Best MAE: 46955.729207510354\n",
      "poly_degree: 7\n",
      "Current lowest MAE: 34953.75404418712\n",
      "\n",
      "\n",
      "degree 8\n",
      "Fitting 5 folds for each of 20 candidates, totalling 100 fits\n",
      "Best MAE: 46955.79045795378\n",
      "poly_degree: 8\n",
      "Current lowest MAE: 34953.75404418712\n",
      "\n",
      "\n",
      "degree 9\n",
      "Fitting 5 folds for each of 20 candidates, totalling 100 fits\n",
      "Best MAE: 46956.52245842037\n",
      "poly_degree: 9\n",
      "Current lowest MAE: 34953.75404418712\n",
      "\n",
      "\n",
      "degree 10\n",
      "Fitting 5 folds for each of 20 candidates, totalling 100 fits\n",
      "Best MAE: 46957.7391024612\n",
      "poly_degree: 10\n",
      "Current lowest MAE: 34953.75404418712\n",
      "\n",
      "\n",
      "processing edu_school_3-5km\n",
      "degree 1\n",
      "Fitting 5 folds for each of 20 candidates, totalling 100 fits\n",
      "Best MAE: 45199.327145153344\n",
      "poly_degree: 1\n",
      "Current lowest MAE: 34953.75404418712\n",
      "\n",
      "\n",
      "degree 2\n",
      "Fitting 5 folds for each of 20 candidates, totalling 100 fits\n",
      "Best MAE: 44749.930344287764\n",
      "poly_degree: 2\n",
      "Current lowest MAE: 34953.75404418712\n",
      "\n",
      "\n",
      "degree 3\n",
      "Fitting 5 folds for each of 20 candidates, totalling 100 fits\n"
     ]
    },
    {
     "name": "stderr",
     "output_type": "stream",
     "text": [
      "C:\\Users\\UBAN\\AppData\\Local\\Programs\\Python\\Python312\\Lib\\site-packages\\sklearn\\linear_model\\_coordinate_descent.py:697: ConvergenceWarning: Objective did not converge. You might want to increase the number of iterations, check the scale of the features or consider increasing regularisation. Duality gap: 1.174e+12, tolerance: 2.770e+09\n",
      "  model = cd_fast.enet_coordinate_descent(\n"
     ]
    },
    {
     "name": "stdout",
     "output_type": "stream",
     "text": [
      "Best MAE: 44530.39889850385\n",
      "poly_degree: 3\n",
      "Current lowest MAE: 34953.75404418712\n",
      "\n",
      "\n",
      "degree 4\n",
      "Fitting 5 folds for each of 20 candidates, totalling 100 fits\n"
     ]
    },
    {
     "name": "stderr",
     "output_type": "stream",
     "text": [
      "C:\\Users\\UBAN\\AppData\\Local\\Programs\\Python\\Python312\\Lib\\site-packages\\sklearn\\linear_model\\_coordinate_descent.py:697: ConvergenceWarning: Objective did not converge. You might want to increase the number of iterations, check the scale of the features or consider increasing regularisation. Duality gap: 1.561e+12, tolerance: 2.770e+09\n",
      "  model = cd_fast.enet_coordinate_descent(\n"
     ]
    },
    {
     "name": "stdout",
     "output_type": "stream",
     "text": [
      "Best MAE: 44318.664445504175\n",
      "poly_degree: 4\n",
      "Current lowest MAE: 34953.75404418712\n",
      "\n",
      "\n",
      "degree 5\n",
      "Fitting 5 folds for each of 20 candidates, totalling 100 fits\n"
     ]
    },
    {
     "name": "stderr",
     "output_type": "stream",
     "text": [
      "C:\\Users\\UBAN\\AppData\\Local\\Programs\\Python\\Python312\\Lib\\site-packages\\sklearn\\linear_model\\_coordinate_descent.py:697: ConvergenceWarning: Objective did not converge. You might want to increase the number of iterations, check the scale of the features or consider increasing regularisation. Duality gap: 6.747e+12, tolerance: 2.770e+09\n",
      "  model = cd_fast.enet_coordinate_descent(\n"
     ]
    },
    {
     "name": "stdout",
     "output_type": "stream",
     "text": [
      "Best MAE: 44071.35227946828\n",
      "poly_degree: 5\n",
      "Current lowest MAE: 34953.75404418712\n",
      "\n",
      "\n",
      "degree 6\n",
      "Fitting 5 folds for each of 20 candidates, totalling 100 fits\n"
     ]
    },
    {
     "name": "stderr",
     "output_type": "stream",
     "text": [
      "C:\\Users\\UBAN\\AppData\\Local\\Programs\\Python\\Python312\\Lib\\site-packages\\sklearn\\linear_model\\_coordinate_descent.py:697: ConvergenceWarning: Objective did not converge. You might want to increase the number of iterations, check the scale of the features or consider increasing regularisation. Duality gap: 6.020e+12, tolerance: 2.770e+09\n",
      "  model = cd_fast.enet_coordinate_descent(\n"
     ]
    },
    {
     "name": "stdout",
     "output_type": "stream",
     "text": [
      "Best MAE: 43988.62202962491\n",
      "poly_degree: 6\n",
      "Current lowest MAE: 34953.75404418712\n",
      "\n",
      "\n",
      "degree 7\n",
      "Fitting 5 folds for each of 20 candidates, totalling 100 fits\n"
     ]
    },
    {
     "name": "stderr",
     "output_type": "stream",
     "text": [
      "C:\\Users\\UBAN\\AppData\\Local\\Programs\\Python\\Python312\\Lib\\site-packages\\sklearn\\linear_model\\_coordinate_descent.py:697: ConvergenceWarning: Objective did not converge. You might want to increase the number of iterations, check the scale of the features or consider increasing regularisation. Duality gap: 2.141e+12, tolerance: 2.770e+09\n",
      "  model = cd_fast.enet_coordinate_descent(\n"
     ]
    },
    {
     "name": "stdout",
     "output_type": "stream",
     "text": [
      "Best MAE: 44005.36336288297\n",
      "poly_degree: 7\n",
      "Current lowest MAE: 34953.75404418712\n",
      "\n",
      "\n",
      "degree 8\n",
      "Fitting 5 folds for each of 20 candidates, totalling 100 fits\n"
     ]
    },
    {
     "name": "stderr",
     "output_type": "stream",
     "text": [
      "C:\\Users\\UBAN\\AppData\\Local\\Programs\\Python\\Python312\\Lib\\site-packages\\sklearn\\linear_model\\_coordinate_descent.py:697: ConvergenceWarning: Objective did not converge. You might want to increase the number of iterations, check the scale of the features or consider increasing regularisation. Duality gap: 2.658e+12, tolerance: 2.770e+09\n",
      "  model = cd_fast.enet_coordinate_descent(\n"
     ]
    },
    {
     "name": "stdout",
     "output_type": "stream",
     "text": [
      "Best MAE: 44007.915230766055\n",
      "poly_degree: 8\n",
      "Current lowest MAE: 34953.75404418712\n",
      "\n",
      "\n",
      "degree 9\n",
      "Fitting 5 folds for each of 20 candidates, totalling 100 fits\n"
     ]
    },
    {
     "name": "stderr",
     "output_type": "stream",
     "text": [
      "C:\\Users\\UBAN\\AppData\\Local\\Programs\\Python\\Python312\\Lib\\site-packages\\sklearn\\linear_model\\_coordinate_descent.py:697: ConvergenceWarning: Objective did not converge. You might want to increase the number of iterations, check the scale of the features or consider increasing regularisation. Duality gap: 1.133e+13, tolerance: 2.770e+09\n",
      "  model = cd_fast.enet_coordinate_descent(\n"
     ]
    },
    {
     "name": "stdout",
     "output_type": "stream",
     "text": [
      "Best MAE: 43932.95728661811\n",
      "poly_degree: 9\n",
      "Current lowest MAE: 34953.75404418712\n",
      "\n",
      "\n",
      "degree 10\n",
      "Fitting 5 folds for each of 20 candidates, totalling 100 fits\n"
     ]
    },
    {
     "name": "stderr",
     "output_type": "stream",
     "text": [
      "C:\\Users\\UBAN\\AppData\\Local\\Programs\\Python\\Python312\\Lib\\site-packages\\sklearn\\linear_model\\_coordinate_descent.py:697: ConvergenceWarning: Objective did not converge. You might want to increase the number of iterations, check the scale of the features or consider increasing regularisation. Duality gap: 1.130e+13, tolerance: 2.770e+09\n",
      "  model = cd_fast.enet_coordinate_descent(\n"
     ]
    },
    {
     "name": "stdout",
     "output_type": "stream",
     "text": [
      "Best MAE: 43797.8896338221\n",
      "poly_degree: 10\n",
      "Current lowest MAE: 34953.75404418712\n",
      "\n",
      "\n",
      "processing kids_hospitals_closest_km\n",
      "degree 1\n",
      "Fitting 5 folds for each of 20 candidates, totalling 100 fits\n",
      "Best MAE: 47715.102812126606\n",
      "poly_degree: 1\n",
      "Current lowest MAE: 34953.75404418712\n",
      "\n",
      "\n",
      "degree 2\n",
      "Fitting 5 folds for each of 20 candidates, totalling 100 fits\n",
      "Best MAE: 46662.151657321374\n",
      "poly_degree: 2\n",
      "Current lowest MAE: 34953.75404418712\n",
      "\n",
      "\n",
      "degree 3\n",
      "Fitting 5 folds for each of 20 candidates, totalling 100 fits\n"
     ]
    },
    {
     "name": "stderr",
     "output_type": "stream",
     "text": [
      "C:\\Users\\UBAN\\AppData\\Local\\Programs\\Python\\Python312\\Lib\\site-packages\\sklearn\\linear_model\\_coordinate_descent.py:697: ConvergenceWarning: Objective did not converge. You might want to increase the number of iterations, check the scale of the features or consider increasing regularisation. Duality gap: 1.422e+11, tolerance: 2.770e+09\n",
      "  model = cd_fast.enet_coordinate_descent(\n"
     ]
    },
    {
     "name": "stdout",
     "output_type": "stream",
     "text": [
      "Best MAE: 46085.17188154224\n",
      "poly_degree: 3\n",
      "Current lowest MAE: 34953.75404418712\n",
      "\n",
      "\n",
      "degree 4\n",
      "Fitting 5 folds for each of 20 candidates, totalling 100 fits\n"
     ]
    },
    {
     "name": "stderr",
     "output_type": "stream",
     "text": [
      "C:\\Users\\UBAN\\AppData\\Local\\Programs\\Python\\Python312\\Lib\\site-packages\\sklearn\\linear_model\\_coordinate_descent.py:697: ConvergenceWarning: Objective did not converge. You might want to increase the number of iterations, check the scale of the features or consider increasing regularisation. Duality gap: 1.214e+13, tolerance: 2.770e+09\n",
      "  model = cd_fast.enet_coordinate_descent(\n"
     ]
    },
    {
     "name": "stdout",
     "output_type": "stream",
     "text": [
      "Best MAE: 45966.18783530437\n",
      "poly_degree: 4\n",
      "Current lowest MAE: 34953.75404418712\n",
      "\n",
      "\n",
      "degree 5\n",
      "Fitting 5 folds for each of 20 candidates, totalling 100 fits\n"
     ]
    },
    {
     "name": "stderr",
     "output_type": "stream",
     "text": [
      "C:\\Users\\UBAN\\AppData\\Local\\Programs\\Python\\Python312\\Lib\\site-packages\\sklearn\\linear_model\\_coordinate_descent.py:697: ConvergenceWarning: Objective did not converge. You might want to increase the number of iterations, check the scale of the features or consider increasing regularisation. Duality gap: 1.211e+13, tolerance: 2.770e+09\n",
      "  model = cd_fast.enet_coordinate_descent(\n"
     ]
    },
    {
     "name": "stdout",
     "output_type": "stream",
     "text": [
      "Best MAE: 45880.595218501825\n",
      "poly_degree: 5\n",
      "Current lowest MAE: 34953.75404418712\n",
      "\n",
      "\n",
      "degree 6\n",
      "Fitting 5 folds for each of 20 candidates, totalling 100 fits\n"
     ]
    },
    {
     "name": "stderr",
     "output_type": "stream",
     "text": [
      "C:\\Users\\UBAN\\AppData\\Local\\Programs\\Python\\Python312\\Lib\\site-packages\\sklearn\\linear_model\\_coordinate_descent.py:697: ConvergenceWarning: Objective did not converge. You might want to increase the number of iterations, check the scale of the features or consider increasing regularisation. Duality gap: 1.208e+13, tolerance: 2.770e+09\n",
      "  model = cd_fast.enet_coordinate_descent(\n"
     ]
    },
    {
     "name": "stdout",
     "output_type": "stream",
     "text": [
      "Best MAE: 45881.43467422094\n",
      "poly_degree: 6\n",
      "Current lowest MAE: 34953.75404418712\n",
      "\n",
      "\n",
      "degree 7\n",
      "Fitting 5 folds for each of 20 candidates, totalling 100 fits\n"
     ]
    },
    {
     "name": "stderr",
     "output_type": "stream",
     "text": [
      "C:\\Users\\UBAN\\AppData\\Local\\Programs\\Python\\Python312\\Lib\\site-packages\\sklearn\\linear_model\\_coordinate_descent.py:697: ConvergenceWarning: Objective did not converge. You might want to increase the number of iterations, check the scale of the features or consider increasing regularisation. Duality gap: 1.208e+13, tolerance: 2.770e+09\n",
      "  model = cd_fast.enet_coordinate_descent(\n"
     ]
    },
    {
     "name": "stdout",
     "output_type": "stream",
     "text": [
      "Best MAE: 45888.69316904019\n",
      "poly_degree: 7\n",
      "Current lowest MAE: 34953.75404418712\n",
      "\n",
      "\n",
      "degree 8\n",
      "Fitting 5 folds for each of 20 candidates, totalling 100 fits\n"
     ]
    },
    {
     "name": "stderr",
     "output_type": "stream",
     "text": [
      "C:\\Users\\UBAN\\AppData\\Local\\Programs\\Python\\Python312\\Lib\\site-packages\\sklearn\\linear_model\\_coordinate_descent.py:697: ConvergenceWarning: Objective did not converge. You might want to increase the number of iterations, check the scale of the features or consider increasing regularisation. Duality gap: 1.210e+13, tolerance: 2.770e+09\n",
      "  model = cd_fast.enet_coordinate_descent(\n"
     ]
    },
    {
     "name": "stdout",
     "output_type": "stream",
     "text": [
      "Best MAE: 45892.34171679534\n",
      "poly_degree: 8\n",
      "Current lowest MAE: 34953.75404418712\n",
      "\n",
      "\n",
      "degree 9\n",
      "Fitting 5 folds for each of 20 candidates, totalling 100 fits\n"
     ]
    },
    {
     "name": "stderr",
     "output_type": "stream",
     "text": [
      "C:\\Users\\UBAN\\AppData\\Local\\Programs\\Python\\Python312\\Lib\\site-packages\\sklearn\\linear_model\\_coordinate_descent.py:697: ConvergenceWarning: Objective did not converge. You might want to increase the number of iterations, check the scale of the features or consider increasing regularisation. Duality gap: 1.211e+13, tolerance: 2.770e+09\n",
      "  model = cd_fast.enet_coordinate_descent(\n"
     ]
    },
    {
     "name": "stdout",
     "output_type": "stream",
     "text": [
      "Best MAE: 45890.29485776837\n",
      "poly_degree: 9\n",
      "Current lowest MAE: 34953.75404418712\n",
      "\n",
      "\n",
      "degree 10\n",
      "Fitting 5 folds for each of 20 candidates, totalling 100 fits\n"
     ]
    },
    {
     "name": "stderr",
     "output_type": "stream",
     "text": [
      "C:\\Users\\UBAN\\AppData\\Local\\Programs\\Python\\Python312\\Lib\\site-packages\\sklearn\\linear_model\\_coordinate_descent.py:697: ConvergenceWarning: Objective did not converge. You might want to increase the number of iterations, check the scale of the features or consider increasing regularisation. Duality gap: 1.212e+13, tolerance: 2.770e+09\n",
      "  model = cd_fast.enet_coordinate_descent(\n"
     ]
    },
    {
     "name": "stdout",
     "output_type": "stream",
     "text": [
      "Best MAE: 45884.979059873185\n",
      "poly_degree: 10\n",
      "Current lowest MAE: 34953.75404418712\n",
      "\n",
      "\n",
      "processing moscow_stations_closest_km\n",
      "degree 1\n",
      "Fitting 5 folds for each of 20 candidates, totalling 100 fits\n",
      "Best MAE: 49361.60501641048\n",
      "poly_degree: 1\n",
      "Current lowest MAE: 34953.75404418712\n",
      "\n",
      "\n",
      "degree 2\n",
      "Fitting 5 folds for each of 20 candidates, totalling 100 fits\n",
      "Best MAE: 48469.497897446476\n",
      "poly_degree: 2\n",
      "Current lowest MAE: 34953.75404418712\n",
      "\n",
      "\n",
      "degree 3\n",
      "Fitting 5 folds for each of 20 candidates, totalling 100 fits\n",
      "Best MAE: 48148.472905500654\n",
      "poly_degree: 3\n",
      "Current lowest MAE: 34953.75404418712\n",
      "\n",
      "\n",
      "degree 4\n",
      "Fitting 5 folds for each of 20 candidates, totalling 100 fits\n"
     ]
    },
    {
     "name": "stderr",
     "output_type": "stream",
     "text": [
      "C:\\Users\\UBAN\\AppData\\Local\\Programs\\Python\\Python312\\Lib\\site-packages\\sklearn\\linear_model\\_coordinate_descent.py:697: ConvergenceWarning: Objective did not converge. You might want to increase the number of iterations, check the scale of the features or consider increasing regularisation. Duality gap: 1.275e+13, tolerance: 2.770e+09\n",
      "  model = cd_fast.enet_coordinate_descent(\n"
     ]
    },
    {
     "name": "stdout",
     "output_type": "stream",
     "text": [
      "Best MAE: 48149.27980094512\n",
      "poly_degree: 4\n",
      "Current lowest MAE: 34953.75404418712\n",
      "\n",
      "\n",
      "degree 5\n",
      "Fitting 5 folds for each of 20 candidates, totalling 100 fits\n"
     ]
    },
    {
     "name": "stderr",
     "output_type": "stream",
     "text": [
      "C:\\Users\\UBAN\\AppData\\Local\\Programs\\Python\\Python312\\Lib\\site-packages\\sklearn\\linear_model\\_coordinate_descent.py:697: ConvergenceWarning: Objective did not converge. You might want to increase the number of iterations, check the scale of the features or consider increasing regularisation. Duality gap: 1.274e+13, tolerance: 2.770e+09\n",
      "  model = cd_fast.enet_coordinate_descent(\n"
     ]
    },
    {
     "name": "stdout",
     "output_type": "stream",
     "text": [
      "Best MAE: 48133.25847880308\n",
      "poly_degree: 5\n",
      "Current lowest MAE: 34953.75404418712\n",
      "\n",
      "\n",
      "degree 6\n",
      "Fitting 5 folds for each of 20 candidates, totalling 100 fits\n"
     ]
    },
    {
     "name": "stderr",
     "output_type": "stream",
     "text": [
      "C:\\Users\\UBAN\\AppData\\Local\\Programs\\Python\\Python312\\Lib\\site-packages\\sklearn\\linear_model\\_coordinate_descent.py:697: ConvergenceWarning: Objective did not converge. You might want to increase the number of iterations, check the scale of the features or consider increasing regularisation. Duality gap: 1.240e+13, tolerance: 2.770e+09\n",
      "  model = cd_fast.enet_coordinate_descent(\n"
     ]
    },
    {
     "name": "stdout",
     "output_type": "stream",
     "text": [
      "Best MAE: 48129.108357457284\n",
      "poly_degree: 6\n",
      "Current lowest MAE: 34953.75404418712\n",
      "\n",
      "\n",
      "degree 7\n",
      "Fitting 5 folds for each of 20 candidates, totalling 100 fits\n"
     ]
    },
    {
     "name": "stderr",
     "output_type": "stream",
     "text": [
      "C:\\Users\\UBAN\\AppData\\Local\\Programs\\Python\\Python312\\Lib\\site-packages\\sklearn\\linear_model\\_coordinate_descent.py:697: ConvergenceWarning: Objective did not converge. You might want to increase the number of iterations, check the scale of the features or consider increasing regularisation. Duality gap: 1.227e+13, tolerance: 2.770e+09\n",
      "  model = cd_fast.enet_coordinate_descent(\n"
     ]
    },
    {
     "name": "stdout",
     "output_type": "stream",
     "text": [
      "Best MAE: 48130.697898203005\n",
      "poly_degree: 7\n",
      "Current lowest MAE: 34953.75404418712\n",
      "\n",
      "\n",
      "degree 8\n",
      "Fitting 5 folds for each of 20 candidates, totalling 100 fits\n"
     ]
    },
    {
     "name": "stderr",
     "output_type": "stream",
     "text": [
      "C:\\Users\\UBAN\\AppData\\Local\\Programs\\Python\\Python312\\Lib\\site-packages\\sklearn\\linear_model\\_coordinate_descent.py:697: ConvergenceWarning: Objective did not converge. You might want to increase the number of iterations, check the scale of the features or consider increasing regularisation. Duality gap: 1.253e+13, tolerance: 2.770e+09\n",
      "  model = cd_fast.enet_coordinate_descent(\n"
     ]
    },
    {
     "name": "stdout",
     "output_type": "stream",
     "text": [
      "Best MAE: 48132.09344582592\n",
      "poly_degree: 8\n",
      "Current lowest MAE: 34953.75404418712\n",
      "\n",
      "\n",
      "degree 9\n",
      "Fitting 5 folds for each of 20 candidates, totalling 100 fits\n"
     ]
    },
    {
     "name": "stderr",
     "output_type": "stream",
     "text": [
      "C:\\Users\\UBAN\\AppData\\Local\\Programs\\Python\\Python312\\Lib\\site-packages\\sklearn\\linear_model\\_coordinate_descent.py:697: ConvergenceWarning: Objective did not converge. You might want to increase the number of iterations, check the scale of the features or consider increasing regularisation. Duality gap: 1.265e+13, tolerance: 2.770e+09\n",
      "  model = cd_fast.enet_coordinate_descent(\n"
     ]
    },
    {
     "name": "stdout",
     "output_type": "stream",
     "text": [
      "Best MAE: 48132.247531575325\n",
      "poly_degree: 9\n",
      "Current lowest MAE: 34953.75404418712\n",
      "\n",
      "\n",
      "degree 10\n",
      "Fitting 5 folds for each of 20 candidates, totalling 100 fits\n"
     ]
    },
    {
     "name": "stderr",
     "output_type": "stream",
     "text": [
      "C:\\Users\\UBAN\\AppData\\Local\\Programs\\Python\\Python312\\Lib\\site-packages\\sklearn\\linear_model\\_coordinate_descent.py:697: ConvergenceWarning: Objective did not converge. You might want to increase the number of iterations, check the scale of the features or consider increasing regularisation. Duality gap: 1.270e+13, tolerance: 2.770e+09\n",
      "  model = cd_fast.enet_coordinate_descent(\n"
     ]
    },
    {
     "name": "stdout",
     "output_type": "stream",
     "text": [
      "Best MAE: 48131.75645979918\n",
      "poly_degree: 10\n",
      "Current lowest MAE: 34953.75404418712\n",
      "\n",
      "\n",
      "processing moscow_stations_less500m\n",
      "degree 1\n",
      "Fitting 5 folds for each of 20 candidates, totalling 100 fits\n",
      "Best MAE: 48566.22535799506\n",
      "poly_degree: 1\n",
      "Current lowest MAE: 34953.75404418712\n",
      "\n",
      "\n",
      "degree 2\n",
      "Fitting 5 folds for each of 20 candidates, totalling 100 fits\n",
      "Best MAE: 48080.14187174096\n",
      "poly_degree: 2\n",
      "Current lowest MAE: 34953.75404418712\n",
      "\n",
      "\n",
      "degree 3\n",
      "Fitting 5 folds for each of 20 candidates, totalling 100 fits\n",
      "Best MAE: 48010.27022069192\n",
      "poly_degree: 3\n",
      "Current lowest MAE: 34953.75404418712\n",
      "\n",
      "\n",
      "degree 4\n",
      "Fitting 5 folds for each of 20 candidates, totalling 100 fits\n"
     ]
    },
    {
     "name": "stderr",
     "output_type": "stream",
     "text": [
      "C:\\Users\\UBAN\\AppData\\Local\\Programs\\Python\\Python312\\Lib\\site-packages\\sklearn\\linear_model\\_coordinate_descent.py:697: ConvergenceWarning: Objective did not converge. You might want to increase the number of iterations, check the scale of the features or consider increasing regularisation. Duality gap: 1.259e+13, tolerance: 2.770e+09\n",
      "  model = cd_fast.enet_coordinate_descent(\n"
     ]
    },
    {
     "name": "stdout",
     "output_type": "stream",
     "text": [
      "Best MAE: 47993.375429802174\n",
      "poly_degree: 4\n",
      "Current lowest MAE: 34953.75404418712\n",
      "\n",
      "\n",
      "degree 5\n",
      "Fitting 5 folds for each of 20 candidates, totalling 100 fits\n"
     ]
    },
    {
     "name": "stderr",
     "output_type": "stream",
     "text": [
      "C:\\Users\\UBAN\\AppData\\Local\\Programs\\Python\\Python312\\Lib\\site-packages\\sklearn\\linear_model\\_coordinate_descent.py:697: ConvergenceWarning: Objective did not converge. You might want to increase the number of iterations, check the scale of the features or consider increasing regularisation. Duality gap: 1.256e+13, tolerance: 2.770e+09\n",
      "  model = cd_fast.enet_coordinate_descent(\n"
     ]
    },
    {
     "name": "stdout",
     "output_type": "stream",
     "text": [
      "Best MAE: 47978.09883862866\n",
      "poly_degree: 5\n",
      "Current lowest MAE: 34953.75404418712\n",
      "\n",
      "\n",
      "degree 6\n",
      "Fitting 5 folds for each of 20 candidates, totalling 100 fits\n"
     ]
    },
    {
     "name": "stderr",
     "output_type": "stream",
     "text": [
      "C:\\Users\\UBAN\\AppData\\Local\\Programs\\Python\\Python312\\Lib\\site-packages\\sklearn\\linear_model\\_coordinate_descent.py:697: ConvergenceWarning: Objective did not converge. You might want to increase the number of iterations, check the scale of the features or consider increasing regularisation. Duality gap: 1.239e+13, tolerance: 2.770e+09\n",
      "  model = cd_fast.enet_coordinate_descent(\n"
     ]
    },
    {
     "name": "stdout",
     "output_type": "stream",
     "text": [
      "Best MAE: 47974.57007787304\n",
      "poly_degree: 6\n",
      "Current lowest MAE: 34953.75404418712\n",
      "\n",
      "\n",
      "degree 7\n",
      "Fitting 5 folds for each of 20 candidates, totalling 100 fits\n"
     ]
    },
    {
     "name": "stderr",
     "output_type": "stream",
     "text": [
      "C:\\Users\\UBAN\\AppData\\Local\\Programs\\Python\\Python312\\Lib\\site-packages\\sklearn\\linear_model\\_coordinate_descent.py:697: ConvergenceWarning: Objective did not converge. You might want to increase the number of iterations, check the scale of the features or consider increasing regularisation. Duality gap: 8.698e+11, tolerance: 2.770e+09\n",
      "  model = cd_fast.enet_coordinate_descent(\n"
     ]
    },
    {
     "name": "stdout",
     "output_type": "stream",
     "text": [
      "Best MAE: 47968.18876054677\n",
      "poly_degree: 7\n",
      "Current lowest MAE: 34953.75404418712\n",
      "\n",
      "\n",
      "degree 8\n",
      "Fitting 5 folds for each of 20 candidates, totalling 100 fits\n"
     ]
    },
    {
     "name": "stderr",
     "output_type": "stream",
     "text": [
      "C:\\Users\\UBAN\\AppData\\Local\\Programs\\Python\\Python312\\Lib\\site-packages\\sklearn\\linear_model\\_coordinate_descent.py:697: ConvergenceWarning: Objective did not converge. You might want to increase the number of iterations, check the scale of the features or consider increasing regularisation. Duality gap: 1.770e+11, tolerance: 2.770e+09\n",
      "  model = cd_fast.enet_coordinate_descent(\n"
     ]
    },
    {
     "name": "stdout",
     "output_type": "stream",
     "text": [
      "Best MAE: 47959.44532459199\n",
      "poly_degree: 8\n",
      "Current lowest MAE: 34953.75404418712\n",
      "\n",
      "\n",
      "degree 9\n",
      "Fitting 5 folds for each of 20 candidates, totalling 100 fits\n"
     ]
    },
    {
     "name": "stderr",
     "output_type": "stream",
     "text": [
      "C:\\Users\\UBAN\\AppData\\Local\\Programs\\Python\\Python312\\Lib\\site-packages\\sklearn\\linear_model\\_coordinate_descent.py:697: ConvergenceWarning: Objective did not converge. You might want to increase the number of iterations, check the scale of the features or consider increasing regularisation. Duality gap: 5.450e+11, tolerance: 2.770e+09\n",
      "  model = cd_fast.enet_coordinate_descent(\n"
     ]
    },
    {
     "name": "stdout",
     "output_type": "stream",
     "text": [
      "Best MAE: 47954.44948527704\n",
      "poly_degree: 9\n",
      "Current lowest MAE: 34953.75404418712\n",
      "\n",
      "\n",
      "degree 10\n",
      "Fitting 5 folds for each of 20 candidates, totalling 100 fits\n"
     ]
    },
    {
     "name": "stderr",
     "output_type": "stream",
     "text": [
      "C:\\Users\\UBAN\\AppData\\Local\\Programs\\Python\\Python312\\Lib\\site-packages\\sklearn\\linear_model\\_coordinate_descent.py:697: ConvergenceWarning: Objective did not converge. You might want to increase the number of iterations, check the scale of the features or consider increasing regularisation. Duality gap: 1.243e+13, tolerance: 2.770e+09\n",
      "  model = cd_fast.enet_coordinate_descent(\n"
     ]
    },
    {
     "name": "stdout",
     "output_type": "stream",
     "text": [
      "Best MAE: 47949.159624143365\n",
      "poly_degree: 10\n",
      "Current lowest MAE: 34953.75404418712\n",
      "\n",
      "\n",
      "processing moscow_stations_0.5-1km\n",
      "degree 1\n",
      "Fitting 5 folds for each of 20 candidates, totalling 100 fits\n",
      "Best MAE: 47630.7138066242\n",
      "poly_degree: 1\n",
      "Current lowest MAE: 34953.75404418712\n",
      "\n",
      "\n",
      "degree 2\n",
      "Fitting 5 folds for each of 20 candidates, totalling 100 fits\n",
      "Best MAE: 47654.44673095308\n",
      "poly_degree: 2\n",
      "Current lowest MAE: 34953.75404418712\n",
      "\n",
      "\n",
      "degree 3\n",
      "Fitting 5 folds for each of 20 candidates, totalling 100 fits\n",
      "Best MAE: 47563.61876155743\n",
      "poly_degree: 3\n",
      "Current lowest MAE: 34953.75404418712\n",
      "\n",
      "\n",
      "degree 4\n",
      "Fitting 5 folds for each of 20 candidates, totalling 100 fits\n"
     ]
    },
    {
     "name": "stderr",
     "output_type": "stream",
     "text": [
      "C:\\Users\\UBAN\\AppData\\Local\\Programs\\Python\\Python312\\Lib\\site-packages\\sklearn\\linear_model\\_coordinate_descent.py:697: ConvergenceWarning: Objective did not converge. You might want to increase the number of iterations, check the scale of the features or consider increasing regularisation. Duality gap: 1.230e+13, tolerance: 2.770e+09\n",
      "  model = cd_fast.enet_coordinate_descent(\n"
     ]
    },
    {
     "name": "stdout",
     "output_type": "stream",
     "text": [
      "Best MAE: 47555.02983593284\n",
      "poly_degree: 4\n",
      "Current lowest MAE: 34953.75404418712\n",
      "\n",
      "\n",
      "degree 5\n",
      "Fitting 5 folds for each of 20 candidates, totalling 100 fits\n"
     ]
    },
    {
     "name": "stderr",
     "output_type": "stream",
     "text": [
      "C:\\Users\\UBAN\\AppData\\Local\\Programs\\Python\\Python312\\Lib\\site-packages\\sklearn\\linear_model\\_coordinate_descent.py:697: ConvergenceWarning: Objective did not converge. You might want to increase the number of iterations, check the scale of the features or consider increasing regularisation. Duality gap: 1.220e+13, tolerance: 2.770e+09\n",
      "  model = cd_fast.enet_coordinate_descent(\n"
     ]
    },
    {
     "name": "stdout",
     "output_type": "stream",
     "text": [
      "Best MAE: 47542.39197860272\n",
      "poly_degree: 5\n",
      "Current lowest MAE: 34953.75404418712\n",
      "\n",
      "\n",
      "degree 6\n",
      "Fitting 5 folds for each of 20 candidates, totalling 100 fits\n"
     ]
    },
    {
     "name": "stderr",
     "output_type": "stream",
     "text": [
      "C:\\Users\\UBAN\\AppData\\Local\\Programs\\Python\\Python312\\Lib\\site-packages\\sklearn\\linear_model\\_coordinate_descent.py:697: ConvergenceWarning: Objective did not converge. You might want to increase the number of iterations, check the scale of the features or consider increasing regularisation. Duality gap: 1.235e+13, tolerance: 2.770e+09\n",
      "  model = cd_fast.enet_coordinate_descent(\n"
     ]
    },
    {
     "name": "stdout",
     "output_type": "stream",
     "text": [
      "Best MAE: 47538.22304403286\n",
      "poly_degree: 6\n",
      "Current lowest MAE: 34953.75404418712\n",
      "\n",
      "\n",
      "degree 7\n",
      "Fitting 5 folds for each of 20 candidates, totalling 100 fits\n"
     ]
    },
    {
     "name": "stderr",
     "output_type": "stream",
     "text": [
      "C:\\Users\\UBAN\\AppData\\Local\\Programs\\Python\\Python312\\Lib\\site-packages\\sklearn\\linear_model\\_coordinate_descent.py:697: ConvergenceWarning: Objective did not converge. You might want to increase the number of iterations, check the scale of the features or consider increasing regularisation. Duality gap: 1.233e+13, tolerance: 2.770e+09\n",
      "  model = cd_fast.enet_coordinate_descent(\n"
     ]
    },
    {
     "name": "stdout",
     "output_type": "stream",
     "text": [
      "Best MAE: 47538.36218602942\n",
      "poly_degree: 7\n",
      "Current lowest MAE: 34953.75404418712\n",
      "\n",
      "\n",
      "degree 8\n",
      "Fitting 5 folds for each of 20 candidates, totalling 100 fits\n"
     ]
    },
    {
     "name": "stderr",
     "output_type": "stream",
     "text": [
      "C:\\Users\\UBAN\\AppData\\Local\\Programs\\Python\\Python312\\Lib\\site-packages\\sklearn\\linear_model\\_coordinate_descent.py:697: ConvergenceWarning: Objective did not converge. You might want to increase the number of iterations, check the scale of the features or consider increasing regularisation. Duality gap: 2.439e+10, tolerance: 2.770e+09\n",
      "  model = cd_fast.enet_coordinate_descent(\n"
     ]
    },
    {
     "name": "stdout",
     "output_type": "stream",
     "text": [
      "Best MAE: 47539.8026951056\n",
      "poly_degree: 8\n",
      "Current lowest MAE: 34953.75404418712\n",
      "\n",
      "\n",
      "degree 9\n",
      "Fitting 5 folds for each of 20 candidates, totalling 100 fits\n"
     ]
    },
    {
     "name": "stderr",
     "output_type": "stream",
     "text": [
      "C:\\Users\\UBAN\\AppData\\Local\\Programs\\Python\\Python312\\Lib\\site-packages\\sklearn\\linear_model\\_coordinate_descent.py:697: ConvergenceWarning: Objective did not converge. You might want to increase the number of iterations, check the scale of the features or consider increasing regularisation. Duality gap: 1.133e+10, tolerance: 2.770e+09\n",
      "  model = cd_fast.enet_coordinate_descent(\n"
     ]
    },
    {
     "name": "stdout",
     "output_type": "stream",
     "text": [
      "Best MAE: 47541.66036958896\n",
      "poly_degree: 9\n",
      "Current lowest MAE: 34953.75404418712\n",
      "\n",
      "\n",
      "degree 10\n",
      "Fitting 5 folds for each of 20 candidates, totalling 100 fits\n"
     ]
    },
    {
     "name": "stderr",
     "output_type": "stream",
     "text": [
      "C:\\Users\\UBAN\\AppData\\Local\\Programs\\Python\\Python312\\Lib\\site-packages\\sklearn\\linear_model\\_coordinate_descent.py:697: ConvergenceWarning: Objective did not converge. You might want to increase the number of iterations, check the scale of the features or consider increasing regularisation. Duality gap: 6.349e+10, tolerance: 2.770e+09\n",
      "  model = cd_fast.enet_coordinate_descent(\n"
     ]
    },
    {
     "name": "stdout",
     "output_type": "stream",
     "text": [
      "Best MAE: 47543.06457684472\n",
      "poly_degree: 10\n",
      "Current lowest MAE: 34953.75404418712\n",
      "\n",
      "\n",
      "processing moscow_stations_1-3km\n",
      "degree 1\n",
      "Fitting 5 folds for each of 20 candidates, totalling 100 fits\n",
      "Best MAE: 41775.75840823969\n",
      "poly_degree: 1\n",
      "Current lowest MAE: 34953.75404418712\n",
      "\n",
      "\n",
      "degree 2\n",
      "Fitting 5 folds for each of 20 candidates, totalling 100 fits\n",
      "Best MAE: 41788.784565759175\n",
      "poly_degree: 2\n",
      "Current lowest MAE: 34953.75404418712\n",
      "\n",
      "\n",
      "degree 3\n",
      "Fitting 5 folds for each of 20 candidates, totalling 100 fits\n"
     ]
    },
    {
     "name": "stderr",
     "output_type": "stream",
     "text": [
      "C:\\Users\\UBAN\\AppData\\Local\\Programs\\Python\\Python312\\Lib\\site-packages\\sklearn\\linear_model\\_coordinate_descent.py:697: ConvergenceWarning: Objective did not converge. You might want to increase the number of iterations, check the scale of the features or consider increasing regularisation. Duality gap: 8.760e+12, tolerance: 2.770e+09\n",
      "  model = cd_fast.enet_coordinate_descent(\n"
     ]
    },
    {
     "name": "stdout",
     "output_type": "stream",
     "text": [
      "Best MAE: 41683.82949770011\n",
      "poly_degree: 3\n",
      "Current lowest MAE: 34953.75404418712\n",
      "\n",
      "\n",
      "degree 4\n",
      "Fitting 5 folds for each of 20 candidates, totalling 100 fits\n"
     ]
    },
    {
     "name": "stderr",
     "output_type": "stream",
     "text": [
      "C:\\Users\\UBAN\\AppData\\Local\\Programs\\Python\\Python312\\Lib\\site-packages\\sklearn\\linear_model\\_coordinate_descent.py:697: ConvergenceWarning: Objective did not converge. You might want to increase the number of iterations, check the scale of the features or consider increasing regularisation. Duality gap: 9.666e+12, tolerance: 2.770e+09\n",
      "  model = cd_fast.enet_coordinate_descent(\n"
     ]
    },
    {
     "name": "stdout",
     "output_type": "stream",
     "text": [
      "Best MAE: 41692.64013745985\n",
      "poly_degree: 4\n",
      "Current lowest MAE: 34953.75404418712\n",
      "\n",
      "\n",
      "degree 5\n",
      "Fitting 5 folds for each of 20 candidates, totalling 100 fits\n"
     ]
    },
    {
     "name": "stderr",
     "output_type": "stream",
     "text": [
      "C:\\Users\\UBAN\\AppData\\Local\\Programs\\Python\\Python312\\Lib\\site-packages\\sklearn\\linear_model\\_coordinate_descent.py:697: ConvergenceWarning: Objective did not converge. You might want to increase the number of iterations, check the scale of the features or consider increasing regularisation. Duality gap: 1.009e+13, tolerance: 2.770e+09\n",
      "  model = cd_fast.enet_coordinate_descent(\n"
     ]
    },
    {
     "name": "stdout",
     "output_type": "stream",
     "text": [
      "Best MAE: 41695.03120396453\n",
      "poly_degree: 5\n",
      "Current lowest MAE: 34953.75404418712\n",
      "\n",
      "\n",
      "degree 6\n",
      "Fitting 5 folds for each of 20 candidates, totalling 100 fits\n"
     ]
    },
    {
     "name": "stderr",
     "output_type": "stream",
     "text": [
      "C:\\Users\\UBAN\\AppData\\Local\\Programs\\Python\\Python312\\Lib\\site-packages\\sklearn\\linear_model\\_coordinate_descent.py:697: ConvergenceWarning: Objective did not converge. You might want to increase the number of iterations, check the scale of the features or consider increasing regularisation. Duality gap: 1.003e+13, tolerance: 2.770e+09\n",
      "  model = cd_fast.enet_coordinate_descent(\n"
     ]
    },
    {
     "name": "stdout",
     "output_type": "stream",
     "text": [
      "Best MAE: 41692.96062621813\n",
      "poly_degree: 6\n",
      "Current lowest MAE: 34953.75404418712\n",
      "\n",
      "\n",
      "degree 7\n",
      "Fitting 5 folds for each of 20 candidates, totalling 100 fits\n"
     ]
    },
    {
     "name": "stderr",
     "output_type": "stream",
     "text": [
      "C:\\Users\\UBAN\\AppData\\Local\\Programs\\Python\\Python312\\Lib\\site-packages\\sklearn\\linear_model\\_coordinate_descent.py:697: ConvergenceWarning: Objective did not converge. You might want to increase the number of iterations, check the scale of the features or consider increasing regularisation. Duality gap: 9.703e+12, tolerance: 2.770e+09\n",
      "  model = cd_fast.enet_coordinate_descent(\n"
     ]
    },
    {
     "name": "stdout",
     "output_type": "stream",
     "text": [
      "Best MAE: 41691.91315080709\n",
      "poly_degree: 7\n",
      "Current lowest MAE: 34953.75404418712\n",
      "\n",
      "\n",
      "degree 8\n",
      "Fitting 5 folds for each of 20 candidates, totalling 100 fits\n"
     ]
    },
    {
     "name": "stderr",
     "output_type": "stream",
     "text": [
      "C:\\Users\\UBAN\\AppData\\Local\\Programs\\Python\\Python312\\Lib\\site-packages\\sklearn\\linear_model\\_coordinate_descent.py:697: ConvergenceWarning: Objective did not converge. You might want to increase the number of iterations, check the scale of the features or consider increasing regularisation. Duality gap: 9.208e+12, tolerance: 2.770e+09\n",
      "  model = cd_fast.enet_coordinate_descent(\n"
     ]
    },
    {
     "name": "stdout",
     "output_type": "stream",
     "text": [
      "Best MAE: 41692.143536897514\n",
      "poly_degree: 8\n",
      "Current lowest MAE: 34953.75404418712\n",
      "\n",
      "\n",
      "degree 9\n",
      "Fitting 5 folds for each of 20 candidates, totalling 100 fits\n"
     ]
    },
    {
     "name": "stderr",
     "output_type": "stream",
     "text": [
      "C:\\Users\\UBAN\\AppData\\Local\\Programs\\Python\\Python312\\Lib\\site-packages\\sklearn\\linear_model\\_coordinate_descent.py:697: ConvergenceWarning: Objective did not converge. You might want to increase the number of iterations, check the scale of the features or consider increasing regularisation. Duality gap: 8.936e+12, tolerance: 2.770e+09\n",
      "  model = cd_fast.enet_coordinate_descent(\n"
     ]
    },
    {
     "name": "stdout",
     "output_type": "stream",
     "text": [
      "Best MAE: 41692.984960694645\n",
      "poly_degree: 9\n",
      "Current lowest MAE: 34953.75404418712\n",
      "\n",
      "\n",
      "degree 10\n",
      "Fitting 5 folds for each of 20 candidates, totalling 100 fits\n"
     ]
    },
    {
     "name": "stderr",
     "output_type": "stream",
     "text": [
      "C:\\Users\\UBAN\\AppData\\Local\\Programs\\Python\\Python312\\Lib\\site-packages\\sklearn\\linear_model\\_coordinate_descent.py:697: ConvergenceWarning: Objective did not converge. You might want to increase the number of iterations, check the scale of the features or consider increasing regularisation. Duality gap: 9.145e+12, tolerance: 2.770e+09\n",
      "  model = cd_fast.enet_coordinate_descent(\n"
     ]
    },
    {
     "name": "stdout",
     "output_type": "stream",
     "text": [
      "Best MAE: 41694.216092323884\n",
      "poly_degree: 10\n",
      "Current lowest MAE: 34953.75404418712\n",
      "\n",
      "\n",
      "processing moscow_stations_3-5km\n",
      "degree 1\n",
      "Fitting 5 folds for each of 20 candidates, totalling 100 fits\n",
      "Best MAE: 41677.84845411709\n",
      "poly_degree: 1\n",
      "Current lowest MAE: 34953.75404418712\n",
      "\n",
      "\n",
      "degree 2\n",
      "Fitting 5 folds for each of 20 candidates, totalling 100 fits\n",
      "Best MAE: 41689.51794790123\n",
      "poly_degree: 2\n",
      "Current lowest MAE: 34953.75404418712\n",
      "\n",
      "\n",
      "degree 3\n",
      "Fitting 5 folds for each of 20 candidates, totalling 100 fits\n"
     ]
    },
    {
     "name": "stderr",
     "output_type": "stream",
     "text": [
      "C:\\Users\\UBAN\\AppData\\Local\\Programs\\Python\\Python312\\Lib\\site-packages\\sklearn\\linear_model\\_coordinate_descent.py:697: ConvergenceWarning: Objective did not converge. You might want to increase the number of iterations, check the scale of the features or consider increasing regularisation. Duality gap: 1.008e+13, tolerance: 2.770e+09\n",
      "  model = cd_fast.enet_coordinate_descent(\n"
     ]
    },
    {
     "name": "stdout",
     "output_type": "stream",
     "text": [
      "Best MAE: 41673.06164652201\n",
      "poly_degree: 3\n",
      "Current lowest MAE: 34953.75404418712\n",
      "\n",
      "\n",
      "degree 4\n",
      "Fitting 5 folds for each of 20 candidates, totalling 100 fits\n",
      "Best MAE: 41675.841233999585\n",
      "poly_degree: 4\n",
      "Current lowest MAE: 34953.75404418712\n",
      "\n",
      "\n",
      "degree 5\n",
      "Fitting 5 folds for each of 20 candidates, totalling 100 fits\n",
      "Best MAE: 41680.571151683296\n",
      "poly_degree: 5\n",
      "Current lowest MAE: 34953.75404418712\n",
      "\n",
      "\n",
      "degree 6\n",
      "Fitting 5 folds for each of 20 candidates, totalling 100 fits\n"
     ]
    },
    {
     "name": "stderr",
     "output_type": "stream",
     "text": [
      "C:\\Users\\UBAN\\AppData\\Local\\Programs\\Python\\Python312\\Lib\\site-packages\\sklearn\\linear_model\\_coordinate_descent.py:697: ConvergenceWarning: Objective did not converge. You might want to increase the number of iterations, check the scale of the features or consider increasing regularisation. Duality gap: 1.318e+10, tolerance: 2.770e+09\n",
      "  model = cd_fast.enet_coordinate_descent(\n"
     ]
    },
    {
     "name": "stdout",
     "output_type": "stream",
     "text": [
      "Best MAE: 41683.94071333775\n",
      "poly_degree: 6\n",
      "Current lowest MAE: 34953.75404418712\n",
      "\n",
      "\n",
      "degree 7\n",
      "Fitting 5 folds for each of 20 candidates, totalling 100 fits\n"
     ]
    },
    {
     "name": "stderr",
     "output_type": "stream",
     "text": [
      "C:\\Users\\UBAN\\AppData\\Local\\Programs\\Python\\Python312\\Lib\\site-packages\\sklearn\\linear_model\\_coordinate_descent.py:697: ConvergenceWarning: Objective did not converge. You might want to increase the number of iterations, check the scale of the features or consider increasing regularisation. Duality gap: 1.029e+13, tolerance: 2.770e+09\n",
      "  model = cd_fast.enet_coordinate_descent(\n"
     ]
    },
    {
     "name": "stdout",
     "output_type": "stream",
     "text": [
      "Best MAE: 41684.360965554544\n",
      "poly_degree: 7\n",
      "Current lowest MAE: 34953.75404418712\n",
      "\n",
      "\n",
      "degree 8\n",
      "Fitting 5 folds for each of 20 candidates, totalling 100 fits\n"
     ]
    },
    {
     "name": "stderr",
     "output_type": "stream",
     "text": [
      "C:\\Users\\UBAN\\AppData\\Local\\Programs\\Python\\Python312\\Lib\\site-packages\\sklearn\\linear_model\\_coordinate_descent.py:697: ConvergenceWarning: Objective did not converge. You might want to increase the number of iterations, check the scale of the features or consider increasing regularisation. Duality gap: 1.034e+13, tolerance: 2.770e+09\n",
      "  model = cd_fast.enet_coordinate_descent(\n"
     ]
    },
    {
     "name": "stdout",
     "output_type": "stream",
     "text": [
      "Best MAE: 41682.86812951726\n",
      "poly_degree: 8\n",
      "Current lowest MAE: 34953.75404418712\n",
      "\n",
      "\n",
      "degree 9\n",
      "Fitting 5 folds for each of 20 candidates, totalling 100 fits\n"
     ]
    },
    {
     "name": "stderr",
     "output_type": "stream",
     "text": [
      "C:\\Users\\UBAN\\AppData\\Local\\Programs\\Python\\Python312\\Lib\\site-packages\\sklearn\\linear_model\\_coordinate_descent.py:697: ConvergenceWarning: Objective did not converge. You might want to increase the number of iterations, check the scale of the features or consider increasing regularisation. Duality gap: 1.040e+13, tolerance: 2.770e+09\n",
      "  model = cd_fast.enet_coordinate_descent(\n"
     ]
    },
    {
     "name": "stdout",
     "output_type": "stream",
     "text": [
      "Best MAE: 41683.04983945383\n",
      "poly_degree: 9\n",
      "Current lowest MAE: 34953.75404418712\n",
      "\n",
      "\n",
      "degree 10\n",
      "Fitting 5 folds for each of 20 candidates, totalling 100 fits\n"
     ]
    },
    {
     "name": "stderr",
     "output_type": "stream",
     "text": [
      "C:\\Users\\UBAN\\AppData\\Local\\Programs\\Python\\Python312\\Lib\\site-packages\\sklearn\\linear_model\\_coordinate_descent.py:697: ConvergenceWarning: Objective did not converge. You might want to increase the number of iterations, check the scale of the features or consider increasing regularisation. Duality gap: 1.042e+13, tolerance: 2.770e+09\n",
      "  model = cd_fast.enet_coordinate_descent(\n"
     ]
    },
    {
     "name": "stdout",
     "output_type": "stream",
     "text": [
      "Best MAE: 41685.32815398688\n",
      "poly_degree: 10\n",
      "Current lowest MAE: 34953.75404418712\n",
      "\n",
      "\n",
      "processing parks_closest_km\n",
      "degree 1\n",
      "Fitting 5 folds for each of 20 candidates, totalling 100 fits\n",
      "Best MAE: 50107.15314423297\n",
      "poly_degree: 1\n",
      "Current lowest MAE: 34953.75404418712\n",
      "\n",
      "\n",
      "degree 2\n",
      "Fitting 5 folds for each of 20 candidates, totalling 100 fits\n",
      "Best MAE: 50047.07780168013\n",
      "poly_degree: 2\n",
      "Current lowest MAE: 34953.75404418712\n",
      "\n",
      "\n",
      "degree 3\n",
      "Fitting 5 folds for each of 20 candidates, totalling 100 fits\n",
      "Best MAE: 50040.13989195163\n",
      "poly_degree: 3\n",
      "Current lowest MAE: 34953.75404418712\n",
      "\n",
      "\n",
      "degree 4\n",
      "Fitting 5 folds for each of 20 candidates, totalling 100 fits\n"
     ]
    },
    {
     "name": "stderr",
     "output_type": "stream",
     "text": [
      "C:\\Users\\UBAN\\AppData\\Local\\Programs\\Python\\Python312\\Lib\\site-packages\\sklearn\\linear_model\\_coordinate_descent.py:697: ConvergenceWarning: Objective did not converge. You might want to increase the number of iterations, check the scale of the features or consider increasing regularisation. Duality gap: 1.081e+12, tolerance: 2.770e+09\n",
      "  model = cd_fast.enet_coordinate_descent(\n"
     ]
    },
    {
     "name": "stdout",
     "output_type": "stream",
     "text": [
      "Best MAE: 50038.06943244262\n",
      "poly_degree: 4\n",
      "Current lowest MAE: 34953.75404418712\n",
      "\n",
      "\n",
      "degree 5\n",
      "Fitting 5 folds for each of 20 candidates, totalling 100 fits\n"
     ]
    },
    {
     "name": "stderr",
     "output_type": "stream",
     "text": [
      "C:\\Users\\UBAN\\AppData\\Local\\Programs\\Python\\Python312\\Lib\\site-packages\\sklearn\\linear_model\\_coordinate_descent.py:697: ConvergenceWarning: Objective did not converge. You might want to increase the number of iterations, check the scale of the features or consider increasing regularisation. Duality gap: 5.968e+09, tolerance: 2.770e+09\n",
      "  model = cd_fast.enet_coordinate_descent(\n"
     ]
    },
    {
     "name": "stdout",
     "output_type": "stream",
     "text": [
      "Best MAE: 50037.407088608044\n",
      "poly_degree: 5\n",
      "Current lowest MAE: 34953.75404418712\n",
      "\n",
      "\n",
      "degree 6\n",
      "Fitting 5 folds for each of 20 candidates, totalling 100 fits\n"
     ]
    },
    {
     "name": "stderr",
     "output_type": "stream",
     "text": [
      "C:\\Users\\UBAN\\AppData\\Local\\Programs\\Python\\Python312\\Lib\\site-packages\\sklearn\\linear_model\\_coordinate_descent.py:697: ConvergenceWarning: Objective did not converge. You might want to increase the number of iterations, check the scale of the features or consider increasing regularisation. Duality gap: 1.362e+13, tolerance: 2.770e+09\n",
      "  model = cd_fast.enet_coordinate_descent(\n"
     ]
    },
    {
     "name": "stdout",
     "output_type": "stream",
     "text": [
      "Best MAE: 50030.88257593416\n",
      "poly_degree: 6\n",
      "Current lowest MAE: 34953.75404418712\n",
      "\n",
      "\n",
      "degree 7\n",
      "Fitting 5 folds for each of 20 candidates, totalling 100 fits\n"
     ]
    },
    {
     "name": "stderr",
     "output_type": "stream",
     "text": [
      "C:\\Users\\UBAN\\AppData\\Local\\Programs\\Python\\Python312\\Lib\\site-packages\\sklearn\\linear_model\\_coordinate_descent.py:697: ConvergenceWarning: Objective did not converge. You might want to increase the number of iterations, check the scale of the features or consider increasing regularisation. Duality gap: 6.144e+09, tolerance: 2.770e+09\n",
      "  model = cd_fast.enet_coordinate_descent(\n"
     ]
    },
    {
     "name": "stdout",
     "output_type": "stream",
     "text": [
      "Best MAE: 50043.19983380941\n",
      "poly_degree: 7\n",
      "Current lowest MAE: 34953.75404418712\n",
      "\n",
      "\n",
      "degree 8\n",
      "Fitting 5 folds for each of 20 candidates, totalling 100 fits\n"
     ]
    },
    {
     "name": "stderr",
     "output_type": "stream",
     "text": [
      "C:\\Users\\UBAN\\AppData\\Local\\Programs\\Python\\Python312\\Lib\\site-packages\\sklearn\\linear_model\\_coordinate_descent.py:697: ConvergenceWarning: Objective did not converge. You might want to increase the number of iterations, check the scale of the features or consider increasing regularisation. Duality gap: 6.224e+09, tolerance: 2.770e+09\n",
      "  model = cd_fast.enet_coordinate_descent(\n"
     ]
    },
    {
     "name": "stdout",
     "output_type": "stream",
     "text": [
      "Best MAE: 50042.2044080957\n",
      "poly_degree: 8\n",
      "Current lowest MAE: 34953.75404418712\n",
      "\n",
      "\n",
      "degree 9\n",
      "Fitting 5 folds for each of 20 candidates, totalling 100 fits\n",
      "Best MAE: 50056.171492096655\n",
      "poly_degree: 9\n",
      "Current lowest MAE: 34953.75404418712\n",
      "\n",
      "\n",
      "degree 10\n",
      "Fitting 5 folds for each of 20 candidates, totalling 100 fits\n",
      "Best MAE: 50059.7171801191\n",
      "poly_degree: 10\n",
      "Current lowest MAE: 34953.75404418712\n",
      "\n",
      "\n",
      "processing parks_less500m\n",
      "degree 1\n",
      "Fitting 5 folds for each of 20 candidates, totalling 100 fits\n",
      "Best MAE: 49289.13361205524\n",
      "poly_degree: 1\n",
      "Current lowest MAE: 34953.75404418712\n",
      "\n",
      "\n",
      "degree 2\n",
      "Fitting 5 folds for each of 20 candidates, totalling 100 fits\n",
      "Best MAE: 49135.65097975255\n",
      "poly_degree: 2\n",
      "Current lowest MAE: 34953.75404418712\n",
      "\n",
      "\n",
      "degree 3\n",
      "Fitting 5 folds for each of 20 candidates, totalling 100 fits\n"
     ]
    },
    {
     "name": "stderr",
     "output_type": "stream",
     "text": [
      "C:\\Users\\UBAN\\AppData\\Local\\Programs\\Python\\Python312\\Lib\\site-packages\\sklearn\\linear_model\\_coordinate_descent.py:697: ConvergenceWarning: Objective did not converge. You might want to increase the number of iterations, check the scale of the features or consider increasing regularisation. Duality gap: 8.604e+09, tolerance: 2.770e+09\n",
      "  model = cd_fast.enet_coordinate_descent(\n"
     ]
    },
    {
     "name": "stdout",
     "output_type": "stream",
     "text": [
      "Best MAE: 49104.807452089415\n",
      "poly_degree: 3\n",
      "Current lowest MAE: 34953.75404418712\n",
      "\n",
      "\n",
      "degree 4\n",
      "Fitting 5 folds for each of 20 candidates, totalling 100 fits\n",
      "Best MAE: 49104.788033027384\n",
      "poly_degree: 4\n",
      "Current lowest MAE: 34953.75404418712\n",
      "\n",
      "\n",
      "degree 5\n",
      "Fitting 5 folds for each of 20 candidates, totalling 100 fits\n"
     ]
    },
    {
     "name": "stderr",
     "output_type": "stream",
     "text": [
      "C:\\Users\\UBAN\\AppData\\Local\\Programs\\Python\\Python312\\Lib\\site-packages\\sklearn\\linear_model\\_coordinate_descent.py:697: ConvergenceWarning: Objective did not converge. You might want to increase the number of iterations, check the scale of the features or consider increasing regularisation. Duality gap: 4.607e+09, tolerance: 2.770e+09\n",
      "  model = cd_fast.enet_coordinate_descent(\n"
     ]
    },
    {
     "name": "stdout",
     "output_type": "stream",
     "text": [
      "Best MAE: 49104.640408781896\n",
      "poly_degree: 5\n",
      "Current lowest MAE: 34953.75404418712\n",
      "\n",
      "\n",
      "degree 6\n",
      "Fitting 5 folds for each of 20 candidates, totalling 100 fits\n",
      "Best MAE: 49106.91536687371\n",
      "poly_degree: 6\n",
      "Current lowest MAE: 34953.75404418712\n",
      "\n",
      "\n",
      "degree 7\n",
      "Fitting 5 folds for each of 20 candidates, totalling 100 fits\n",
      "Best MAE: 49110.28781088657\n",
      "poly_degree: 7\n",
      "Current lowest MAE: 34953.75404418712\n",
      "\n",
      "\n",
      "degree 8\n",
      "Fitting 5 folds for each of 20 candidates, totalling 100 fits\n",
      "Best MAE: 49117.07283333944\n",
      "poly_degree: 8\n",
      "Current lowest MAE: 34953.75404418712\n",
      "\n",
      "\n",
      "degree 9\n",
      "Fitting 5 folds for each of 20 candidates, totalling 100 fits\n",
      "Best MAE: 49125.457389957344\n",
      "poly_degree: 9\n",
      "Current lowest MAE: 34953.75404418712\n",
      "\n",
      "\n",
      "degree 10\n",
      "Fitting 5 folds for each of 20 candidates, totalling 100 fits\n",
      "Best MAE: 49136.76684512487\n",
      "poly_degree: 10\n",
      "Current lowest MAE: 34953.75404418712\n",
      "\n",
      "\n",
      "processing parks_0.5-1km\n",
      "degree 1\n",
      "Fitting 5 folds for each of 20 candidates, totalling 100 fits\n",
      "Best MAE: 46798.764184440486\n",
      "poly_degree: 1\n",
      "Current lowest MAE: 34953.75404418712\n",
      "\n",
      "\n",
      "degree 2\n",
      "Fitting 5 folds for each of 20 candidates, totalling 100 fits\n",
      "Best MAE: 46677.355566756494\n",
      "poly_degree: 2\n",
      "Current lowest MAE: 34953.75404418712\n",
      "\n",
      "\n",
      "degree 3\n",
      "Fitting 5 folds for each of 20 candidates, totalling 100 fits\n",
      "Best MAE: 46673.6216514103\n",
      "poly_degree: 3\n",
      "Current lowest MAE: 34953.75404418712\n",
      "\n",
      "\n",
      "degree 4\n",
      "Fitting 5 folds for each of 20 candidates, totalling 100 fits\n",
      "Best MAE: 46672.32583139626\n",
      "poly_degree: 4\n",
      "Current lowest MAE: 34953.75404418712\n",
      "\n",
      "\n",
      "degree 5\n",
      "Fitting 5 folds for each of 20 candidates, totalling 100 fits\n",
      "Best MAE: 46672.811786279985\n",
      "poly_degree: 5\n",
      "Current lowest MAE: 34953.75404418712\n",
      "\n",
      "\n",
      "degree 6\n",
      "Fitting 5 folds for each of 20 candidates, totalling 100 fits\n"
     ]
    },
    {
     "name": "stderr",
     "output_type": "stream",
     "text": [
      "C:\\Users\\UBAN\\AppData\\Local\\Programs\\Python\\Python312\\Lib\\site-packages\\sklearn\\linear_model\\_coordinate_descent.py:697: ConvergenceWarning: Objective did not converge. You might want to increase the number of iterations, check the scale of the features or consider increasing regularisation. Duality gap: 1.208e+13, tolerance: 2.770e+09\n",
      "  model = cd_fast.enet_coordinate_descent(\n"
     ]
    },
    {
     "name": "stdout",
     "output_type": "stream",
     "text": [
      "Best MAE: 46671.45259656123\n",
      "poly_degree: 6\n",
      "Current lowest MAE: 34953.75404418712\n",
      "\n",
      "\n",
      "degree 7\n",
      "Fitting 5 folds for each of 20 candidates, totalling 100 fits\n"
     ]
    },
    {
     "name": "stderr",
     "output_type": "stream",
     "text": [
      "C:\\Users\\UBAN\\AppData\\Local\\Programs\\Python\\Python312\\Lib\\site-packages\\sklearn\\linear_model\\_coordinate_descent.py:697: ConvergenceWarning: Objective did not converge. You might want to increase the number of iterations, check the scale of the features or consider increasing regularisation. Duality gap: 1.208e+13, tolerance: 2.770e+09\n",
      "  model = cd_fast.enet_coordinate_descent(\n"
     ]
    },
    {
     "name": "stdout",
     "output_type": "stream",
     "text": [
      "Best MAE: 46655.42601092426\n",
      "poly_degree: 7\n",
      "Current lowest MAE: 34953.75404418712\n",
      "\n",
      "\n",
      "degree 8\n",
      "Fitting 5 folds for each of 20 candidates, totalling 100 fits\n"
     ]
    },
    {
     "name": "stderr",
     "output_type": "stream",
     "text": [
      "C:\\Users\\UBAN\\AppData\\Local\\Programs\\Python\\Python312\\Lib\\site-packages\\sklearn\\linear_model\\_coordinate_descent.py:697: ConvergenceWarning: Objective did not converge. You might want to increase the number of iterations, check the scale of the features or consider increasing regularisation. Duality gap: 1.207e+13, tolerance: 2.770e+09\n",
      "  model = cd_fast.enet_coordinate_descent(\n"
     ]
    },
    {
     "name": "stdout",
     "output_type": "stream",
     "text": [
      "Best MAE: 46649.57446089668\n",
      "poly_degree: 8\n",
      "Current lowest MAE: 34953.75404418712\n",
      "\n",
      "\n",
      "degree 9\n",
      "Fitting 5 folds for each of 20 candidates, totalling 100 fits\n"
     ]
    },
    {
     "name": "stderr",
     "output_type": "stream",
     "text": [
      "C:\\Users\\UBAN\\AppData\\Local\\Programs\\Python\\Python312\\Lib\\site-packages\\sklearn\\linear_model\\_coordinate_descent.py:697: ConvergenceWarning: Objective did not converge. You might want to increase the number of iterations, check the scale of the features or consider increasing regularisation. Duality gap: 1.206e+13, tolerance: 2.770e+09\n",
      "  model = cd_fast.enet_coordinate_descent(\n"
     ]
    },
    {
     "name": "stdout",
     "output_type": "stream",
     "text": [
      "Best MAE: 46652.185220969695\n",
      "poly_degree: 9\n",
      "Current lowest MAE: 34953.75404418712\n",
      "\n",
      "\n",
      "degree 10\n",
      "Fitting 5 folds for each of 20 candidates, totalling 100 fits\n"
     ]
    },
    {
     "name": "stderr",
     "output_type": "stream",
     "text": [
      "C:\\Users\\UBAN\\AppData\\Local\\Programs\\Python\\Python312\\Lib\\site-packages\\sklearn\\linear_model\\_coordinate_descent.py:697: ConvergenceWarning: Objective did not converge. You might want to increase the number of iterations, check the scale of the features or consider increasing regularisation. Duality gap: 1.206e+13, tolerance: 2.770e+09\n",
      "  model = cd_fast.enet_coordinate_descent(\n"
     ]
    },
    {
     "name": "stdout",
     "output_type": "stream",
     "text": [
      "Best MAE: 46660.12503323401\n",
      "poly_degree: 10\n",
      "Current lowest MAE: 34953.75404418712\n",
      "\n",
      "\n",
      "processing parks_1-3km\n",
      "degree 1\n",
      "Fitting 5 folds for each of 20 candidates, totalling 100 fits\n",
      "Best MAE: 42047.56321657018\n",
      "poly_degree: 1\n",
      "Current lowest MAE: 34953.75404418712\n",
      "\n",
      "\n",
      "degree 2\n",
      "Fitting 5 folds for each of 20 candidates, totalling 100 fits\n",
      "Best MAE: 42081.38585661218\n",
      "poly_degree: 2\n",
      "Current lowest MAE: 34953.75404418712\n",
      "\n",
      "\n",
      "degree 3\n",
      "Fitting 5 folds for each of 20 candidates, totalling 100 fits\n"
     ]
    },
    {
     "name": "stderr",
     "output_type": "stream",
     "text": [
      "C:\\Users\\UBAN\\AppData\\Local\\Programs\\Python\\Python312\\Lib\\site-packages\\sklearn\\linear_model\\_coordinate_descent.py:697: ConvergenceWarning: Objective did not converge. You might want to increase the number of iterations, check the scale of the features or consider increasing regularisation. Duality gap: 8.958e+12, tolerance: 2.770e+09\n",
      "  model = cd_fast.enet_coordinate_descent(\n"
     ]
    },
    {
     "name": "stdout",
     "output_type": "stream",
     "text": [
      "Best MAE: 42045.107832537426\n",
      "poly_degree: 3\n",
      "Current lowest MAE: 34953.75404418712\n",
      "\n",
      "\n",
      "degree 4\n",
      "Fitting 5 folds for each of 20 candidates, totalling 100 fits\n"
     ]
    },
    {
     "name": "stderr",
     "output_type": "stream",
     "text": [
      "C:\\Users\\UBAN\\AppData\\Local\\Programs\\Python\\Python312\\Lib\\site-packages\\sklearn\\linear_model\\_coordinate_descent.py:697: ConvergenceWarning: Objective did not converge. You might want to increase the number of iterations, check the scale of the features or consider increasing regularisation. Duality gap: 9.478e+12, tolerance: 2.770e+09\n",
      "  model = cd_fast.enet_coordinate_descent(\n"
     ]
    },
    {
     "name": "stdout",
     "output_type": "stream",
     "text": [
      "Best MAE: 42060.028985600475\n",
      "poly_degree: 4\n",
      "Current lowest MAE: 34953.75404418712\n",
      "\n",
      "\n",
      "degree 5\n",
      "Fitting 5 folds for each of 20 candidates, totalling 100 fits\n",
      "Best MAE: 42067.027322486174\n",
      "poly_degree: 5\n",
      "Current lowest MAE: 34953.75404418712\n",
      "\n",
      "\n",
      "degree 6\n",
      "Fitting 5 folds for each of 20 candidates, totalling 100 fits\n",
      "Best MAE: 42067.209229674576\n",
      "poly_degree: 6\n",
      "Current lowest MAE: 34953.75404418712\n",
      "\n",
      "\n",
      "degree 7\n",
      "Fitting 5 folds for each of 20 candidates, totalling 100 fits\n",
      "Best MAE: 42067.84667604899\n",
      "poly_degree: 7\n",
      "Current lowest MAE: 34953.75404418712\n",
      "\n",
      "\n",
      "degree 8\n",
      "Fitting 5 folds for each of 20 candidates, totalling 100 fits\n",
      "Best MAE: 42069.11653798063\n",
      "poly_degree: 8\n",
      "Current lowest MAE: 34953.75404418712\n",
      "\n",
      "\n",
      "degree 9\n",
      "Fitting 5 folds for each of 20 candidates, totalling 100 fits\n",
      "Best MAE: 42070.06256689418\n",
      "poly_degree: 9\n",
      "Current lowest MAE: 34953.75404418712\n",
      "\n",
      "\n",
      "degree 10\n",
      "Fitting 5 folds for each of 20 candidates, totalling 100 fits\n",
      "Best MAE: 42070.588544326994\n",
      "poly_degree: 10\n",
      "Current lowest MAE: 34953.75404418712\n",
      "\n",
      "\n",
      "processing parks_3-5km\n",
      "degree 1\n",
      "Fitting 5 folds for each of 20 candidates, totalling 100 fits\n",
      "Best MAE: 41710.12623200657\n",
      "poly_degree: 1\n",
      "Current lowest MAE: 34953.75404418712\n",
      "\n",
      "\n",
      "degree 2\n",
      "Fitting 5 folds for each of 20 candidates, totalling 100 fits\n",
      "Best MAE: 41634.08215861648\n",
      "poly_degree: 2\n",
      "Current lowest MAE: 34953.75404418712\n",
      "\n",
      "\n",
      "degree 3\n",
      "Fitting 5 folds for each of 20 candidates, totalling 100 fits\n"
     ]
    },
    {
     "name": "stderr",
     "output_type": "stream",
     "text": [
      "C:\\Users\\UBAN\\AppData\\Local\\Programs\\Python\\Python312\\Lib\\site-packages\\sklearn\\linear_model\\_coordinate_descent.py:697: ConvergenceWarning: Objective did not converge. You might want to increase the number of iterations, check the scale of the features or consider increasing regularisation. Duality gap: 1.021e+13, tolerance: 2.770e+09\n",
      "  model = cd_fast.enet_coordinate_descent(\n"
     ]
    },
    {
     "name": "stdout",
     "output_type": "stream",
     "text": [
      "Best MAE: 41438.593103726555\n",
      "poly_degree: 3\n",
      "Current lowest MAE: 34953.75404418712\n",
      "\n",
      "\n",
      "degree 4\n",
      "Fitting 5 folds for each of 20 candidates, totalling 100 fits\n"
     ]
    },
    {
     "name": "stderr",
     "output_type": "stream",
     "text": [
      "C:\\Users\\UBAN\\AppData\\Local\\Programs\\Python\\Python312\\Lib\\site-packages\\sklearn\\linear_model\\_coordinate_descent.py:697: ConvergenceWarning: Objective did not converge. You might want to increase the number of iterations, check the scale of the features or consider increasing regularisation. Duality gap: 1.003e+13, tolerance: 2.770e+09\n",
      "  model = cd_fast.enet_coordinate_descent(\n"
     ]
    },
    {
     "name": "stdout",
     "output_type": "stream",
     "text": [
      "Best MAE: 41398.260269399965\n",
      "poly_degree: 4\n",
      "Current lowest MAE: 34953.75404418712\n",
      "\n",
      "\n",
      "degree 5\n",
      "Fitting 5 folds for each of 20 candidates, totalling 100 fits\n"
     ]
    },
    {
     "name": "stderr",
     "output_type": "stream",
     "text": [
      "C:\\Users\\UBAN\\AppData\\Local\\Programs\\Python\\Python312\\Lib\\site-packages\\sklearn\\linear_model\\_coordinate_descent.py:697: ConvergenceWarning: Objective did not converge. You might want to increase the number of iterations, check the scale of the features or consider increasing regularisation. Duality gap: 9.931e+12, tolerance: 2.770e+09\n",
      "  model = cd_fast.enet_coordinate_descent(\n"
     ]
    },
    {
     "name": "stdout",
     "output_type": "stream",
     "text": [
      "Best MAE: 41394.09316238259\n",
      "poly_degree: 5\n",
      "Current lowest MAE: 34953.75404418712\n",
      "\n",
      "\n",
      "degree 6\n",
      "Fitting 5 folds for each of 20 candidates, totalling 100 fits\n"
     ]
    },
    {
     "name": "stderr",
     "output_type": "stream",
     "text": [
      "C:\\Users\\UBAN\\AppData\\Local\\Programs\\Python\\Python312\\Lib\\site-packages\\sklearn\\linear_model\\_coordinate_descent.py:697: ConvergenceWarning: Objective did not converge. You might want to increase the number of iterations, check the scale of the features or consider increasing regularisation. Duality gap: 9.992e+12, tolerance: 2.770e+09\n",
      "  model = cd_fast.enet_coordinate_descent(\n"
     ]
    },
    {
     "name": "stdout",
     "output_type": "stream",
     "text": [
      "Best MAE: 41399.684343847155\n",
      "poly_degree: 6\n",
      "Current lowest MAE: 34953.75404418712\n",
      "\n",
      "\n",
      "degree 7\n",
      "Fitting 5 folds for each of 20 candidates, totalling 100 fits\n"
     ]
    },
    {
     "name": "stderr",
     "output_type": "stream",
     "text": [
      "C:\\Users\\UBAN\\AppData\\Local\\Programs\\Python\\Python312\\Lib\\site-packages\\sklearn\\linear_model\\_coordinate_descent.py:697: ConvergenceWarning: Objective did not converge. You might want to increase the number of iterations, check the scale of the features or consider increasing regularisation. Duality gap: 2.225e+11, tolerance: 2.770e+09\n",
      "  model = cd_fast.enet_coordinate_descent(\n"
     ]
    },
    {
     "name": "stdout",
     "output_type": "stream",
     "text": [
      "Best MAE: 41401.56704322881\n",
      "poly_degree: 7\n",
      "Current lowest MAE: 34953.75404418712\n",
      "\n",
      "\n",
      "degree 8\n",
      "Fitting 5 folds for each of 20 candidates, totalling 100 fits\n"
     ]
    },
    {
     "name": "stderr",
     "output_type": "stream",
     "text": [
      "C:\\Users\\UBAN\\AppData\\Local\\Programs\\Python\\Python312\\Lib\\site-packages\\sklearn\\linear_model\\_coordinate_descent.py:697: ConvergenceWarning: Objective did not converge. You might want to increase the number of iterations, check the scale of the features or consider increasing regularisation. Duality gap: 1.012e+13, tolerance: 2.770e+09\n",
      "  model = cd_fast.enet_coordinate_descent(\n"
     ]
    },
    {
     "name": "stdout",
     "output_type": "stream",
     "text": [
      "Best MAE: 41399.06018279108\n",
      "poly_degree: 8\n",
      "Current lowest MAE: 34953.75404418712\n",
      "\n",
      "\n",
      "degree 9\n",
      "Fitting 5 folds for each of 20 candidates, totalling 100 fits\n"
     ]
    },
    {
     "name": "stderr",
     "output_type": "stream",
     "text": [
      "C:\\Users\\UBAN\\AppData\\Local\\Programs\\Python\\Python312\\Lib\\site-packages\\sklearn\\linear_model\\_coordinate_descent.py:697: ConvergenceWarning: Objective did not converge. You might want to increase the number of iterations, check the scale of the features or consider increasing regularisation. Duality gap: 1.009e+13, tolerance: 2.770e+09\n",
      "  model = cd_fast.enet_coordinate_descent(\n"
     ]
    },
    {
     "name": "stdout",
     "output_type": "stream",
     "text": [
      "Best MAE: 41397.923994253404\n",
      "poly_degree: 9\n",
      "Current lowest MAE: 34953.75404418712\n",
      "\n",
      "\n",
      "degree 10\n",
      "Fitting 5 folds for each of 20 candidates, totalling 100 fits\n"
     ]
    },
    {
     "name": "stderr",
     "output_type": "stream",
     "text": [
      "C:\\Users\\UBAN\\AppData\\Local\\Programs\\Python\\Python312\\Lib\\site-packages\\sklearn\\linear_model\\_coordinate_descent.py:697: ConvergenceWarning: Objective did not converge. You might want to increase the number of iterations, check the scale of the features or consider increasing regularisation. Duality gap: 1.011e+13, tolerance: 2.770e+09\n",
      "  model = cd_fast.enet_coordinate_descent(\n"
     ]
    },
    {
     "name": "stdout",
     "output_type": "stream",
     "text": [
      "Best MAE: 41401.05297132973\n",
      "poly_degree: 10\n",
      "Current lowest MAE: 34953.75404418712\n",
      "\n",
      "\n",
      "processing parks_area_less500m\n",
      "degree 1\n",
      "Fitting 5 folds for each of 20 candidates, totalling 100 fits\n",
      "Best MAE: 50134.707230511936\n",
      "poly_degree: 1\n",
      "Current lowest MAE: 34953.75404418712\n",
      "\n",
      "\n",
      "degree 2\n",
      "Fitting 5 folds for each of 20 candidates, totalling 100 fits\n",
      "Best MAE: 50151.9227286603\n",
      "poly_degree: 2\n",
      "Current lowest MAE: 34953.75404418712\n",
      "\n",
      "\n",
      "degree 3\n",
      "Fitting 5 folds for each of 20 candidates, totalling 100 fits\n"
     ]
    },
    {
     "name": "stderr",
     "output_type": "stream",
     "text": [
      "C:\\Users\\UBAN\\AppData\\Local\\Programs\\Python\\Python312\\Lib\\site-packages\\sklearn\\linear_model\\_coordinate_descent.py:697: ConvergenceWarning: Objective did not converge. You might want to increase the number of iterations, check the scale of the features or consider increasing regularisation. Duality gap: 1.191e+13, tolerance: 2.770e+09\n",
      "  model = cd_fast.enet_coordinate_descent(\n"
     ]
    },
    {
     "name": "stdout",
     "output_type": "stream",
     "text": [
      "Best MAE: 50150.70100295717\n",
      "poly_degree: 3\n",
      "Current lowest MAE: 34953.75404418712\n",
      "\n",
      "\n",
      "degree 4\n",
      "Fitting 5 folds for each of 20 candidates, totalling 100 fits\n"
     ]
    },
    {
     "name": "stderr",
     "output_type": "stream",
     "text": [
      "C:\\Users\\UBAN\\AppData\\Local\\Programs\\Python\\Python312\\Lib\\site-packages\\sklearn\\linear_model\\_coordinate_descent.py:697: ConvergenceWarning: Objective did not converge. You might want to increase the number of iterations, check the scale of the features or consider increasing regularisation. Duality gap: 1.357e+13, tolerance: 2.770e+09\n",
      "  model = cd_fast.enet_coordinate_descent(\n"
     ]
    },
    {
     "name": "stdout",
     "output_type": "stream",
     "text": [
      "Best MAE: 50132.8855825615\n",
      "poly_degree: 4\n",
      "Current lowest MAE: 34953.75404418712\n",
      "\n",
      "\n",
      "degree 5\n",
      "Fitting 5 folds for each of 20 candidates, totalling 100 fits\n"
     ]
    },
    {
     "name": "stderr",
     "output_type": "stream",
     "text": [
      "C:\\Users\\UBAN\\AppData\\Local\\Programs\\Python\\Python312\\Lib\\site-packages\\sklearn\\linear_model\\_coordinate_descent.py:697: ConvergenceWarning: Objective did not converge. You might want to increase the number of iterations, check the scale of the features or consider increasing regularisation. Duality gap: 1.355e+13, tolerance: 2.770e+09\n",
      "  model = cd_fast.enet_coordinate_descent(\n"
     ]
    },
    {
     "name": "stdout",
     "output_type": "stream",
     "text": [
      "Best MAE: 50138.57380054917\n",
      "poly_degree: 5\n",
      "Current lowest MAE: 34953.75404418712\n",
      "\n",
      "\n",
      "degree 6\n",
      "Fitting 5 folds for each of 20 candidates, totalling 100 fits\n"
     ]
    },
    {
     "name": "stderr",
     "output_type": "stream",
     "text": [
      "C:\\Users\\UBAN\\AppData\\Local\\Programs\\Python\\Python312\\Lib\\site-packages\\sklearn\\linear_model\\_coordinate_descent.py:697: ConvergenceWarning: Objective did not converge. You might want to increase the number of iterations, check the scale of the features or consider increasing regularisation. Duality gap: 1.361e+13, tolerance: 2.770e+09\n",
      "  model = cd_fast.enet_coordinate_descent(\n"
     ]
    },
    {
     "name": "stdout",
     "output_type": "stream",
     "text": [
      "Best MAE: 50129.09842196419\n",
      "poly_degree: 6\n",
      "Current lowest MAE: 34953.75404418712\n",
      "\n",
      "\n",
      "degree 7\n",
      "Fitting 5 folds for each of 20 candidates, totalling 100 fits\n"
     ]
    },
    {
     "name": "stderr",
     "output_type": "stream",
     "text": [
      "C:\\Users\\UBAN\\AppData\\Local\\Programs\\Python\\Python312\\Lib\\site-packages\\sklearn\\linear_model\\_coordinate_descent.py:697: ConvergenceWarning: Objective did not converge. You might want to increase the number of iterations, check the scale of the features or consider increasing regularisation. Duality gap: 1.364e+13, tolerance: 2.770e+09\n",
      "  model = cd_fast.enet_coordinate_descent(\n"
     ]
    },
    {
     "name": "stdout",
     "output_type": "stream",
     "text": [
      "Best MAE: 50107.710165729906\n",
      "poly_degree: 7\n",
      "Current lowest MAE: 34953.75404418712\n",
      "\n",
      "\n",
      "degree 8\n",
      "Fitting 5 folds for each of 20 candidates, totalling 100 fits\n"
     ]
    },
    {
     "name": "stderr",
     "output_type": "stream",
     "text": [
      "C:\\Users\\UBAN\\AppData\\Local\\Programs\\Python\\Python312\\Lib\\site-packages\\sklearn\\linear_model\\_coordinate_descent.py:697: ConvergenceWarning: Objective did not converge. You might want to increase the number of iterations, check the scale of the features or consider increasing regularisation. Duality gap: 1.364e+13, tolerance: 2.770e+09\n",
      "  model = cd_fast.enet_coordinate_descent(\n"
     ]
    },
    {
     "name": "stdout",
     "output_type": "stream",
     "text": [
      "Best MAE: 50094.6448498174\n",
      "poly_degree: 8\n",
      "Current lowest MAE: 34953.75404418712\n",
      "\n",
      "\n",
      "degree 9\n",
      "Fitting 5 folds for each of 20 candidates, totalling 100 fits\n"
     ]
    },
    {
     "name": "stderr",
     "output_type": "stream",
     "text": [
      "C:\\Users\\UBAN\\AppData\\Local\\Programs\\Python\\Python312\\Lib\\site-packages\\sklearn\\linear_model\\_coordinate_descent.py:697: ConvergenceWarning: Objective did not converge. You might want to increase the number of iterations, check the scale of the features or consider increasing regularisation. Duality gap: 1.364e+13, tolerance: 2.770e+09\n",
      "  model = cd_fast.enet_coordinate_descent(\n"
     ]
    },
    {
     "name": "stdout",
     "output_type": "stream",
     "text": [
      "Best MAE: 50086.78510530726\n",
      "poly_degree: 9\n",
      "Current lowest MAE: 34953.75404418712\n",
      "\n",
      "\n",
      "degree 10\n",
      "Fitting 5 folds for each of 20 candidates, totalling 100 fits\n"
     ]
    },
    {
     "name": "stderr",
     "output_type": "stream",
     "text": [
      "C:\\Users\\UBAN\\AppData\\Local\\Programs\\Python\\Python312\\Lib\\site-packages\\sklearn\\linear_model\\_coordinate_descent.py:697: ConvergenceWarning: Objective did not converge. You might want to increase the number of iterations, check the scale of the features or consider increasing regularisation. Duality gap: 1.364e+13, tolerance: 2.770e+09\n",
      "  model = cd_fast.enet_coordinate_descent(\n"
     ]
    },
    {
     "name": "stdout",
     "output_type": "stream",
     "text": [
      "Best MAE: 50084.0083019091\n",
      "poly_degree: 10\n",
      "Current lowest MAE: 34953.75404418712\n",
      "\n",
      "\n",
      "processing parks_area_0.5-1km\n",
      "degree 1\n",
      "Fitting 5 folds for each of 20 candidates, totalling 100 fits\n",
      "Best MAE: 49970.0509653309\n",
      "poly_degree: 1\n",
      "Current lowest MAE: 34953.75404418712\n",
      "\n",
      "\n",
      "degree 2\n",
      "Fitting 5 folds for each of 20 candidates, totalling 100 fits\n",
      "Best MAE: 49955.20075959749\n",
      "poly_degree: 2\n",
      "Current lowest MAE: 34953.75404418712\n",
      "\n",
      "\n",
      "degree 3\n",
      "Fitting 5 folds for each of 20 candidates, totalling 100 fits\n",
      "Best MAE: 49959.07942138032\n",
      "poly_degree: 3\n",
      "Current lowest MAE: 34953.75404418712\n",
      "\n",
      "\n",
      "degree 4\n",
      "Fitting 5 folds for each of 20 candidates, totalling 100 fits\n"
     ]
    },
    {
     "name": "stderr",
     "output_type": "stream",
     "text": [
      "C:\\Users\\UBAN\\AppData\\Local\\Programs\\Python\\Python312\\Lib\\site-packages\\sklearn\\linear_model\\_coordinate_descent.py:697: ConvergenceWarning: Objective did not converge. You might want to increase the number of iterations, check the scale of the features or consider increasing regularisation. Duality gap: 1.328e+13, tolerance: 2.770e+09\n",
      "  model = cd_fast.enet_coordinate_descent(\n"
     ]
    },
    {
     "name": "stdout",
     "output_type": "stream",
     "text": [
      "Best MAE: 49957.570789230915\n",
      "poly_degree: 4\n",
      "Current lowest MAE: 34953.75404418712\n",
      "\n",
      "\n",
      "degree 5\n",
      "Fitting 5 folds for each of 20 candidates, totalling 100 fits\n"
     ]
    },
    {
     "name": "stderr",
     "output_type": "stream",
     "text": [
      "C:\\Users\\UBAN\\AppData\\Local\\Programs\\Python\\Python312\\Lib\\site-packages\\sklearn\\linear_model\\_coordinate_descent.py:697: ConvergenceWarning: Objective did not converge. You might want to increase the number of iterations, check the scale of the features or consider increasing regularisation. Duality gap: 1.344e+13, tolerance: 2.770e+09\n",
      "  model = cd_fast.enet_coordinate_descent(\n"
     ]
    },
    {
     "name": "stdout",
     "output_type": "stream",
     "text": [
      "Best MAE: 49945.99607963128\n",
      "poly_degree: 5\n",
      "Current lowest MAE: 34953.75404418712\n",
      "\n",
      "\n",
      "degree 6\n",
      "Fitting 5 folds for each of 20 candidates, totalling 100 fits\n"
     ]
    },
    {
     "name": "stderr",
     "output_type": "stream",
     "text": [
      "C:\\Users\\UBAN\\AppData\\Local\\Programs\\Python\\Python312\\Lib\\site-packages\\sklearn\\linear_model\\_coordinate_descent.py:697: ConvergenceWarning: Objective did not converge. You might want to increase the number of iterations, check the scale of the features or consider increasing regularisation. Duality gap: 1.028e+12, tolerance: 2.770e+09\n",
      "  model = cd_fast.enet_coordinate_descent(\n"
     ]
    },
    {
     "name": "stdout",
     "output_type": "stream",
     "text": [
      "Best MAE: 49945.74326615206\n",
      "poly_degree: 6\n",
      "Current lowest MAE: 34953.75404418712\n",
      "\n",
      "\n",
      "degree 7\n",
      "Fitting 5 folds for each of 20 candidates, totalling 100 fits\n"
     ]
    },
    {
     "name": "stderr",
     "output_type": "stream",
     "text": [
      "C:\\Users\\UBAN\\AppData\\Local\\Programs\\Python\\Python312\\Lib\\site-packages\\sklearn\\linear_model\\_coordinate_descent.py:697: ConvergenceWarning: Objective did not converge. You might want to increase the number of iterations, check the scale of the features or consider increasing regularisation. Duality gap: 9.536e+09, tolerance: 2.770e+09\n",
      "  model = cd_fast.enet_coordinate_descent(\n"
     ]
    },
    {
     "name": "stdout",
     "output_type": "stream",
     "text": [
      "Best MAE: 49949.5663676201\n",
      "poly_degree: 7\n",
      "Current lowest MAE: 34953.75404418712\n",
      "\n",
      "\n",
      "degree 8\n",
      "Fitting 5 folds for each of 20 candidates, totalling 100 fits\n",
      "Best MAE: 49954.54747389818\n",
      "poly_degree: 8\n",
      "Current lowest MAE: 34953.75404418712\n",
      "\n",
      "\n",
      "degree 9\n",
      "Fitting 5 folds for each of 20 candidates, totalling 100 fits\n",
      "Best MAE: 49952.34147396199\n",
      "poly_degree: 9\n",
      "Current lowest MAE: 34953.75404418712\n",
      "\n",
      "\n",
      "degree 10\n",
      "Fitting 5 folds for each of 20 candidates, totalling 100 fits\n",
      "Best MAE: 49953.022311969005\n",
      "poly_degree: 10\n",
      "Current lowest MAE: 34953.75404418712\n",
      "\n",
      "\n",
      "processing parks_area_1-3km\n",
      "degree 1\n",
      "Fitting 5 folds for each of 20 candidates, totalling 100 fits\n",
      "Best MAE: 49939.12106264769\n",
      "poly_degree: 1\n",
      "Current lowest MAE: 34953.75404418712\n",
      "\n",
      "\n",
      "degree 2\n",
      "Fitting 5 folds for each of 20 candidates, totalling 100 fits\n",
      "Best MAE: 49853.492708257385\n",
      "poly_degree: 2\n",
      "Current lowest MAE: 34953.75404418712\n",
      "\n",
      "\n",
      "degree 3\n",
      "Fitting 5 folds for each of 20 candidates, totalling 100 fits\n"
     ]
    },
    {
     "name": "stderr",
     "output_type": "stream",
     "text": [
      "C:\\Users\\UBAN\\AppData\\Local\\Programs\\Python\\Python312\\Lib\\site-packages\\sklearn\\linear_model\\_coordinate_descent.py:697: ConvergenceWarning: Objective did not converge. You might want to increase the number of iterations, check the scale of the features or consider increasing regularisation. Duality gap: 1.178e+13, tolerance: 2.770e+09\n",
      "  model = cd_fast.enet_coordinate_descent(\n"
     ]
    },
    {
     "name": "stdout",
     "output_type": "stream",
     "text": [
      "Best MAE: 49746.968348666545\n",
      "poly_degree: 3\n",
      "Current lowest MAE: 34953.75404418712\n",
      "\n",
      "\n",
      "degree 4\n",
      "Fitting 5 folds for each of 20 candidates, totalling 100 fits\n"
     ]
    },
    {
     "name": "stderr",
     "output_type": "stream",
     "text": [
      "C:\\Users\\UBAN\\AppData\\Local\\Programs\\Python\\Python312\\Lib\\site-packages\\sklearn\\linear_model\\_coordinate_descent.py:697: ConvergenceWarning: Objective did not converge. You might want to increase the number of iterations, check the scale of the features or consider increasing regularisation. Duality gap: 1.344e+13, tolerance: 2.770e+09\n",
      "  model = cd_fast.enet_coordinate_descent(\n"
     ]
    },
    {
     "name": "stdout",
     "output_type": "stream",
     "text": [
      "Best MAE: 49735.6877819777\n",
      "poly_degree: 4\n",
      "Current lowest MAE: 34953.75404418712\n",
      "\n",
      "\n",
      "degree 5\n",
      "Fitting 5 folds for each of 20 candidates, totalling 100 fits\n"
     ]
    },
    {
     "name": "stderr",
     "output_type": "stream",
     "text": [
      "C:\\Users\\UBAN\\AppData\\Local\\Programs\\Python\\Python312\\Lib\\site-packages\\sklearn\\linear_model\\_coordinate_descent.py:697: ConvergenceWarning: Objective did not converge. You might want to increase the number of iterations, check the scale of the features or consider increasing regularisation. Duality gap: 5.909e+09, tolerance: 2.770e+09\n",
      "  model = cd_fast.enet_coordinate_descent(\n"
     ]
    },
    {
     "name": "stdout",
     "output_type": "stream",
     "text": [
      "Best MAE: 49739.961106570336\n",
      "poly_degree: 5\n",
      "Current lowest MAE: 34953.75404418712\n",
      "\n",
      "\n",
      "degree 6\n",
      "Fitting 5 folds for each of 20 candidates, totalling 100 fits\n",
      "Best MAE: 49751.001557008276\n",
      "poly_degree: 6\n",
      "Current lowest MAE: 34953.75404418712\n",
      "\n",
      "\n",
      "degree 7\n",
      "Fitting 5 folds for each of 20 candidates, totalling 100 fits\n",
      "Best MAE: 49764.65930753511\n",
      "poly_degree: 7\n",
      "Current lowest MAE: 34953.75404418712\n",
      "\n",
      "\n",
      "degree 8\n",
      "Fitting 5 folds for each of 20 candidates, totalling 100 fits\n"
     ]
    },
    {
     "name": "stderr",
     "output_type": "stream",
     "text": [
      "C:\\Users\\UBAN\\AppData\\Local\\Programs\\Python\\Python312\\Lib\\site-packages\\sklearn\\linear_model\\_coordinate_descent.py:697: ConvergenceWarning: Objective did not converge. You might want to increase the number of iterations, check the scale of the features or consider increasing regularisation. Duality gap: 1.347e+13, tolerance: 2.770e+09\n",
      "  model = cd_fast.enet_coordinate_descent(\n"
     ]
    },
    {
     "name": "stdout",
     "output_type": "stream",
     "text": [
      "Best MAE: 49776.391383741444\n",
      "poly_degree: 8\n",
      "Current lowest MAE: 34953.75404418712\n",
      "\n",
      "\n",
      "degree 9\n",
      "Fitting 5 folds for each of 20 candidates, totalling 100 fits\n"
     ]
    },
    {
     "name": "stderr",
     "output_type": "stream",
     "text": [
      "C:\\Users\\UBAN\\AppData\\Local\\Programs\\Python\\Python312\\Lib\\site-packages\\sklearn\\linear_model\\_coordinate_descent.py:697: ConvergenceWarning: Objective did not converge. You might want to increase the number of iterations, check the scale of the features or consider increasing regularisation. Duality gap: 1.349e+13, tolerance: 2.770e+09\n",
      "  model = cd_fast.enet_coordinate_descent(\n"
     ]
    },
    {
     "name": "stdout",
     "output_type": "stream",
     "text": [
      "Best MAE: 49756.362819699265\n",
      "poly_degree: 9\n",
      "Current lowest MAE: 34953.75404418712\n",
      "\n",
      "\n",
      "degree 10\n",
      "Fitting 5 folds for each of 20 candidates, totalling 100 fits\n"
     ]
    },
    {
     "name": "stderr",
     "output_type": "stream",
     "text": [
      "C:\\Users\\UBAN\\AppData\\Local\\Programs\\Python\\Python312\\Lib\\site-packages\\sklearn\\linear_model\\_coordinate_descent.py:697: ConvergenceWarning: Objective did not converge. You might want to increase the number of iterations, check the scale of the features or consider increasing regularisation. Duality gap: 1.350e+13, tolerance: 2.770e+09\n",
      "  model = cd_fast.enet_coordinate_descent(\n"
     ]
    },
    {
     "name": "stdout",
     "output_type": "stream",
     "text": [
      "Best MAE: 49747.46818476819\n",
      "poly_degree: 10\n",
      "Current lowest MAE: 34953.75404418712\n",
      "\n",
      "\n",
      "processing parks_area_3-5km\n",
      "degree 1\n",
      "Fitting 5 folds for each of 20 candidates, totalling 100 fits\n",
      "Best MAE: 50294.11821073561\n",
      "poly_degree: 1\n",
      "Current lowest MAE: 34953.75404418712\n",
      "\n",
      "\n",
      "degree 2\n",
      "Fitting 5 folds for each of 20 candidates, totalling 100 fits\n",
      "Best MAE: 49430.896923354434\n",
      "poly_degree: 2\n",
      "Current lowest MAE: 34953.75404418712\n",
      "\n",
      "\n",
      "degree 3\n",
      "Fitting 5 folds for each of 20 candidates, totalling 100 fits\n"
     ]
    },
    {
     "name": "stderr",
     "output_type": "stream",
     "text": [
      "C:\\Users\\UBAN\\AppData\\Local\\Programs\\Python\\Python312\\Lib\\site-packages\\sklearn\\linear_model\\_coordinate_descent.py:697: ConvergenceWarning: Objective did not converge. You might want to increase the number of iterations, check the scale of the features or consider increasing regularisation. Duality gap: 1.265e+13, tolerance: 2.770e+09\n",
      "  model = cd_fast.enet_coordinate_descent(\n"
     ]
    },
    {
     "name": "stdout",
     "output_type": "stream",
     "text": [
      "Best MAE: 48376.32983635929\n",
      "poly_degree: 3\n",
      "Current lowest MAE: 34953.75404418712\n",
      "\n",
      "\n",
      "degree 4\n",
      "Fitting 5 folds for each of 20 candidates, totalling 100 fits\n"
     ]
    },
    {
     "name": "stderr",
     "output_type": "stream",
     "text": [
      "C:\\Users\\UBAN\\AppData\\Local\\Programs\\Python\\Python312\\Lib\\site-packages\\sklearn\\linear_model\\_coordinate_descent.py:697: ConvergenceWarning: Objective did not converge. You might want to increase the number of iterations, check the scale of the features or consider increasing regularisation. Duality gap: 1.293e+13, tolerance: 2.770e+09\n",
      "  model = cd_fast.enet_coordinate_descent(\n"
     ]
    },
    {
     "name": "stdout",
     "output_type": "stream",
     "text": [
      "Best MAE: 48401.6651790342\n",
      "poly_degree: 4\n",
      "Current lowest MAE: 34953.75404418712\n",
      "\n",
      "\n",
      "degree 5\n",
      "Fitting 5 folds for each of 20 candidates, totalling 100 fits\n"
     ]
    },
    {
     "name": "stderr",
     "output_type": "stream",
     "text": [
      "C:\\Users\\UBAN\\AppData\\Local\\Programs\\Python\\Python312\\Lib\\site-packages\\sklearn\\linear_model\\_coordinate_descent.py:697: ConvergenceWarning: Objective did not converge. You might want to increase the number of iterations, check the scale of the features or consider increasing regularisation. Duality gap: 1.300e+13, tolerance: 2.770e+09\n",
      "  model = cd_fast.enet_coordinate_descent(\n"
     ]
    },
    {
     "name": "stdout",
     "output_type": "stream",
     "text": [
      "Best MAE: 48397.708418293994\n",
      "poly_degree: 5\n",
      "Current lowest MAE: 34953.75404418712\n",
      "\n",
      "\n",
      "degree 6\n",
      "Fitting 5 folds for each of 20 candidates, totalling 100 fits\n"
     ]
    },
    {
     "name": "stderr",
     "output_type": "stream",
     "text": [
      "C:\\Users\\UBAN\\AppData\\Local\\Programs\\Python\\Python312\\Lib\\site-packages\\sklearn\\linear_model\\_coordinate_descent.py:697: ConvergenceWarning: Objective did not converge. You might want to increase the number of iterations, check the scale of the features or consider increasing regularisation. Duality gap: 1.297e+13, tolerance: 2.770e+09\n",
      "  model = cd_fast.enet_coordinate_descent(\n"
     ]
    },
    {
     "name": "stdout",
     "output_type": "stream",
     "text": [
      "Best MAE: 48382.774466777104\n",
      "poly_degree: 6\n",
      "Current lowest MAE: 34953.75404418712\n",
      "\n",
      "\n",
      "degree 7\n",
      "Fitting 5 folds for each of 20 candidates, totalling 100 fits\n"
     ]
    },
    {
     "name": "stderr",
     "output_type": "stream",
     "text": [
      "C:\\Users\\UBAN\\AppData\\Local\\Programs\\Python\\Python312\\Lib\\site-packages\\sklearn\\linear_model\\_coordinate_descent.py:697: ConvergenceWarning: Objective did not converge. You might want to increase the number of iterations, check the scale of the features or consider increasing regularisation. Duality gap: 2.538e+12, tolerance: 2.770e+09\n",
      "  model = cd_fast.enet_coordinate_descent(\n"
     ]
    },
    {
     "name": "stdout",
     "output_type": "stream",
     "text": [
      "Best MAE: 48379.43093514339\n",
      "poly_degree: 7\n",
      "Current lowest MAE: 34953.75404418712\n",
      "\n",
      "\n",
      "degree 8\n",
      "Fitting 5 folds for each of 20 candidates, totalling 100 fits\n"
     ]
    },
    {
     "name": "stderr",
     "output_type": "stream",
     "text": [
      "C:\\Users\\UBAN\\AppData\\Local\\Programs\\Python\\Python312\\Lib\\site-packages\\sklearn\\linear_model\\_coordinate_descent.py:697: ConvergenceWarning: Objective did not converge. You might want to increase the number of iterations, check the scale of the features or consider increasing regularisation. Duality gap: 2.196e+12, tolerance: 2.770e+09\n",
      "  model = cd_fast.enet_coordinate_descent(\n"
     ]
    },
    {
     "name": "stdout",
     "output_type": "stream",
     "text": [
      "Best MAE: 48380.647058355506\n",
      "poly_degree: 8\n",
      "Current lowest MAE: 34953.75404418712\n",
      "\n",
      "\n",
      "degree 9\n",
      "Fitting 5 folds for each of 20 candidates, totalling 100 fits\n"
     ]
    },
    {
     "name": "stderr",
     "output_type": "stream",
     "text": [
      "C:\\Users\\UBAN\\AppData\\Local\\Programs\\Python\\Python312\\Lib\\site-packages\\sklearn\\linear_model\\_coordinate_descent.py:697: ConvergenceWarning: Objective did not converge. You might want to increase the number of iterations, check the scale of the features or consider increasing regularisation. Duality gap: 1.284e+13, tolerance: 2.770e+09\n",
      "  model = cd_fast.enet_coordinate_descent(\n"
     ]
    },
    {
     "name": "stdout",
     "output_type": "stream",
     "text": [
      "Best MAE: 48384.55643194531\n",
      "poly_degree: 9\n",
      "Current lowest MAE: 34953.75404418712\n",
      "\n",
      "\n",
      "degree 10\n",
      "Fitting 5 folds for each of 20 candidates, totalling 100 fits\n"
     ]
    },
    {
     "name": "stderr",
     "output_type": "stream",
     "text": [
      "C:\\Users\\UBAN\\AppData\\Local\\Programs\\Python\\Python312\\Lib\\site-packages\\sklearn\\linear_model\\_coordinate_descent.py:697: ConvergenceWarning: Objective did not converge. You might want to increase the number of iterations, check the scale of the features or consider increasing regularisation. Duality gap: 1.291e+13, tolerance: 2.770e+09\n",
      "  model = cd_fast.enet_coordinate_descent(\n"
     ]
    },
    {
     "name": "stdout",
     "output_type": "stream",
     "text": [
      "Best MAE: 48388.10272591804\n",
      "poly_degree: 10\n",
      "Current lowest MAE: 34953.75404418712\n",
      "\n",
      "\n",
      "processing shops_closest_km\n",
      "degree 1\n",
      "Fitting 5 folds for each of 20 candidates, totalling 100 fits\n",
      "Best MAE: 49743.34337595555\n",
      "poly_degree: 1\n",
      "Current lowest MAE: 34953.75404418712\n",
      "\n",
      "\n",
      "degree 2\n",
      "Fitting 5 folds for each of 20 candidates, totalling 100 fits\n",
      "Best MAE: 49652.780229809156\n",
      "poly_degree: 2\n",
      "Current lowest MAE: 34953.75404418712\n",
      "\n",
      "\n",
      "degree 3\n",
      "Fitting 5 folds for each of 20 candidates, totalling 100 fits\n",
      "Best MAE: 49645.6124946942\n",
      "poly_degree: 3\n",
      "Current lowest MAE: 34953.75404418712\n",
      "\n",
      "\n",
      "degree 4\n",
      "Fitting 5 folds for each of 20 candidates, totalling 100 fits\n"
     ]
    },
    {
     "name": "stderr",
     "output_type": "stream",
     "text": [
      "C:\\Users\\UBAN\\AppData\\Local\\Programs\\Python\\Python312\\Lib\\site-packages\\sklearn\\linear_model\\_coordinate_descent.py:697: ConvergenceWarning: Objective did not converge. You might want to increase the number of iterations, check the scale of the features or consider increasing regularisation. Duality gap: 1.690e+11, tolerance: 2.770e+09\n",
      "  model = cd_fast.enet_coordinate_descent(\n"
     ]
    },
    {
     "name": "stdout",
     "output_type": "stream",
     "text": [
      "Best MAE: 49642.34582923382\n",
      "poly_degree: 4\n",
      "Current lowest MAE: 34953.75404418712\n",
      "\n",
      "\n",
      "degree 5\n",
      "Fitting 5 folds for each of 20 candidates, totalling 100 fits\n"
     ]
    },
    {
     "name": "stderr",
     "output_type": "stream",
     "text": [
      "C:\\Users\\UBAN\\AppData\\Local\\Programs\\Python\\Python312\\Lib\\site-packages\\sklearn\\linear_model\\_coordinate_descent.py:697: ConvergenceWarning: Objective did not converge. You might want to increase the number of iterations, check the scale of the features or consider increasing regularisation. Duality gap: 1.347e+13, tolerance: 2.770e+09\n",
      "  model = cd_fast.enet_coordinate_descent(\n"
     ]
    },
    {
     "name": "stdout",
     "output_type": "stream",
     "text": [
      "Best MAE: 49633.686861706556\n",
      "poly_degree: 5\n",
      "Current lowest MAE: 34953.75404418712\n",
      "\n",
      "\n",
      "degree 6\n",
      "Fitting 5 folds for each of 20 candidates, totalling 100 fits\n"
     ]
    },
    {
     "name": "stderr",
     "output_type": "stream",
     "text": [
      "C:\\Users\\UBAN\\AppData\\Local\\Programs\\Python\\Python312\\Lib\\site-packages\\sklearn\\linear_model\\_coordinate_descent.py:697: ConvergenceWarning: Objective did not converge. You might want to increase the number of iterations, check the scale of the features or consider increasing regularisation. Duality gap: 1.354e+13, tolerance: 2.770e+09\n",
      "  model = cd_fast.enet_coordinate_descent(\n"
     ]
    },
    {
     "name": "stdout",
     "output_type": "stream",
     "text": [
      "Best MAE: 49624.94992617429\n",
      "poly_degree: 6\n",
      "Current lowest MAE: 34953.75404418712\n",
      "\n",
      "\n",
      "degree 7\n",
      "Fitting 5 folds for each of 20 candidates, totalling 100 fits\n"
     ]
    },
    {
     "name": "stderr",
     "output_type": "stream",
     "text": [
      "C:\\Users\\UBAN\\AppData\\Local\\Programs\\Python\\Python312\\Lib\\site-packages\\sklearn\\linear_model\\_coordinate_descent.py:697: ConvergenceWarning: Objective did not converge. You might want to increase the number of iterations, check the scale of the features or consider increasing regularisation. Duality gap: 1.355e+13, tolerance: 2.770e+09\n",
      "  model = cd_fast.enet_coordinate_descent(\n"
     ]
    },
    {
     "name": "stdout",
     "output_type": "stream",
     "text": [
      "Best MAE: 49622.31898087975\n",
      "poly_degree: 7\n",
      "Current lowest MAE: 34953.75404418712\n",
      "\n",
      "\n",
      "degree 8\n",
      "Fitting 5 folds for each of 20 candidates, totalling 100 fits\n"
     ]
    },
    {
     "name": "stderr",
     "output_type": "stream",
     "text": [
      "C:\\Users\\UBAN\\AppData\\Local\\Programs\\Python\\Python312\\Lib\\site-packages\\sklearn\\linear_model\\_coordinate_descent.py:697: ConvergenceWarning: Objective did not converge. You might want to increase the number of iterations, check the scale of the features or consider increasing regularisation. Duality gap: 1.354e+13, tolerance: 2.770e+09\n",
      "  model = cd_fast.enet_coordinate_descent(\n"
     ]
    },
    {
     "name": "stdout",
     "output_type": "stream",
     "text": [
      "Best MAE: 49625.02893245286\n",
      "poly_degree: 8\n",
      "Current lowest MAE: 34953.75404418712\n",
      "\n",
      "\n",
      "degree 9\n",
      "Fitting 5 folds for each of 20 candidates, totalling 100 fits\n"
     ]
    },
    {
     "name": "stderr",
     "output_type": "stream",
     "text": [
      "C:\\Users\\UBAN\\AppData\\Local\\Programs\\Python\\Python312\\Lib\\site-packages\\sklearn\\linear_model\\_coordinate_descent.py:697: ConvergenceWarning: Objective did not converge. You might want to increase the number of iterations, check the scale of the features or consider increasing regularisation. Duality gap: 1.354e+13, tolerance: 2.770e+09\n",
      "  model = cd_fast.enet_coordinate_descent(\n"
     ]
    },
    {
     "name": "stdout",
     "output_type": "stream",
     "text": [
      "Best MAE: 49626.936297772176\n",
      "poly_degree: 9\n",
      "Current lowest MAE: 34953.75404418712\n",
      "\n",
      "\n",
      "degree 10\n",
      "Fitting 5 folds for each of 20 candidates, totalling 100 fits\n"
     ]
    },
    {
     "name": "stderr",
     "output_type": "stream",
     "text": [
      "C:\\Users\\UBAN\\AppData\\Local\\Programs\\Python\\Python312\\Lib\\site-packages\\sklearn\\linear_model\\_coordinate_descent.py:697: ConvergenceWarning: Objective did not converge. You might want to increase the number of iterations, check the scale of the features or consider increasing regularisation. Duality gap: 1.353e+13, tolerance: 2.770e+09\n",
      "  model = cd_fast.enet_coordinate_descent(\n"
     ]
    },
    {
     "name": "stdout",
     "output_type": "stream",
     "text": [
      "Best MAE: 49627.31813120235\n",
      "poly_degree: 10\n",
      "Current lowest MAE: 34953.75404418712\n",
      "\n",
      "\n",
      "processing shops_less500m\n",
      "degree 1\n",
      "Fitting 5 folds for each of 20 candidates, totalling 100 fits\n",
      "Best MAE: 49834.85707073159\n",
      "poly_degree: 1\n",
      "Current lowest MAE: 34953.75404418712\n",
      "\n",
      "\n",
      "degree 2\n",
      "Fitting 5 folds for each of 20 candidates, totalling 100 fits\n",
      "Best MAE: 49579.46087550459\n",
      "poly_degree: 2\n",
      "Current lowest MAE: 34953.75404418712\n",
      "\n",
      "\n",
      "degree 3\n",
      "Fitting 5 folds for each of 20 candidates, totalling 100 fits\n",
      "Best MAE: 49569.23250900775\n",
      "poly_degree: 3\n",
      "Current lowest MAE: 34953.75404418712\n",
      "\n",
      "\n",
      "degree 4\n",
      "Fitting 5 folds for each of 20 candidates, totalling 100 fits\n"
     ]
    },
    {
     "name": "stderr",
     "output_type": "stream",
     "text": [
      "C:\\Users\\UBAN\\AppData\\Local\\Programs\\Python\\Python312\\Lib\\site-packages\\sklearn\\linear_model\\_coordinate_descent.py:697: ConvergenceWarning: Objective did not converge. You might want to increase the number of iterations, check the scale of the features or consider increasing regularisation. Duality gap: 4.492e+11, tolerance: 2.770e+09\n",
      "  model = cd_fast.enet_coordinate_descent(\n"
     ]
    },
    {
     "name": "stdout",
     "output_type": "stream",
     "text": [
      "Best MAE: 49567.32923055999\n",
      "poly_degree: 4\n",
      "Current lowest MAE: 34953.75404418712\n",
      "\n",
      "\n",
      "degree 5\n",
      "Fitting 5 folds for each of 20 candidates, totalling 100 fits\n",
      "Best MAE: 49563.76236887372\n",
      "poly_degree: 5\n",
      "Current lowest MAE: 34953.75404418712\n",
      "\n",
      "\n",
      "degree 6\n",
      "Fitting 5 folds for each of 20 candidates, totalling 100 fits\n",
      "Best MAE: 49569.11493383846\n",
      "poly_degree: 6\n",
      "Current lowest MAE: 34953.75404418712\n",
      "\n",
      "\n",
      "degree 7\n",
      "Fitting 5 folds for each of 20 candidates, totalling 100 fits\n",
      "Best MAE: 49576.619965384285\n",
      "poly_degree: 7\n",
      "Current lowest MAE: 34953.75404418712\n",
      "\n",
      "\n",
      "degree 8\n",
      "Fitting 5 folds for each of 20 candidates, totalling 100 fits\n",
      "Best MAE: 49584.56419123249\n",
      "poly_degree: 8\n",
      "Current lowest MAE: 34953.75404418712\n",
      "\n",
      "\n",
      "degree 9\n",
      "Fitting 5 folds for each of 20 candidates, totalling 100 fits\n",
      "Best MAE: 49592.6083199566\n",
      "poly_degree: 9\n",
      "Current lowest MAE: 34953.75404418712\n",
      "\n",
      "\n",
      "degree 10\n",
      "Fitting 5 folds for each of 20 candidates, totalling 100 fits\n",
      "Best MAE: 49599.47896996086\n",
      "poly_degree: 10\n",
      "Current lowest MAE: 34953.75404418712\n",
      "\n",
      "\n",
      "processing shops_0.5-1km\n",
      "degree 1\n",
      "Fitting 5 folds for each of 20 candidates, totalling 100 fits\n",
      "Best MAE: 49623.96128730915\n",
      "poly_degree: 1\n",
      "Current lowest MAE: 34953.75404418712\n",
      "\n",
      "\n",
      "degree 2\n",
      "Fitting 5 folds for each of 20 candidates, totalling 100 fits\n",
      "Best MAE: 49092.76382439165\n",
      "poly_degree: 2\n",
      "Current lowest MAE: 34953.75404418712\n",
      "\n",
      "\n",
      "degree 3\n",
      "Fitting 5 folds for each of 20 candidates, totalling 100 fits\n",
      "Best MAE: 49021.63056916618\n",
      "poly_degree: 3\n",
      "Current lowest MAE: 34953.75404418712\n",
      "\n",
      "\n",
      "degree 4\n",
      "Fitting 5 folds for each of 20 candidates, totalling 100 fits\n"
     ]
    },
    {
     "name": "stderr",
     "output_type": "stream",
     "text": [
      "C:\\Users\\UBAN\\AppData\\Local\\Programs\\Python\\Python312\\Lib\\site-packages\\sklearn\\linear_model\\_coordinate_descent.py:697: ConvergenceWarning: Objective did not converge. You might want to increase the number of iterations, check the scale of the features or consider increasing regularisation. Duality gap: 1.314e+13, tolerance: 2.770e+09\n",
      "  model = cd_fast.enet_coordinate_descent(\n"
     ]
    },
    {
     "name": "stdout",
     "output_type": "stream",
     "text": [
      "Best MAE: 49022.10944378304\n",
      "poly_degree: 4\n",
      "Current lowest MAE: 34953.75404418712\n",
      "\n",
      "\n",
      "degree 5\n",
      "Fitting 5 folds for each of 20 candidates, totalling 100 fits\n"
     ]
    },
    {
     "name": "stderr",
     "output_type": "stream",
     "text": [
      "C:\\Users\\UBAN\\AppData\\Local\\Programs\\Python\\Python312\\Lib\\site-packages\\sklearn\\linear_model\\_coordinate_descent.py:697: ConvergenceWarning: Objective did not converge. You might want to increase the number of iterations, check the scale of the features or consider increasing regularisation. Duality gap: 1.278e+13, tolerance: 2.770e+09\n",
      "  model = cd_fast.enet_coordinate_descent(\n"
     ]
    },
    {
     "name": "stdout",
     "output_type": "stream",
     "text": [
      "Best MAE: 49008.50658473066\n",
      "poly_degree: 5\n",
      "Current lowest MAE: 34953.75404418712\n",
      "\n",
      "\n",
      "degree 6\n",
      "Fitting 5 folds for each of 20 candidates, totalling 100 fits\n"
     ]
    },
    {
     "name": "stderr",
     "output_type": "stream",
     "text": [
      "C:\\Users\\UBAN\\AppData\\Local\\Programs\\Python\\Python312\\Lib\\site-packages\\sklearn\\linear_model\\_coordinate_descent.py:697: ConvergenceWarning: Objective did not converge. You might want to increase the number of iterations, check the scale of the features or consider increasing regularisation. Duality gap: 1.298e+13, tolerance: 2.770e+09\n",
      "  model = cd_fast.enet_coordinate_descent(\n"
     ]
    },
    {
     "name": "stdout",
     "output_type": "stream",
     "text": [
      "Best MAE: 48994.417505564226\n",
      "poly_degree: 6\n",
      "Current lowest MAE: 34953.75404418712\n",
      "\n",
      "\n",
      "degree 7\n",
      "Fitting 5 folds for each of 20 candidates, totalling 100 fits\n"
     ]
    },
    {
     "name": "stderr",
     "output_type": "stream",
     "text": [
      "C:\\Users\\UBAN\\AppData\\Local\\Programs\\Python\\Python312\\Lib\\site-packages\\sklearn\\linear_model\\_coordinate_descent.py:697: ConvergenceWarning: Objective did not converge. You might want to increase the number of iterations, check the scale of the features or consider increasing regularisation. Duality gap: 3.237e+11, tolerance: 2.770e+09\n",
      "  model = cd_fast.enet_coordinate_descent(\n"
     ]
    },
    {
     "name": "stdout",
     "output_type": "stream",
     "text": [
      "Best MAE: 49004.86944903924\n",
      "poly_degree: 7\n",
      "Current lowest MAE: 34953.75404418712\n",
      "\n",
      "\n",
      "degree 8\n",
      "Fitting 5 folds for each of 20 candidates, totalling 100 fits\n"
     ]
    },
    {
     "name": "stderr",
     "output_type": "stream",
     "text": [
      "C:\\Users\\UBAN\\AppData\\Local\\Programs\\Python\\Python312\\Lib\\site-packages\\sklearn\\linear_model\\_coordinate_descent.py:697: ConvergenceWarning: Objective did not converge. You might want to increase the number of iterations, check the scale of the features or consider increasing regularisation. Duality gap: 4.069e+10, tolerance: 2.770e+09\n",
      "  model = cd_fast.enet_coordinate_descent(\n"
     ]
    },
    {
     "name": "stdout",
     "output_type": "stream",
     "text": [
      "Best MAE: 49003.63812907091\n",
      "poly_degree: 8\n",
      "Current lowest MAE: 34953.75404418712\n",
      "\n",
      "\n",
      "degree 9\n",
      "Fitting 5 folds for each of 20 candidates, totalling 100 fits\n",
      "Best MAE: 49013.22686777172\n",
      "poly_degree: 9\n",
      "Current lowest MAE: 34953.75404418712\n",
      "\n",
      "\n",
      "degree 10\n",
      "Fitting 5 folds for each of 20 candidates, totalling 100 fits\n",
      "Best MAE: 49022.59287377055\n",
      "poly_degree: 10\n",
      "Current lowest MAE: 34953.75404418712\n",
      "\n",
      "\n",
      "processing shops_1-3km\n",
      "degree 1\n",
      "Fitting 5 folds for each of 20 candidates, totalling 100 fits\n",
      "Best MAE: 44976.327326724975\n",
      "poly_degree: 1\n",
      "Current lowest MAE: 34953.75404418712\n",
      "\n",
      "\n",
      "degree 2\n",
      "Fitting 5 folds for each of 20 candidates, totalling 100 fits\n",
      "Best MAE: 45019.84579657008\n",
      "poly_degree: 2\n",
      "Current lowest MAE: 34953.75404418712\n",
      "\n",
      "\n",
      "degree 3\n",
      "Fitting 5 folds for each of 20 candidates, totalling 100 fits\n"
     ]
    },
    {
     "name": "stderr",
     "output_type": "stream",
     "text": [
      "C:\\Users\\UBAN\\AppData\\Local\\Programs\\Python\\Python312\\Lib\\site-packages\\sklearn\\linear_model\\_coordinate_descent.py:697: ConvergenceWarning: Objective did not converge. You might want to increase the number of iterations, check the scale of the features or consider increasing regularisation. Duality gap: 9.339e+10, tolerance: 2.770e+09\n",
      "  model = cd_fast.enet_coordinate_descent(\n"
     ]
    },
    {
     "name": "stdout",
     "output_type": "stream",
     "text": [
      "Best MAE: 44533.60430950519\n",
      "poly_degree: 3\n",
      "Current lowest MAE: 34953.75404418712\n",
      "\n",
      "\n",
      "degree 4\n",
      "Fitting 5 folds for each of 20 candidates, totalling 100 fits\n"
     ]
    },
    {
     "name": "stderr",
     "output_type": "stream",
     "text": [
      "C:\\Users\\UBAN\\AppData\\Local\\Programs\\Python\\Python312\\Lib\\site-packages\\sklearn\\linear_model\\_coordinate_descent.py:697: ConvergenceWarning: Objective did not converge. You might want to increase the number of iterations, check the scale of the features or consider increasing regularisation. Duality gap: 2.501e+12, tolerance: 2.770e+09\n",
      "  model = cd_fast.enet_coordinate_descent(\n"
     ]
    },
    {
     "name": "stdout",
     "output_type": "stream",
     "text": [
      "Best MAE: 44504.04514546173\n",
      "poly_degree: 4\n",
      "Current lowest MAE: 34953.75404418712\n",
      "\n",
      "\n",
      "degree 5\n",
      "Fitting 5 folds for each of 20 candidates, totalling 100 fits\n"
     ]
    },
    {
     "name": "stderr",
     "output_type": "stream",
     "text": [
      "C:\\Users\\UBAN\\AppData\\Local\\Programs\\Python\\Python312\\Lib\\site-packages\\sklearn\\linear_model\\_coordinate_descent.py:697: ConvergenceWarning: Objective did not converge. You might want to increase the number of iterations, check the scale of the features or consider increasing regularisation. Duality gap: 1.132e+13, tolerance: 2.770e+09\n",
      "  model = cd_fast.enet_coordinate_descent(\n"
     ]
    },
    {
     "name": "stdout",
     "output_type": "stream",
     "text": [
      "Best MAE: 44512.20473221105\n",
      "poly_degree: 5\n",
      "Current lowest MAE: 34953.75404418712\n",
      "\n",
      "\n",
      "degree 6\n",
      "Fitting 5 folds for each of 20 candidates, totalling 100 fits\n"
     ]
    },
    {
     "name": "stderr",
     "output_type": "stream",
     "text": [
      "C:\\Users\\UBAN\\AppData\\Local\\Programs\\Python\\Python312\\Lib\\site-packages\\sklearn\\linear_model\\_coordinate_descent.py:697: ConvergenceWarning: Objective did not converge. You might want to increase the number of iterations, check the scale of the features or consider increasing regularisation. Duality gap: 1.143e+13, tolerance: 2.770e+09\n",
      "  model = cd_fast.enet_coordinate_descent(\n"
     ]
    },
    {
     "name": "stdout",
     "output_type": "stream",
     "text": [
      "Best MAE: 44501.47087713487\n",
      "poly_degree: 6\n",
      "Current lowest MAE: 34953.75404418712\n",
      "\n",
      "\n",
      "degree 7\n",
      "Fitting 5 folds for each of 20 candidates, totalling 100 fits\n"
     ]
    },
    {
     "name": "stderr",
     "output_type": "stream",
     "text": [
      "C:\\Users\\UBAN\\AppData\\Local\\Programs\\Python\\Python312\\Lib\\site-packages\\sklearn\\linear_model\\_coordinate_descent.py:697: ConvergenceWarning: Objective did not converge. You might want to increase the number of iterations, check the scale of the features or consider increasing regularisation. Duality gap: 1.144e+13, tolerance: 2.770e+09\n",
      "  model = cd_fast.enet_coordinate_descent(\n"
     ]
    },
    {
     "name": "stdout",
     "output_type": "stream",
     "text": [
      "Best MAE: 44470.824257983375\n",
      "poly_degree: 7\n",
      "Current lowest MAE: 34953.75404418712\n",
      "\n",
      "\n",
      "degree 8\n",
      "Fitting 5 folds for each of 20 candidates, totalling 100 fits\n"
     ]
    },
    {
     "name": "stderr",
     "output_type": "stream",
     "text": [
      "C:\\Users\\UBAN\\AppData\\Local\\Programs\\Python\\Python312\\Lib\\site-packages\\sklearn\\linear_model\\_coordinate_descent.py:697: ConvergenceWarning: Objective did not converge. You might want to increase the number of iterations, check the scale of the features or consider increasing regularisation. Duality gap: 4.351e+12, tolerance: 2.770e+09\n",
      "  model = cd_fast.enet_coordinate_descent(\n"
     ]
    },
    {
     "name": "stdout",
     "output_type": "stream",
     "text": [
      "Best MAE: 44446.89647507873\n",
      "poly_degree: 8\n",
      "Current lowest MAE: 34953.75404418712\n",
      "\n",
      "\n",
      "degree 9\n",
      "Fitting 5 folds for each of 20 candidates, totalling 100 fits\n"
     ]
    },
    {
     "name": "stderr",
     "output_type": "stream",
     "text": [
      "C:\\Users\\UBAN\\AppData\\Local\\Programs\\Python\\Python312\\Lib\\site-packages\\sklearn\\linear_model\\_coordinate_descent.py:697: ConvergenceWarning: Objective did not converge. You might want to increase the number of iterations, check the scale of the features or consider increasing regularisation. Duality gap: 1.462e+12, tolerance: 2.770e+09\n",
      "  model = cd_fast.enet_coordinate_descent(\n"
     ]
    },
    {
     "name": "stdout",
     "output_type": "stream",
     "text": [
      "Best MAE: 44433.02987901859\n",
      "poly_degree: 9\n",
      "Current lowest MAE: 34953.75404418712\n",
      "\n",
      "\n",
      "degree 10\n",
      "Fitting 5 folds for each of 20 candidates, totalling 100 fits\n"
     ]
    },
    {
     "name": "stderr",
     "output_type": "stream",
     "text": [
      "C:\\Users\\UBAN\\AppData\\Local\\Programs\\Python\\Python312\\Lib\\site-packages\\sklearn\\linear_model\\_coordinate_descent.py:697: ConvergenceWarning: Objective did not converge. You might want to increase the number of iterations, check the scale of the features or consider increasing regularisation. Duality gap: 3.469e+12, tolerance: 2.770e+09\n",
      "  model = cd_fast.enet_coordinate_descent(\n"
     ]
    },
    {
     "name": "stdout",
     "output_type": "stream",
     "text": [
      "Best MAE: 44436.8249646162\n",
      "poly_degree: 10\n",
      "Current lowest MAE: 34953.75404418712\n",
      "\n",
      "\n",
      "processing shops_3-5km\n",
      "degree 1\n",
      "Fitting 5 folds for each of 20 candidates, totalling 100 fits\n",
      "Best MAE: 44000.23617766506\n",
      "poly_degree: 1\n",
      "Current lowest MAE: 34953.75404418712\n",
      "\n",
      "\n",
      "degree 2\n",
      "Fitting 5 folds for each of 20 candidates, totalling 100 fits\n",
      "Best MAE: 44005.38707839226\n",
      "poly_degree: 2\n",
      "Current lowest MAE: 34953.75404418712\n",
      "\n",
      "\n",
      "degree 3\n",
      "Fitting 5 folds for each of 20 candidates, totalling 100 fits\n"
     ]
    },
    {
     "name": "stderr",
     "output_type": "stream",
     "text": [
      "C:\\Users\\UBAN\\AppData\\Local\\Programs\\Python\\Python312\\Lib\\site-packages\\sklearn\\linear_model\\_coordinate_descent.py:697: ConvergenceWarning: Objective did not converge. You might want to increase the number of iterations, check the scale of the features or consider increasing regularisation. Duality gap: 1.092e+13, tolerance: 2.770e+09\n",
      "  model = cd_fast.enet_coordinate_descent(\n"
     ]
    },
    {
     "name": "stdout",
     "output_type": "stream",
     "text": [
      "Best MAE: 43976.44600119229\n",
      "poly_degree: 3\n",
      "Current lowest MAE: 34953.75404418712\n",
      "\n",
      "\n",
      "degree 4\n",
      "Fitting 5 folds for each of 20 candidates, totalling 100 fits\n",
      "Best MAE: 43975.68208002231\n",
      "poly_degree: 4\n",
      "Current lowest MAE: 34953.75404418712\n",
      "\n",
      "\n",
      "degree 5\n",
      "Fitting 5 folds for each of 20 candidates, totalling 100 fits\n"
     ]
    },
    {
     "name": "stderr",
     "output_type": "stream",
     "text": [
      "C:\\Users\\UBAN\\AppData\\Local\\Programs\\Python\\Python312\\Lib\\site-packages\\sklearn\\linear_model\\_coordinate_descent.py:697: ConvergenceWarning: Objective did not converge. You might want to increase the number of iterations, check the scale of the features or consider increasing regularisation. Duality gap: 4.077e+11, tolerance: 2.770e+09\n",
      "  model = cd_fast.enet_coordinate_descent(\n"
     ]
    },
    {
     "name": "stdout",
     "output_type": "stream",
     "text": [
      "Best MAE: 43977.51359328044\n",
      "poly_degree: 5\n",
      "Current lowest MAE: 34953.75404418712\n",
      "\n",
      "\n",
      "degree 6\n",
      "Fitting 5 folds for each of 20 candidates, totalling 100 fits\n",
      "Best MAE: 43982.45495624764\n",
      "poly_degree: 6\n",
      "Current lowest MAE: 34953.75404418712\n",
      "\n",
      "\n",
      "degree 7\n",
      "Fitting 5 folds for each of 20 candidates, totalling 100 fits\n"
     ]
    },
    {
     "name": "stderr",
     "output_type": "stream",
     "text": [
      "C:\\Users\\UBAN\\AppData\\Local\\Programs\\Python\\Python312\\Lib\\site-packages\\sklearn\\linear_model\\_coordinate_descent.py:697: ConvergenceWarning: Objective did not converge. You might want to increase the number of iterations, check the scale of the features or consider increasing regularisation. Duality gap: 2.658e+10, tolerance: 2.770e+09\n",
      "  model = cd_fast.enet_coordinate_descent(\n"
     ]
    },
    {
     "name": "stdout",
     "output_type": "stream",
     "text": [
      "Best MAE: 43984.94326848512\n",
      "poly_degree: 7\n",
      "Current lowest MAE: 34953.75404418712\n",
      "\n",
      "\n",
      "degree 8\n",
      "Fitting 5 folds for each of 20 candidates, totalling 100 fits\n"
     ]
    },
    {
     "name": "stderr",
     "output_type": "stream",
     "text": [
      "C:\\Users\\UBAN\\AppData\\Local\\Programs\\Python\\Python312\\Lib\\site-packages\\sklearn\\linear_model\\_coordinate_descent.py:697: ConvergenceWarning: Objective did not converge. You might want to increase the number of iterations, check the scale of the features or consider increasing regularisation. Duality gap: 1.132e+11, tolerance: 2.770e+09\n",
      "  model = cd_fast.enet_coordinate_descent(\n"
     ]
    },
    {
     "name": "stdout",
     "output_type": "stream",
     "text": [
      "Best MAE: 43988.05174076976\n",
      "poly_degree: 8\n",
      "Current lowest MAE: 34953.75404418712\n",
      "\n",
      "\n",
      "degree 9\n",
      "Fitting 5 folds for each of 20 candidates, totalling 100 fits\n"
     ]
    },
    {
     "name": "stderr",
     "output_type": "stream",
     "text": [
      "C:\\Users\\UBAN\\AppData\\Local\\Programs\\Python\\Python312\\Lib\\site-packages\\sklearn\\linear_model\\_coordinate_descent.py:697: ConvergenceWarning: Objective did not converge. You might want to increase the number of iterations, check the scale of the features or consider increasing regularisation. Duality gap: 3.018e+11, tolerance: 2.770e+09\n",
      "  model = cd_fast.enet_coordinate_descent(\n"
     ]
    },
    {
     "name": "stdout",
     "output_type": "stream",
     "text": [
      "Best MAE: 43987.09042275201\n",
      "poly_degree: 9\n",
      "Current lowest MAE: 34953.75404418712\n",
      "\n",
      "\n",
      "degree 10\n",
      "Fitting 5 folds for each of 20 candidates, totalling 100 fits\n"
     ]
    },
    {
     "name": "stderr",
     "output_type": "stream",
     "text": [
      "C:\\Users\\UBAN\\AppData\\Local\\Programs\\Python\\Python312\\Lib\\site-packages\\sklearn\\linear_model\\_coordinate_descent.py:697: ConvergenceWarning: Objective did not converge. You might want to increase the number of iterations, check the scale of the features or consider increasing regularisation. Duality gap: 9.128e+10, tolerance: 2.770e+09\n",
      "  model = cd_fast.enet_coordinate_descent(\n"
     ]
    },
    {
     "name": "stdout",
     "output_type": "stream",
     "text": [
      "Best MAE: 43987.18973841374\n",
      "poly_degree: 10\n",
      "Current lowest MAE: 34953.75404418712\n",
      "\n",
      "\n",
      "processing train_stations_closest_km\n",
      "degree 1\n",
      "Fitting 5 folds for each of 20 candidates, totalling 100 fits\n",
      "Best MAE: 45320.12670757091\n",
      "poly_degree: 1\n",
      "Current lowest MAE: 34953.75404418712\n",
      "\n",
      "\n",
      "degree 2\n",
      "Fitting 5 folds for each of 20 candidates, totalling 100 fits\n",
      "Best MAE: 43396.44472167132\n",
      "poly_degree: 2\n",
      "Current lowest MAE: 34953.75404418712\n",
      "\n",
      "\n",
      "degree 3\n",
      "Fitting 5 folds for each of 20 candidates, totalling 100 fits\n"
     ]
    },
    {
     "name": "stderr",
     "output_type": "stream",
     "text": [
      "C:\\Users\\UBAN\\AppData\\Local\\Programs\\Python\\Python312\\Lib\\site-packages\\sklearn\\linear_model\\_coordinate_descent.py:697: ConvergenceWarning: Objective did not converge. You might want to increase the number of iterations, check the scale of the features or consider increasing regularisation. Duality gap: 5.486e+12, tolerance: 2.770e+09\n",
      "  model = cd_fast.enet_coordinate_descent(\n"
     ]
    },
    {
     "name": "stdout",
     "output_type": "stream",
     "text": [
      "Best MAE: 42944.85679323012\n",
      "poly_degree: 3\n",
      "Current lowest MAE: 34953.75404418712\n",
      "\n",
      "\n",
      "degree 4\n",
      "Fitting 5 folds for each of 20 candidates, totalling 100 fits\n"
     ]
    },
    {
     "name": "stderr",
     "output_type": "stream",
     "text": [
      "C:\\Users\\UBAN\\AppData\\Local\\Programs\\Python\\Python312\\Lib\\site-packages\\sklearn\\linear_model\\_coordinate_descent.py:697: ConvergenceWarning: Objective did not converge. You might want to increase the number of iterations, check the scale of the features or consider increasing regularisation. Duality gap: 1.080e+13, tolerance: 2.770e+09\n",
      "  model = cd_fast.enet_coordinate_descent(\n"
     ]
    },
    {
     "name": "stdout",
     "output_type": "stream",
     "text": [
      "Best MAE: 42960.98573178928\n",
      "poly_degree: 4\n",
      "Current lowest MAE: 34953.75404418712\n",
      "\n",
      "\n",
      "degree 5\n",
      "Fitting 5 folds for each of 20 candidates, totalling 100 fits\n"
     ]
    },
    {
     "name": "stderr",
     "output_type": "stream",
     "text": [
      "C:\\Users\\UBAN\\AppData\\Local\\Programs\\Python\\Python312\\Lib\\site-packages\\sklearn\\linear_model\\_coordinate_descent.py:697: ConvergenceWarning: Objective did not converge. You might want to increase the number of iterations, check the scale of the features or consider increasing regularisation. Duality gap: 1.092e+13, tolerance: 2.770e+09\n",
      "  model = cd_fast.enet_coordinate_descent(\n"
     ]
    },
    {
     "name": "stdout",
     "output_type": "stream",
     "text": [
      "Best MAE: 42955.4451071215\n",
      "poly_degree: 5\n",
      "Current lowest MAE: 34953.75404418712\n",
      "\n",
      "\n",
      "degree 6\n",
      "Fitting 5 folds for each of 20 candidates, totalling 100 fits\n"
     ]
    },
    {
     "name": "stderr",
     "output_type": "stream",
     "text": [
      "C:\\Users\\UBAN\\AppData\\Local\\Programs\\Python\\Python312\\Lib\\site-packages\\sklearn\\linear_model\\_coordinate_descent.py:697: ConvergenceWarning: Objective did not converge. You might want to increase the number of iterations, check the scale of the features or consider increasing regularisation. Duality gap: 1.082e+13, tolerance: 2.770e+09\n",
      "  model = cd_fast.enet_coordinate_descent(\n"
     ]
    },
    {
     "name": "stdout",
     "output_type": "stream",
     "text": [
      "Best MAE: 42942.45909894952\n",
      "poly_degree: 6\n",
      "Current lowest MAE: 34953.75404418712\n",
      "\n",
      "\n",
      "degree 7\n",
      "Fitting 5 folds for each of 20 candidates, totalling 100 fits\n"
     ]
    },
    {
     "name": "stderr",
     "output_type": "stream",
     "text": [
      "C:\\Users\\UBAN\\AppData\\Local\\Programs\\Python\\Python312\\Lib\\site-packages\\sklearn\\linear_model\\_coordinate_descent.py:697: ConvergenceWarning: Objective did not converge. You might want to increase the number of iterations, check the scale of the features or consider increasing regularisation. Duality gap: 1.050e+13, tolerance: 2.770e+09\n",
      "  model = cd_fast.enet_coordinate_descent(\n"
     ]
    },
    {
     "name": "stdout",
     "output_type": "stream",
     "text": [
      "Best MAE: 42937.34319512104\n",
      "poly_degree: 7\n",
      "Current lowest MAE: 34953.75404418712\n",
      "\n",
      "\n",
      "degree 8\n",
      "Fitting 5 folds for each of 20 candidates, totalling 100 fits\n"
     ]
    },
    {
     "name": "stderr",
     "output_type": "stream",
     "text": [
      "C:\\Users\\UBAN\\AppData\\Local\\Programs\\Python\\Python312\\Lib\\site-packages\\sklearn\\linear_model\\_coordinate_descent.py:697: ConvergenceWarning: Objective did not converge. You might want to increase the number of iterations, check the scale of the features or consider increasing regularisation. Duality gap: 1.011e+13, tolerance: 2.770e+09\n",
      "  model = cd_fast.enet_coordinate_descent(\n"
     ]
    },
    {
     "name": "stdout",
     "output_type": "stream",
     "text": [
      "Best MAE: 42938.365100464354\n",
      "poly_degree: 8\n",
      "Current lowest MAE: 34953.75404418712\n",
      "\n",
      "\n",
      "degree 9\n",
      "Fitting 5 folds for each of 20 candidates, totalling 100 fits\n"
     ]
    },
    {
     "name": "stderr",
     "output_type": "stream",
     "text": [
      "C:\\Users\\UBAN\\AppData\\Local\\Programs\\Python\\Python312\\Lib\\site-packages\\sklearn\\linear_model\\_coordinate_descent.py:697: ConvergenceWarning: Objective did not converge. You might want to increase the number of iterations, check the scale of the features or consider increasing regularisation. Duality gap: 1.018e+13, tolerance: 2.770e+09\n",
      "  model = cd_fast.enet_coordinate_descent(\n"
     ]
    },
    {
     "name": "stdout",
     "output_type": "stream",
     "text": [
      "Best MAE: 42941.8402108753\n",
      "poly_degree: 9\n",
      "Current lowest MAE: 34953.75404418712\n",
      "\n",
      "\n",
      "degree 10\n",
      "Fitting 5 folds for each of 20 candidates, totalling 100 fits\n"
     ]
    },
    {
     "name": "stderr",
     "output_type": "stream",
     "text": [
      "C:\\Users\\UBAN\\AppData\\Local\\Programs\\Python\\Python312\\Lib\\site-packages\\sklearn\\linear_model\\_coordinate_descent.py:697: ConvergenceWarning: Objective did not converge. You might want to increase the number of iterations, check the scale of the features or consider increasing regularisation. Duality gap: 1.057e+13, tolerance: 2.770e+09\n",
      "  model = cd_fast.enet_coordinate_descent(\n"
     ]
    },
    {
     "name": "stdout",
     "output_type": "stream",
     "text": [
      "Best MAE: 42945.223776327686\n",
      "poly_degree: 10\n",
      "Current lowest MAE: 34953.75404418712\n",
      "\n",
      "\n",
      "processing is_duplicated\n",
      "degree 1\n",
      "Fitting 5 folds for each of 20 candidates, totalling 100 fits\n",
      "Best MAE: 47979.06925944306\n",
      "poly_degree: 1\n",
      "Current lowest MAE: 34953.75404418712\n",
      "\n",
      "\n",
      "degree 2\n",
      "Fitting 5 folds for each of 20 candidates, totalling 100 fits\n",
      "Best MAE: 47979.06925944306\n",
      "poly_degree: 2\n",
      "Current lowest MAE: 34953.75404418712\n",
      "\n",
      "\n",
      "degree 3\n",
      "Fitting 5 folds for each of 20 candidates, totalling 100 fits\n",
      "Best MAE: 47979.06925944306\n",
      "poly_degree: 3\n",
      "Current lowest MAE: 34953.75404418712\n",
      "\n",
      "\n",
      "degree 4\n",
      "Fitting 5 folds for each of 20 candidates, totalling 100 fits\n",
      "Best MAE: 47979.06925944306\n",
      "poly_degree: 4\n",
      "Current lowest MAE: 34953.75404418712\n",
      "\n",
      "\n",
      "degree 5\n",
      "Fitting 5 folds for each of 20 candidates, totalling 100 fits\n",
      "Best MAE: 47979.06925944306\n",
      "poly_degree: 5\n",
      "Current lowest MAE: 34953.75404418712\n",
      "\n",
      "\n",
      "degree 6\n",
      "Fitting 5 folds for each of 20 candidates, totalling 100 fits\n",
      "Best MAE: 47979.06925944306\n",
      "poly_degree: 6\n",
      "Current lowest MAE: 34953.75404418712\n",
      "\n",
      "\n",
      "degree 7\n",
      "Fitting 5 folds for each of 20 candidates, totalling 100 fits\n",
      "Best MAE: 47979.06925944306\n",
      "poly_degree: 7\n",
      "Current lowest MAE: 34953.75404418712\n",
      "\n",
      "\n",
      "degree 8\n",
      "Fitting 5 folds for each of 20 candidates, totalling 100 fits\n",
      "Best MAE: 47979.06925944306\n",
      "poly_degree: 8\n",
      "Current lowest MAE: 34953.75404418712\n",
      "\n",
      "\n",
      "degree 9\n",
      "Fitting 5 folds for each of 20 candidates, totalling 100 fits\n",
      "Best MAE: 47979.06925944306\n",
      "poly_degree: 9\n",
      "Current lowest MAE: 34953.75404418712\n",
      "\n",
      "\n",
      "degree 10\n",
      "Fitting 5 folds for each of 20 candidates, totalling 100 fits\n",
      "Best MAE: 47979.06925944306\n",
      "poly_degree: 10\n",
      "Current lowest MAE: 34953.75404418712\n",
      "\n",
      "\n",
      "processing other_flats_at_this_coords\n",
      "degree 1\n",
      "Fitting 5 folds for each of 20 candidates, totalling 100 fits\n",
      "Best MAE: 47430.00866064054\n",
      "poly_degree: 1\n",
      "Current lowest MAE: 34953.75404418712\n",
      "\n",
      "\n",
      "degree 2\n",
      "Fitting 5 folds for each of 20 candidates, totalling 100 fits\n",
      "Best MAE: 47430.00866064054\n",
      "poly_degree: 2\n",
      "Current lowest MAE: 34953.75404418712\n",
      "\n",
      "\n",
      "degree 3\n",
      "Fitting 5 folds for each of 20 candidates, totalling 100 fits\n",
      "Best MAE: 47430.00866064054\n",
      "poly_degree: 3\n",
      "Current lowest MAE: 34953.75404418712\n",
      "\n",
      "\n",
      "degree 4\n",
      "Fitting 5 folds for each of 20 candidates, totalling 100 fits\n",
      "Best MAE: 47430.00866064054\n",
      "poly_degree: 4\n",
      "Current lowest MAE: 34953.75404418712\n",
      "\n",
      "\n",
      "degree 5\n",
      "Fitting 5 folds for each of 20 candidates, totalling 100 fits\n",
      "Best MAE: 47430.00866064054\n",
      "poly_degree: 5\n",
      "Current lowest MAE: 34953.75404418712\n",
      "\n",
      "\n",
      "degree 6\n",
      "Fitting 5 folds for each of 20 candidates, totalling 100 fits\n",
      "Best MAE: 47430.00866064054\n",
      "poly_degree: 6\n",
      "Current lowest MAE: 34953.75404418712\n",
      "\n",
      "\n",
      "degree 7\n",
      "Fitting 5 folds for each of 20 candidates, totalling 100 fits\n",
      "Best MAE: 47430.00866064054\n",
      "poly_degree: 7\n",
      "Current lowest MAE: 34953.75404418712\n",
      "\n",
      "\n",
      "degree 8\n",
      "Fitting 5 folds for each of 20 candidates, totalling 100 fits\n",
      "Best MAE: 47430.00866064054\n",
      "poly_degree: 8\n",
      "Current lowest MAE: 34953.75404418712\n",
      "\n",
      "\n",
      "degree 9\n",
      "Fitting 5 folds for each of 20 candidates, totalling 100 fits\n",
      "Best MAE: 47430.00866064054\n",
      "poly_degree: 9\n",
      "Current lowest MAE: 34953.75404418712\n",
      "\n",
      "\n",
      "degree 10\n",
      "Fitting 5 folds for each of 20 candidates, totalling 100 fits\n",
      "Best MAE: 47430.00866064054\n",
      "poly_degree: 10\n",
      "Current lowest MAE: 34953.75404418712\n",
      "\n",
      "\n",
      "processing author_type_homeowner\n",
      "degree 1\n",
      "Fitting 5 folds for each of 20 candidates, totalling 100 fits\n",
      "Best MAE: 49921.196366427226\n",
      "poly_degree: 1\n",
      "Current lowest MAE: 34953.75404418712\n",
      "\n",
      "\n",
      "degree 2\n",
      "Fitting 5 folds for each of 20 candidates, totalling 100 fits\n",
      "Best MAE: 49921.196366427226\n",
      "poly_degree: 2\n",
      "Current lowest MAE: 34953.75404418712\n",
      "\n",
      "\n",
      "degree 3\n",
      "Fitting 5 folds for each of 20 candidates, totalling 100 fits\n",
      "Best MAE: 49921.196366427226\n",
      "poly_degree: 3\n",
      "Current lowest MAE: 34953.75404418712\n",
      "\n",
      "\n",
      "degree 4\n",
      "Fitting 5 folds for each of 20 candidates, totalling 100 fits\n",
      "Best MAE: 49921.196366427226\n",
      "poly_degree: 4\n",
      "Current lowest MAE: 34953.75404418712\n",
      "\n",
      "\n",
      "degree 5\n",
      "Fitting 5 folds for each of 20 candidates, totalling 100 fits\n",
      "Best MAE: 49921.196366427226\n",
      "poly_degree: 5\n",
      "Current lowest MAE: 34953.75404418712\n",
      "\n",
      "\n",
      "degree 6\n",
      "Fitting 5 folds for each of 20 candidates, totalling 100 fits\n",
      "Best MAE: 49921.196366427226\n",
      "poly_degree: 6\n",
      "Current lowest MAE: 34953.75404418712\n",
      "\n",
      "\n",
      "degree 7\n",
      "Fitting 5 folds for each of 20 candidates, totalling 100 fits\n",
      "Best MAE: 49921.196366427226\n",
      "poly_degree: 7\n",
      "Current lowest MAE: 34953.75404418712\n",
      "\n",
      "\n",
      "degree 8\n",
      "Fitting 5 folds for each of 20 candidates, totalling 100 fits\n",
      "Best MAE: 49921.196366427226\n",
      "poly_degree: 8\n",
      "Current lowest MAE: 34953.75404418712\n",
      "\n",
      "\n",
      "degree 9\n",
      "Fitting 5 folds for each of 20 candidates, totalling 100 fits\n",
      "Best MAE: 49921.196366427226\n",
      "poly_degree: 9\n",
      "Current lowest MAE: 34953.75404418712\n",
      "\n",
      "\n",
      "degree 10\n",
      "Fitting 5 folds for each of 20 candidates, totalling 100 fits\n",
      "Best MAE: 49921.196366427226\n",
      "poly_degree: 10\n",
      "Current lowest MAE: 34953.75404418712\n",
      "\n",
      "\n",
      "processing author_type_many_types\n",
      "degree 1\n",
      "Fitting 5 folds for each of 20 candidates, totalling 100 fits\n",
      "Best MAE: 49322.17929188332\n",
      "poly_degree: 1\n",
      "Current lowest MAE: 34953.75404418712\n",
      "\n",
      "\n",
      "degree 2\n",
      "Fitting 5 folds for each of 20 candidates, totalling 100 fits\n",
      "Best MAE: 49322.17929188333\n",
      "poly_degree: 2\n",
      "Current lowest MAE: 34953.75404418712\n",
      "\n",
      "\n",
      "degree 3\n",
      "Fitting 5 folds for each of 20 candidates, totalling 100 fits\n",
      "Best MAE: 49322.17929188333\n",
      "poly_degree: 3\n",
      "Current lowest MAE: 34953.75404418712\n",
      "\n",
      "\n",
      "degree 4\n",
      "Fitting 5 folds for each of 20 candidates, totalling 100 fits\n",
      "Best MAE: 49322.17929188333\n",
      "poly_degree: 4\n",
      "Current lowest MAE: 34953.75404418712\n",
      "\n",
      "\n",
      "degree 5\n",
      "Fitting 5 folds for each of 20 candidates, totalling 100 fits\n",
      "Best MAE: 49322.17929188333\n",
      "poly_degree: 5\n",
      "Current lowest MAE: 34953.75404418712\n",
      "\n",
      "\n",
      "degree 6\n",
      "Fitting 5 folds for each of 20 candidates, totalling 100 fits\n",
      "Best MAE: 49322.17929188333\n",
      "poly_degree: 6\n",
      "Current lowest MAE: 34953.75404418712\n",
      "\n",
      "\n",
      "degree 7\n",
      "Fitting 5 folds for each of 20 candidates, totalling 100 fits\n",
      "Best MAE: 49322.17929188333\n",
      "poly_degree: 7\n",
      "Current lowest MAE: 34953.75404418712\n",
      "\n",
      "\n",
      "degree 8\n",
      "Fitting 5 folds for each of 20 candidates, totalling 100 fits\n",
      "Best MAE: 49322.17929188333\n",
      "poly_degree: 8\n",
      "Current lowest MAE: 34953.75404418712\n",
      "\n",
      "\n",
      "degree 9\n",
      "Fitting 5 folds for each of 20 candidates, totalling 100 fits\n",
      "Best MAE: 49322.17929188333\n",
      "poly_degree: 9\n",
      "Current lowest MAE: 34953.75404418712\n",
      "\n",
      "\n",
      "degree 10\n",
      "Fitting 5 folds for each of 20 candidates, totalling 100 fits\n",
      "Best MAE: 49322.17929188333\n",
      "poly_degree: 10\n",
      "Current lowest MAE: 34953.75404418712\n",
      "\n",
      "\n",
      "processing author_type_official_representative\n",
      "degree 1\n",
      "Fitting 5 folds for each of 20 candidates, totalling 100 fits\n",
      "Best MAE: 50293.02644932208\n",
      "poly_degree: 1\n",
      "Current lowest MAE: 34953.75404418712\n",
      "\n",
      "\n",
      "degree 2\n",
      "Fitting 5 folds for each of 20 candidates, totalling 100 fits\n",
      "Best MAE: 50293.02644932208\n",
      "poly_degree: 2\n",
      "Current lowest MAE: 34953.75404418712\n",
      "\n",
      "\n",
      "degree 3\n",
      "Fitting 5 folds for each of 20 candidates, totalling 100 fits\n",
      "Best MAE: 50293.02644932208\n",
      "poly_degree: 3\n",
      "Current lowest MAE: 34953.75404418712\n",
      "\n",
      "\n",
      "degree 4\n",
      "Fitting 5 folds for each of 20 candidates, totalling 100 fits\n",
      "Best MAE: 50293.02644932208\n",
      "poly_degree: 4\n",
      "Current lowest MAE: 34953.75404418712\n",
      "\n",
      "\n",
      "degree 5\n",
      "Fitting 5 folds for each of 20 candidates, totalling 100 fits\n",
      "Best MAE: 50293.02644932208\n",
      "poly_degree: 5\n",
      "Current lowest MAE: 34953.75404418712\n",
      "\n",
      "\n",
      "degree 6\n",
      "Fitting 5 folds for each of 20 candidates, totalling 100 fits\n",
      "Best MAE: 50293.02644932208\n",
      "poly_degree: 6\n",
      "Current lowest MAE: 34953.75404418712\n",
      "\n",
      "\n",
      "degree 7\n",
      "Fitting 5 folds for each of 20 candidates, totalling 100 fits\n",
      "Best MAE: 50293.02644932208\n",
      "poly_degree: 7\n",
      "Current lowest MAE: 34953.75404418712\n",
      "\n",
      "\n",
      "degree 8\n",
      "Fitting 5 folds for each of 20 candidates, totalling 100 fits\n",
      "Best MAE: 50293.02644932208\n",
      "poly_degree: 8\n",
      "Current lowest MAE: 34953.75404418712\n",
      "\n",
      "\n",
      "degree 9\n",
      "Fitting 5 folds for each of 20 candidates, totalling 100 fits\n",
      "Best MAE: 50293.02644932208\n",
      "poly_degree: 9\n",
      "Current lowest MAE: 34953.75404418712\n",
      "\n",
      "\n",
      "degree 10\n",
      "Fitting 5 folds for each of 20 candidates, totalling 100 fits\n",
      "Best MAE: 50293.02644932208\n",
      "poly_degree: 10\n",
      "Current lowest MAE: 34953.75404418712\n",
      "\n",
      "\n",
      "processing author_type_real_estate_agent\n",
      "degree 1\n",
      "Fitting 5 folds for each of 20 candidates, totalling 100 fits\n",
      "Best MAE: 49569.45700870534\n",
      "poly_degree: 1\n",
      "Current lowest MAE: 34953.75404418712\n",
      "\n",
      "\n",
      "degree 2\n",
      "Fitting 5 folds for each of 20 candidates, totalling 100 fits\n",
      "Best MAE: 49569.45700870534\n",
      "poly_degree: 2\n",
      "Current lowest MAE: 34953.75404418712\n",
      "\n",
      "\n",
      "degree 3\n",
      "Fitting 5 folds for each of 20 candidates, totalling 100 fits\n",
      "Best MAE: 49569.45700870534\n",
      "poly_degree: 3\n",
      "Current lowest MAE: 34953.75404418712\n",
      "\n",
      "\n",
      "degree 4\n",
      "Fitting 5 folds for each of 20 candidates, totalling 100 fits\n",
      "Best MAE: 49569.45700870534\n",
      "poly_degree: 4\n",
      "Current lowest MAE: 34953.75404418712\n",
      "\n",
      "\n",
      "degree 5\n",
      "Fitting 5 folds for each of 20 candidates, totalling 100 fits\n",
      "Best MAE: 49569.45700870534\n",
      "poly_degree: 5\n",
      "Current lowest MAE: 34953.75404418712\n",
      "\n",
      "\n",
      "degree 6\n",
      "Fitting 5 folds for each of 20 candidates, totalling 100 fits\n",
      "Best MAE: 49569.45700870534\n",
      "poly_degree: 6\n",
      "Current lowest MAE: 34953.75404418712\n",
      "\n",
      "\n",
      "degree 7\n",
      "Fitting 5 folds for each of 20 candidates, totalling 100 fits\n",
      "Best MAE: 49569.45700870534\n",
      "poly_degree: 7\n",
      "Current lowest MAE: 34953.75404418712\n",
      "\n",
      "\n",
      "degree 8\n",
      "Fitting 5 folds for each of 20 candidates, totalling 100 fits\n",
      "Best MAE: 49569.45700870534\n",
      "poly_degree: 8\n",
      "Current lowest MAE: 34953.75404418712\n",
      "\n",
      "\n",
      "degree 9\n",
      "Fitting 5 folds for each of 20 candidates, totalling 100 fits\n",
      "Best MAE: 49569.45700870534\n",
      "poly_degree: 9\n",
      "Current lowest MAE: 34953.75404418712\n",
      "\n",
      "\n",
      "degree 10\n",
      "Fitting 5 folds for each of 20 candidates, totalling 100 fits\n",
      "Best MAE: 49569.45700870534\n",
      "poly_degree: 10\n",
      "Current lowest MAE: 34953.75404418712\n",
      "\n",
      "\n",
      "processing author_type_realtor\n",
      "degree 1\n",
      "Fitting 5 folds for each of 20 candidates, totalling 100 fits\n",
      "Best MAE: 49283.01070760552\n",
      "poly_degree: 1\n",
      "Current lowest MAE: 34953.75404418712\n",
      "\n",
      "\n",
      "degree 2\n",
      "Fitting 5 folds for each of 20 candidates, totalling 100 fits\n",
      "Best MAE: 49283.01070760552\n",
      "poly_degree: 2\n",
      "Current lowest MAE: 34953.75404418712\n",
      "\n",
      "\n",
      "degree 3\n",
      "Fitting 5 folds for each of 20 candidates, totalling 100 fits\n",
      "Best MAE: 49283.01070760552\n",
      "poly_degree: 3\n",
      "Current lowest MAE: 34953.75404418712\n",
      "\n",
      "\n",
      "degree 4\n",
      "Fitting 5 folds for each of 20 candidates, totalling 100 fits\n",
      "Best MAE: 49283.01070760552\n",
      "poly_degree: 4\n",
      "Current lowest MAE: 34953.75404418712\n",
      "\n",
      "\n",
      "degree 5\n",
      "Fitting 5 folds for each of 20 candidates, totalling 100 fits\n",
      "Best MAE: 49283.01070760552\n",
      "poly_degree: 5\n",
      "Current lowest MAE: 34953.75404418712\n",
      "\n",
      "\n",
      "degree 6\n",
      "Fitting 5 folds for each of 20 candidates, totalling 100 fits\n",
      "Best MAE: 49283.01070760552\n",
      "poly_degree: 6\n",
      "Current lowest MAE: 34953.75404418712\n",
      "\n",
      "\n",
      "degree 7\n",
      "Fitting 5 folds for each of 20 candidates, totalling 100 fits\n",
      "Best MAE: 49283.010707605514\n",
      "poly_degree: 7\n",
      "Current lowest MAE: 34953.75404418712\n",
      "\n",
      "\n",
      "degree 8\n",
      "Fitting 5 folds for each of 20 candidates, totalling 100 fits\n",
      "Best MAE: 49283.010707605514\n",
      "poly_degree: 8\n",
      "Current lowest MAE: 34953.75404418712\n",
      "\n",
      "\n",
      "degree 9\n",
      "Fitting 5 folds for each of 20 candidates, totalling 100 fits\n",
      "Best MAE: 49283.010707605514\n",
      "poly_degree: 9\n",
      "Current lowest MAE: 34953.75404418712\n",
      "\n",
      "\n",
      "degree 10\n",
      "Fitting 5 folds for each of 20 candidates, totalling 100 fits\n",
      "Best MAE: 49283.010707605514\n",
      "poly_degree: 10\n",
      "Current lowest MAE: 34953.75404418712\n",
      "\n",
      "\n",
      "processing author_type_unknown\n",
      "degree 1\n",
      "Fitting 5 folds for each of 20 candidates, totalling 100 fits\n",
      "Best MAE: 50186.42137395447\n",
      "poly_degree: 1\n",
      "Current lowest MAE: 34953.75404418712\n",
      "\n",
      "\n",
      "degree 2\n",
      "Fitting 5 folds for each of 20 candidates, totalling 100 fits\n",
      "Best MAE: 50186.42137395447\n",
      "poly_degree: 2\n",
      "Current lowest MAE: 34953.75404418712\n",
      "\n",
      "\n",
      "degree 3\n",
      "Fitting 5 folds for each of 20 candidates, totalling 100 fits\n",
      "Best MAE: 50186.42137395447\n",
      "poly_degree: 3\n",
      "Current lowest MAE: 34953.75404418712\n",
      "\n",
      "\n",
      "degree 4\n",
      "Fitting 5 folds for each of 20 candidates, totalling 100 fits\n",
      "Best MAE: 50186.42137395447\n",
      "poly_degree: 4\n",
      "Current lowest MAE: 34953.75404418712\n",
      "\n",
      "\n",
      "degree 5\n",
      "Fitting 5 folds for each of 20 candidates, totalling 100 fits\n",
      "Best MAE: 50186.42137395447\n",
      "poly_degree: 5\n",
      "Current lowest MAE: 34953.75404418712\n",
      "\n",
      "\n",
      "degree 6\n",
      "Fitting 5 folds for each of 20 candidates, totalling 100 fits\n",
      "Best MAE: 50186.42137395447\n",
      "poly_degree: 6\n",
      "Current lowest MAE: 34953.75404418712\n",
      "\n",
      "\n",
      "degree 7\n",
      "Fitting 5 folds for each of 20 candidates, totalling 100 fits\n",
      "Best MAE: 50186.42137395447\n",
      "poly_degree: 7\n",
      "Current lowest MAE: 34953.75404418712\n",
      "\n",
      "\n",
      "degree 8\n",
      "Fitting 5 folds for each of 20 candidates, totalling 100 fits\n",
      "Best MAE: 50186.42137395447\n",
      "poly_degree: 8\n",
      "Current lowest MAE: 34953.75404418712\n",
      "\n",
      "\n",
      "degree 9\n",
      "Fitting 5 folds for each of 20 candidates, totalling 100 fits\n",
      "Best MAE: 50186.42137395447\n",
      "poly_degree: 9\n",
      "Current lowest MAE: 34953.75404418712\n",
      "\n",
      "\n",
      "degree 10\n",
      "Fitting 5 folds for each of 20 candidates, totalling 100 fits\n",
      "Best MAE: 50186.42137395447\n",
      "poly_degree: 10\n",
      "Current lowest MAE: 34953.75404418712\n",
      "\n",
      "\n",
      "processing rooms_1\n",
      "degree 1\n",
      "Fitting 5 folds for each of 20 candidates, totalling 100 fits\n",
      "Best MAE: 45027.65934463896\n",
      "poly_degree: 1\n",
      "Current lowest MAE: 34953.75404418712\n",
      "\n",
      "\n",
      "degree 2\n",
      "Fitting 5 folds for each of 20 candidates, totalling 100 fits\n",
      "Best MAE: 45027.65934463896\n",
      "poly_degree: 2\n",
      "Current lowest MAE: 34953.75404418712\n",
      "\n",
      "\n",
      "degree 3\n",
      "Fitting 5 folds for each of 20 candidates, totalling 100 fits\n",
      "Best MAE: 45027.65934463896\n",
      "poly_degree: 3\n",
      "Current lowest MAE: 34953.75404418712\n",
      "\n",
      "\n",
      "degree 4\n",
      "Fitting 5 folds for each of 20 candidates, totalling 100 fits\n",
      "Best MAE: 45027.65934463896\n",
      "poly_degree: 4\n",
      "Current lowest MAE: 34953.75404418712\n",
      "\n",
      "\n",
      "degree 5\n",
      "Fitting 5 folds for each of 20 candidates, totalling 100 fits\n",
      "Best MAE: 45027.65934463896\n",
      "poly_degree: 5\n",
      "Current lowest MAE: 34953.75404418712\n",
      "\n",
      "\n",
      "degree 6\n",
      "Fitting 5 folds for each of 20 candidates, totalling 100 fits\n",
      "Best MAE: 45027.65934463896\n",
      "poly_degree: 6\n",
      "Current lowest MAE: 34953.75404418712\n",
      "\n",
      "\n",
      "degree 7\n",
      "Fitting 5 folds for each of 20 candidates, totalling 100 fits\n",
      "Best MAE: 45027.65934463896\n",
      "poly_degree: 7\n",
      "Current lowest MAE: 34953.75404418712\n",
      "\n",
      "\n",
      "degree 8\n",
      "Fitting 5 folds for each of 20 candidates, totalling 100 fits\n",
      "Best MAE: 45027.65934463896\n",
      "poly_degree: 8\n",
      "Current lowest MAE: 34953.75404418712\n",
      "\n",
      "\n",
      "degree 9\n",
      "Fitting 5 folds for each of 20 candidates, totalling 100 fits\n",
      "Best MAE: 45027.65934463896\n",
      "poly_degree: 9\n",
      "Current lowest MAE: 34953.75404418712\n",
      "\n",
      "\n",
      "degree 10\n",
      "Fitting 5 folds for each of 20 candidates, totalling 100 fits\n",
      "Best MAE: 45027.65934463896\n",
      "poly_degree: 10\n",
      "Current lowest MAE: 34953.75404418712\n",
      "\n",
      "\n",
      "processing rooms_2\n",
      "degree 1\n",
      "Fitting 5 folds for each of 20 candidates, totalling 100 fits\n",
      "Best MAE: 50308.202563017076\n",
      "poly_degree: 1\n",
      "Current lowest MAE: 34953.75404418712\n",
      "\n",
      "\n",
      "degree 2\n",
      "Fitting 5 folds for each of 20 candidates, totalling 100 fits\n",
      "Best MAE: 50308.202563017076\n",
      "poly_degree: 2\n",
      "Current lowest MAE: 34953.75404418712\n",
      "\n",
      "\n",
      "degree 3\n",
      "Fitting 5 folds for each of 20 candidates, totalling 100 fits\n",
      "Best MAE: 50308.202563017076\n",
      "poly_degree: 3\n",
      "Current lowest MAE: 34953.75404418712\n",
      "\n",
      "\n",
      "degree 4\n",
      "Fitting 5 folds for each of 20 candidates, totalling 100 fits\n",
      "Best MAE: 50308.202563017076\n",
      "poly_degree: 4\n",
      "Current lowest MAE: 34953.75404418712\n",
      "\n",
      "\n",
      "degree 5\n",
      "Fitting 5 folds for each of 20 candidates, totalling 100 fits\n",
      "Best MAE: 50308.202563017076\n",
      "poly_degree: 5\n",
      "Current lowest MAE: 34953.75404418712\n",
      "\n",
      "\n",
      "degree 6\n",
      "Fitting 5 folds for each of 20 candidates, totalling 100 fits\n",
      "Best MAE: 50308.202563017076\n",
      "poly_degree: 6\n",
      "Current lowest MAE: 34953.75404418712\n",
      "\n",
      "\n",
      "degree 7\n",
      "Fitting 5 folds for each of 20 candidates, totalling 100 fits\n",
      "Best MAE: 50308.202563017076\n",
      "poly_degree: 7\n",
      "Current lowest MAE: 34953.75404418712\n",
      "\n",
      "\n",
      "degree 8\n",
      "Fitting 5 folds for each of 20 candidates, totalling 100 fits\n",
      "Best MAE: 50308.202563017076\n",
      "poly_degree: 8\n",
      "Current lowest MAE: 34953.75404418712\n",
      "\n",
      "\n",
      "degree 9\n",
      "Fitting 5 folds for each of 20 candidates, totalling 100 fits\n",
      "Best MAE: 50308.202563017076\n",
      "poly_degree: 9\n",
      "Current lowest MAE: 34953.75404418712\n",
      "\n",
      "\n",
      "degree 10\n",
      "Fitting 5 folds for each of 20 candidates, totalling 100 fits\n",
      "Best MAE: 50308.202563017076\n",
      "poly_degree: 10\n",
      "Current lowest MAE: 34953.75404418712\n",
      "\n",
      "\n",
      "processing rooms_3\n",
      "degree 1\n",
      "Fitting 5 folds for each of 20 candidates, totalling 100 fits\n",
      "Best MAE: 47020.862450791385\n",
      "poly_degree: 1\n",
      "Current lowest MAE: 34953.75404418712\n",
      "\n",
      "\n",
      "degree 2\n",
      "Fitting 5 folds for each of 20 candidates, totalling 100 fits\n",
      "Best MAE: 47020.862450791385\n",
      "poly_degree: 2\n",
      "Current lowest MAE: 34953.75404418712\n",
      "\n",
      "\n",
      "degree 3\n",
      "Fitting 5 folds for each of 20 candidates, totalling 100 fits\n",
      "Best MAE: 47020.862450791385\n",
      "poly_degree: 3\n",
      "Current lowest MAE: 34953.75404418712\n",
      "\n",
      "\n",
      "degree 4\n",
      "Fitting 5 folds for each of 20 candidates, totalling 100 fits\n",
      "Best MAE: 47020.862450791385\n",
      "poly_degree: 4\n",
      "Current lowest MAE: 34953.75404418712\n",
      "\n",
      "\n",
      "degree 5\n",
      "Fitting 5 folds for each of 20 candidates, totalling 100 fits\n",
      "Best MAE: 47020.862450791385\n",
      "poly_degree: 5\n",
      "Current lowest MAE: 34953.75404418712\n",
      "\n",
      "\n",
      "degree 6\n",
      "Fitting 5 folds for each of 20 candidates, totalling 100 fits\n",
      "Best MAE: 47020.862450791385\n",
      "poly_degree: 6\n",
      "Current lowest MAE: 34953.75404418712\n",
      "\n",
      "\n",
      "degree 7\n",
      "Fitting 5 folds for each of 20 candidates, totalling 100 fits\n",
      "Best MAE: 47020.862450791385\n",
      "poly_degree: 7\n",
      "Current lowest MAE: 34953.75404418712\n",
      "\n",
      "\n",
      "degree 8\n",
      "Fitting 5 folds for each of 20 candidates, totalling 100 fits\n",
      "Best MAE: 47020.862450791385\n",
      "poly_degree: 8\n",
      "Current lowest MAE: 34953.75404418712\n",
      "\n",
      "\n",
      "degree 9\n",
      "Fitting 5 folds for each of 20 candidates, totalling 100 fits\n",
      "Best MAE: 47020.862450791385\n",
      "poly_degree: 9\n",
      "Current lowest MAE: 34953.75404418712\n",
      "\n",
      "\n",
      "degree 10\n",
      "Fitting 5 folds for each of 20 candidates, totalling 100 fits\n",
      "Best MAE: 47020.862450791385\n",
      "poly_degree: 10\n",
      "Current lowest MAE: 34953.75404418712\n",
      "\n",
      "\n",
      "processing rooms_4\n",
      "degree 1\n",
      "Fitting 5 folds for each of 20 candidates, totalling 100 fits\n",
      "Best MAE: 47242.015168491176\n",
      "poly_degree: 1\n",
      "Current lowest MAE: 34953.75404418712\n",
      "\n",
      "\n",
      "degree 2\n",
      "Fitting 5 folds for each of 20 candidates, totalling 100 fits\n",
      "Best MAE: 47242.015168491176\n",
      "poly_degree: 2\n",
      "Current lowest MAE: 34953.75404418712\n",
      "\n",
      "\n",
      "degree 3\n",
      "Fitting 5 folds for each of 20 candidates, totalling 100 fits\n",
      "Best MAE: 47242.015168491176\n",
      "poly_degree: 3\n",
      "Current lowest MAE: 34953.75404418712\n",
      "\n",
      "\n",
      "degree 4\n",
      "Fitting 5 folds for each of 20 candidates, totalling 100 fits\n",
      "Best MAE: 47242.015168491176\n",
      "poly_degree: 4\n",
      "Current lowest MAE: 34953.75404418712\n",
      "\n",
      "\n",
      "degree 5\n",
      "Fitting 5 folds for each of 20 candidates, totalling 100 fits\n",
      "Best MAE: 47242.015168491176\n",
      "poly_degree: 5\n",
      "Current lowest MAE: 34953.75404418712\n",
      "\n",
      "\n",
      "degree 6\n",
      "Fitting 5 folds for each of 20 candidates, totalling 100 fits\n",
      "Best MAE: 47242.015168491176\n",
      "poly_degree: 6\n",
      "Current lowest MAE: 34953.75404418712\n",
      "\n",
      "\n",
      "degree 7\n",
      "Fitting 5 folds for each of 20 candidates, totalling 100 fits\n",
      "Best MAE: 47242.015168491176\n",
      "poly_degree: 7\n",
      "Current lowest MAE: 34953.75404418712\n",
      "\n",
      "\n",
      "degree 8\n",
      "Fitting 5 folds for each of 20 candidates, totalling 100 fits\n",
      "Best MAE: 47242.015168491176\n",
      "poly_degree: 8\n",
      "Current lowest MAE: 34953.75404418712\n",
      "\n",
      "\n",
      "degree 9\n",
      "Fitting 5 folds for each of 20 candidates, totalling 100 fits\n",
      "Best MAE: 47242.015168491176\n",
      "poly_degree: 9\n",
      "Current lowest MAE: 34953.75404418712\n",
      "\n",
      "\n",
      "degree 10\n",
      "Fitting 5 folds for each of 20 candidates, totalling 100 fits\n",
      "Best MAE: 47242.015168491176\n",
      "poly_degree: 10\n",
      "Current lowest MAE: 34953.75404418712\n",
      "\n",
      "\n",
      "processing rooms_5\n",
      "degree 1\n",
      "Fitting 5 folds for each of 20 candidates, totalling 100 fits\n",
      "Best MAE: 50222.29348756303\n",
      "poly_degree: 1\n",
      "Current lowest MAE: 34953.75404418712\n",
      "\n",
      "\n",
      "degree 2\n",
      "Fitting 5 folds for each of 20 candidates, totalling 100 fits\n",
      "Best MAE: 50222.29348756303\n",
      "poly_degree: 2\n",
      "Current lowest MAE: 34953.75404418712\n",
      "\n",
      "\n",
      "degree 3\n",
      "Fitting 5 folds for each of 20 candidates, totalling 100 fits\n",
      "Best MAE: 50222.29348756303\n",
      "poly_degree: 3\n",
      "Current lowest MAE: 34953.75404418712\n",
      "\n",
      "\n",
      "degree 4\n",
      "Fitting 5 folds for each of 20 candidates, totalling 100 fits\n",
      "Best MAE: 50222.29348756303\n",
      "poly_degree: 4\n",
      "Current lowest MAE: 34953.75404418712\n",
      "\n",
      "\n",
      "degree 5\n",
      "Fitting 5 folds for each of 20 candidates, totalling 100 fits\n",
      "Best MAE: 50222.29348756303\n",
      "poly_degree: 5\n",
      "Current lowest MAE: 34953.75404418712\n",
      "\n",
      "\n",
      "degree 6\n",
      "Fitting 5 folds for each of 20 candidates, totalling 100 fits\n",
      "Best MAE: 50222.29348756303\n",
      "poly_degree: 6\n",
      "Current lowest MAE: 34953.75404418712\n",
      "\n",
      "\n",
      "degree 7\n",
      "Fitting 5 folds for each of 20 candidates, totalling 100 fits\n",
      "Best MAE: 50222.29348756303\n",
      "poly_degree: 7\n",
      "Current lowest MAE: 34953.75404418712\n",
      "\n",
      "\n",
      "degree 8\n",
      "Fitting 5 folds for each of 20 candidates, totalling 100 fits\n",
      "Best MAE: 50222.29348756303\n",
      "poly_degree: 8\n",
      "Current lowest MAE: 34953.75404418712\n",
      "\n",
      "\n",
      "degree 9\n",
      "Fitting 5 folds for each of 20 candidates, totalling 100 fits\n",
      "Best MAE: 50222.29348756303\n",
      "poly_degree: 9\n",
      "Current lowest MAE: 34953.75404418712\n",
      "\n",
      "\n",
      "degree 10\n",
      "Fitting 5 folds for each of 20 candidates, totalling 100 fits\n",
      "Best MAE: 50222.29348756303\n",
      "poly_degree: 10\n",
      "Current lowest MAE: 34953.75404418712\n",
      "\n",
      "\n"
     ]
    }
   ],
   "source": [
    "lowest_MAE = 50000\n",
    "results_dict = dict()\n",
    "for single_col in X.columns:\n",
    "    print(f\"processing {single_col}\")\n",
    "    degrees_dict = dict()\n",
    "    for degree in range(1, 11):    \n",
    "        print(f\"degree {degree}\")\n",
    "        grid_search = GridSearchCV(estimator = get_model_pipeline(X = X[[single_col]], \n",
    "                                                                  model = Lasso(), \n",
    "                                                                  poly_features = degree,\n",
    "                                                                  standartize = True\n",
    "                                            ),\n",
    "                                param_grid = {'model__alpha': np.arange(0.1, 200, 10)},\n",
    "                                scoring = 'neg_mean_absolute_error',\n",
    "                                cv = 5,\n",
    "                                verbose = 1,\n",
    "                                n_jobs = 5\n",
    "                  )\n",
    "    \n",
    "    \n",
    "        grid_search.fit(X[[single_col]], y)\n",
    "        \n",
    "        print(\"Best MAE:\", -grid_search.best_score_)\n",
    "        print(f\"poly_degree: {degree}\")\n",
    "        degrees_dict[degree] = -grid_search.best_score_\n",
    "\n",
    "        if -grid_search.best_score_ < lowest_MAE:\n",
    "            lowest_MAE = -grid_search.best_score_\n",
    "\n",
    "        print(f\"Current lowest MAE: {lowest_MAE}\")\n",
    "        \n",
    "        print(\"\")\n",
    "        print(\"\")\n",
    "\n",
    "    results_dict[single_col] = degrees_dict\n"
   ]
  },
  {
   "cell_type": "code",
   "execution_count": 24,
   "id": "17232f27-1c33-4d4d-9bff-6bc863a8d684",
   "metadata": {},
   "outputs": [],
   "source": [
    "inter1 = {outer_key: min(inner_dict.items(), key=lambda x: x[1]) for outer_key, inner_dict in results_dict.items()}\n",
    "inter2 = {k: (key, value) for k, (key, value) in result.items()}\n",
    "top_features = [x[0] for x in sorted(inter2.items(), key = lambda x: x[1][1])[:5]]"
   ]
  },
  {
   "cell_type": "code",
   "execution_count": 25,
   "id": "45fc6328-f6d7-40d2-9ac2-db79939c8174",
   "metadata": {},
   "outputs": [
    {
     "name": "stdout",
     "output_type": "stream",
     "text": [
      "degree 1\n",
      "Fitting 5 folds for each of 20 candidates, totalling 100 fits\n",
      "Best Parameters: {'model__alpha': 240}\n",
      "Best MAE: 28991.98152373627\n",
      "poly_degree: 1\n",
      "Current lowest MAE: 28991.98152373627\n",
      "\n",
      "\n",
      "degree 2\n",
      "Fitting 5 folds for each of 20 candidates, totalling 100 fits\n",
      "Best Parameters: {'model__alpha': 50}\n",
      "Best MAE: 28195.282979993404\n",
      "poly_degree: 2\n",
      "Current lowest MAE: 28195.282979993404\n",
      "\n",
      "\n",
      "degree 3\n",
      "Fitting 5 folds for each of 20 candidates, totalling 100 fits\n"
     ]
    },
    {
     "name": "stderr",
     "output_type": "stream",
     "text": [
      "C:\\Users\\UBAN\\AppData\\Local\\Programs\\Python\\Python312\\Lib\\site-packages\\sklearn\\linear_model\\_coordinate_descent.py:697: ConvergenceWarning: Objective did not converge. You might want to increase the number of iterations, check the scale of the features or consider increasing regularisation. Duality gap: 1.665e+11, tolerance: 2.770e+09\n",
      "  model = cd_fast.enet_coordinate_descent(\n"
     ]
    },
    {
     "name": "stdout",
     "output_type": "stream",
     "text": [
      "Best Parameters: {'model__alpha': 60}\n",
      "Best MAE: 27858.3312712628\n",
      "poly_degree: 3\n",
      "Current lowest MAE: 27858.3312712628\n",
      "\n",
      "\n",
      "degree 4\n",
      "Fitting 5 folds for each of 20 candidates, totalling 100 fits\n"
     ]
    },
    {
     "name": "stderr",
     "output_type": "stream",
     "text": [
      "C:\\Users\\UBAN\\AppData\\Local\\Programs\\Python\\Python312\\Lib\\site-packages\\sklearn\\linear_model\\_coordinate_descent.py:697: ConvergenceWarning: Objective did not converge. You might want to increase the number of iterations, check the scale of the features or consider increasing regularisation. Duality gap: 2.716e+10, tolerance: 2.770e+09\n",
      "  model = cd_fast.enet_coordinate_descent(\n"
     ]
    },
    {
     "name": "stdout",
     "output_type": "stream",
     "text": [
      "Best Parameters: {'model__alpha': 70}\n",
      "Best MAE: 27793.622137833\n",
      "poly_degree: 4\n",
      "Current lowest MAE: 27793.622137833\n",
      "\n",
      "\n",
      "degree 5\n",
      "Fitting 5 folds for each of 20 candidates, totalling 100 fits\n"
     ]
    },
    {
     "ename": "KeyboardInterrupt",
     "evalue": "",
     "output_type": "error",
     "traceback": [
      "\u001b[1;31m---------------------------------------------------------------------------\u001b[0m",
      "\u001b[1;31mKeyboardInterrupt\u001b[0m                         Traceback (most recent call last)",
      "Cell \u001b[1;32mIn[25], line 18\u001b[0m\n\u001b[0;32m      4\u001b[0m \u001b[38;5;28mprint\u001b[39m(\u001b[38;5;124mf\u001b[39m\u001b[38;5;124m\"\u001b[39m\u001b[38;5;124mdegree \u001b[39m\u001b[38;5;132;01m{\u001b[39;00mdegree\u001b[38;5;132;01m}\u001b[39;00m\u001b[38;5;124m\"\u001b[39m)\n\u001b[0;32m      5\u001b[0m grid_search \u001b[38;5;241m=\u001b[39m GridSearchCV(estimator \u001b[38;5;241m=\u001b[39m get_model_pipeline(X \u001b[38;5;241m=\u001b[39m X[top_features], \n\u001b[0;32m      6\u001b[0m                                                           model \u001b[38;5;241m=\u001b[39m Lasso(), \n\u001b[0;32m      7\u001b[0m                                                           poly_features \u001b[38;5;241m=\u001b[39m degree,\n\u001b[1;32m   (...)\u001b[0m\n\u001b[0;32m     14\u001b[0m                         n_jobs \u001b[38;5;241m=\u001b[39m \u001b[38;5;241m5\u001b[39m\n\u001b[0;32m     15\u001b[0m           )\n\u001b[1;32m---> 18\u001b[0m \u001b[43mgrid_search\u001b[49m\u001b[38;5;241;43m.\u001b[39;49m\u001b[43mfit\u001b[49m\u001b[43m(\u001b[49m\u001b[43mX\u001b[49m\u001b[43m[\u001b[49m\u001b[43mtop_features\u001b[49m\u001b[43m]\u001b[49m\u001b[43m,\u001b[49m\u001b[43m \u001b[49m\u001b[43my\u001b[49m\u001b[43m)\u001b[49m\n\u001b[0;32m     20\u001b[0m \u001b[38;5;28mprint\u001b[39m(\u001b[38;5;124m\"\u001b[39m\u001b[38;5;124mBest Parameters:\u001b[39m\u001b[38;5;124m\"\u001b[39m, grid_search\u001b[38;5;241m.\u001b[39mbest_params_)\n\u001b[0;32m     21\u001b[0m \u001b[38;5;28mprint\u001b[39m(\u001b[38;5;124m\"\u001b[39m\u001b[38;5;124mBest MAE:\u001b[39m\u001b[38;5;124m\"\u001b[39m, \u001b[38;5;241m-\u001b[39mgrid_search\u001b[38;5;241m.\u001b[39mbest_score_)\n",
      "File \u001b[1;32m~\\AppData\\Local\\Programs\\Python\\Python312\\Lib\\site-packages\\sklearn\\base.py:1473\u001b[0m, in \u001b[0;36m_fit_context.<locals>.decorator.<locals>.wrapper\u001b[1;34m(estimator, *args, **kwargs)\u001b[0m\n\u001b[0;32m   1466\u001b[0m     estimator\u001b[38;5;241m.\u001b[39m_validate_params()\n\u001b[0;32m   1468\u001b[0m \u001b[38;5;28;01mwith\u001b[39;00m config_context(\n\u001b[0;32m   1469\u001b[0m     skip_parameter_validation\u001b[38;5;241m=\u001b[39m(\n\u001b[0;32m   1470\u001b[0m         prefer_skip_nested_validation \u001b[38;5;129;01mor\u001b[39;00m global_skip_validation\n\u001b[0;32m   1471\u001b[0m     )\n\u001b[0;32m   1472\u001b[0m ):\n\u001b[1;32m-> 1473\u001b[0m     \u001b[38;5;28;01mreturn\u001b[39;00m \u001b[43mfit_method\u001b[49m\u001b[43m(\u001b[49m\u001b[43mestimator\u001b[49m\u001b[43m,\u001b[49m\u001b[43m \u001b[49m\u001b[38;5;241;43m*\u001b[39;49m\u001b[43margs\u001b[49m\u001b[43m,\u001b[49m\u001b[43m \u001b[49m\u001b[38;5;241;43m*\u001b[39;49m\u001b[38;5;241;43m*\u001b[39;49m\u001b[43mkwargs\u001b[49m\u001b[43m)\u001b[49m\n",
      "File \u001b[1;32m~\\AppData\\Local\\Programs\\Python\\Python312\\Lib\\site-packages\\sklearn\\model_selection\\_search.py:1019\u001b[0m, in \u001b[0;36mBaseSearchCV.fit\u001b[1;34m(self, X, y, **params)\u001b[0m\n\u001b[0;32m   1013\u001b[0m     results \u001b[38;5;241m=\u001b[39m \u001b[38;5;28mself\u001b[39m\u001b[38;5;241m.\u001b[39m_format_results(\n\u001b[0;32m   1014\u001b[0m         all_candidate_params, n_splits, all_out, all_more_results\n\u001b[0;32m   1015\u001b[0m     )\n\u001b[0;32m   1017\u001b[0m     \u001b[38;5;28;01mreturn\u001b[39;00m results\n\u001b[1;32m-> 1019\u001b[0m \u001b[38;5;28;43mself\u001b[39;49m\u001b[38;5;241;43m.\u001b[39;49m\u001b[43m_run_search\u001b[49m\u001b[43m(\u001b[49m\u001b[43mevaluate_candidates\u001b[49m\u001b[43m)\u001b[49m\n\u001b[0;32m   1021\u001b[0m \u001b[38;5;66;03m# multimetric is determined here because in the case of a callable\u001b[39;00m\n\u001b[0;32m   1022\u001b[0m \u001b[38;5;66;03m# self.scoring the return type is only known after calling\u001b[39;00m\n\u001b[0;32m   1023\u001b[0m first_test_score \u001b[38;5;241m=\u001b[39m all_out[\u001b[38;5;241m0\u001b[39m][\u001b[38;5;124m\"\u001b[39m\u001b[38;5;124mtest_scores\u001b[39m\u001b[38;5;124m\"\u001b[39m]\n",
      "File \u001b[1;32m~\\AppData\\Local\\Programs\\Python\\Python312\\Lib\\site-packages\\sklearn\\model_selection\\_search.py:1573\u001b[0m, in \u001b[0;36mGridSearchCV._run_search\u001b[1;34m(self, evaluate_candidates)\u001b[0m\n\u001b[0;32m   1571\u001b[0m \u001b[38;5;28;01mdef\u001b[39;00m \u001b[38;5;21m_run_search\u001b[39m(\u001b[38;5;28mself\u001b[39m, evaluate_candidates):\n\u001b[0;32m   1572\u001b[0m \u001b[38;5;250m    \u001b[39m\u001b[38;5;124;03m\"\"\"Search all candidates in param_grid\"\"\"\u001b[39;00m\n\u001b[1;32m-> 1573\u001b[0m     \u001b[43mevaluate_candidates\u001b[49m\u001b[43m(\u001b[49m\u001b[43mParameterGrid\u001b[49m\u001b[43m(\u001b[49m\u001b[38;5;28;43mself\u001b[39;49m\u001b[38;5;241;43m.\u001b[39;49m\u001b[43mparam_grid\u001b[49m\u001b[43m)\u001b[49m\u001b[43m)\u001b[49m\n",
      "File \u001b[1;32m~\\AppData\\Local\\Programs\\Python\\Python312\\Lib\\site-packages\\sklearn\\model_selection\\_search.py:965\u001b[0m, in \u001b[0;36mBaseSearchCV.fit.<locals>.evaluate_candidates\u001b[1;34m(candidate_params, cv, more_results)\u001b[0m\n\u001b[0;32m    957\u001b[0m \u001b[38;5;28;01mif\u001b[39;00m \u001b[38;5;28mself\u001b[39m\u001b[38;5;241m.\u001b[39mverbose \u001b[38;5;241m>\u001b[39m \u001b[38;5;241m0\u001b[39m:\n\u001b[0;32m    958\u001b[0m     \u001b[38;5;28mprint\u001b[39m(\n\u001b[0;32m    959\u001b[0m         \u001b[38;5;124m\"\u001b[39m\u001b[38;5;124mFitting \u001b[39m\u001b[38;5;132;01m{0}\u001b[39;00m\u001b[38;5;124m folds for each of \u001b[39m\u001b[38;5;132;01m{1}\u001b[39;00m\u001b[38;5;124m candidates,\u001b[39m\u001b[38;5;124m\"\u001b[39m\n\u001b[0;32m    960\u001b[0m         \u001b[38;5;124m\"\u001b[39m\u001b[38;5;124m totalling \u001b[39m\u001b[38;5;132;01m{2}\u001b[39;00m\u001b[38;5;124m fits\u001b[39m\u001b[38;5;124m\"\u001b[39m\u001b[38;5;241m.\u001b[39mformat(\n\u001b[0;32m    961\u001b[0m             n_splits, n_candidates, n_candidates \u001b[38;5;241m*\u001b[39m n_splits\n\u001b[0;32m    962\u001b[0m         )\n\u001b[0;32m    963\u001b[0m     )\n\u001b[1;32m--> 965\u001b[0m out \u001b[38;5;241m=\u001b[39m \u001b[43mparallel\u001b[49m\u001b[43m(\u001b[49m\n\u001b[0;32m    966\u001b[0m \u001b[43m    \u001b[49m\u001b[43mdelayed\u001b[49m\u001b[43m(\u001b[49m\u001b[43m_fit_and_score\u001b[49m\u001b[43m)\u001b[49m\u001b[43m(\u001b[49m\n\u001b[0;32m    967\u001b[0m \u001b[43m        \u001b[49m\u001b[43mclone\u001b[49m\u001b[43m(\u001b[49m\u001b[43mbase_estimator\u001b[49m\u001b[43m)\u001b[49m\u001b[43m,\u001b[49m\n\u001b[0;32m    968\u001b[0m \u001b[43m        \u001b[49m\u001b[43mX\u001b[49m\u001b[43m,\u001b[49m\n\u001b[0;32m    969\u001b[0m \u001b[43m        \u001b[49m\u001b[43my\u001b[49m\u001b[43m,\u001b[49m\n\u001b[0;32m    970\u001b[0m \u001b[43m        \u001b[49m\u001b[43mtrain\u001b[49m\u001b[38;5;241;43m=\u001b[39;49m\u001b[43mtrain\u001b[49m\u001b[43m,\u001b[49m\n\u001b[0;32m    971\u001b[0m \u001b[43m        \u001b[49m\u001b[43mtest\u001b[49m\u001b[38;5;241;43m=\u001b[39;49m\u001b[43mtest\u001b[49m\u001b[43m,\u001b[49m\n\u001b[0;32m    972\u001b[0m \u001b[43m        \u001b[49m\u001b[43mparameters\u001b[49m\u001b[38;5;241;43m=\u001b[39;49m\u001b[43mparameters\u001b[49m\u001b[43m,\u001b[49m\n\u001b[0;32m    973\u001b[0m \u001b[43m        \u001b[49m\u001b[43msplit_progress\u001b[49m\u001b[38;5;241;43m=\u001b[39;49m\u001b[43m(\u001b[49m\u001b[43msplit_idx\u001b[49m\u001b[43m,\u001b[49m\u001b[43m \u001b[49m\u001b[43mn_splits\u001b[49m\u001b[43m)\u001b[49m\u001b[43m,\u001b[49m\n\u001b[0;32m    974\u001b[0m \u001b[43m        \u001b[49m\u001b[43mcandidate_progress\u001b[49m\u001b[38;5;241;43m=\u001b[39;49m\u001b[43m(\u001b[49m\u001b[43mcand_idx\u001b[49m\u001b[43m,\u001b[49m\u001b[43m \u001b[49m\u001b[43mn_candidates\u001b[49m\u001b[43m)\u001b[49m\u001b[43m,\u001b[49m\n\u001b[0;32m    975\u001b[0m \u001b[43m        \u001b[49m\u001b[38;5;241;43m*\u001b[39;49m\u001b[38;5;241;43m*\u001b[39;49m\u001b[43mfit_and_score_kwargs\u001b[49m\u001b[43m,\u001b[49m\n\u001b[0;32m    976\u001b[0m \u001b[43m    \u001b[49m\u001b[43m)\u001b[49m\n\u001b[0;32m    977\u001b[0m \u001b[43m    \u001b[49m\u001b[38;5;28;43;01mfor\u001b[39;49;00m\u001b[43m \u001b[49m\u001b[43m(\u001b[49m\u001b[43mcand_idx\u001b[49m\u001b[43m,\u001b[49m\u001b[43m \u001b[49m\u001b[43mparameters\u001b[49m\u001b[43m)\u001b[49m\u001b[43m,\u001b[49m\u001b[43m \u001b[49m\u001b[43m(\u001b[49m\u001b[43msplit_idx\u001b[49m\u001b[43m,\u001b[49m\u001b[43m \u001b[49m\u001b[43m(\u001b[49m\u001b[43mtrain\u001b[49m\u001b[43m,\u001b[49m\u001b[43m \u001b[49m\u001b[43mtest\u001b[49m\u001b[43m)\u001b[49m\u001b[43m)\u001b[49m\u001b[43m \u001b[49m\u001b[38;5;129;43;01min\u001b[39;49;00m\u001b[43m \u001b[49m\u001b[43mproduct\u001b[49m\u001b[43m(\u001b[49m\n\u001b[0;32m    978\u001b[0m \u001b[43m        \u001b[49m\u001b[38;5;28;43menumerate\u001b[39;49m\u001b[43m(\u001b[49m\u001b[43mcandidate_params\u001b[49m\u001b[43m)\u001b[49m\u001b[43m,\u001b[49m\n\u001b[0;32m    979\u001b[0m \u001b[43m        \u001b[49m\u001b[38;5;28;43menumerate\u001b[39;49m\u001b[43m(\u001b[49m\u001b[43mcv\u001b[49m\u001b[38;5;241;43m.\u001b[39;49m\u001b[43msplit\u001b[49m\u001b[43m(\u001b[49m\u001b[43mX\u001b[49m\u001b[43m,\u001b[49m\u001b[43m \u001b[49m\u001b[43my\u001b[49m\u001b[43m,\u001b[49m\u001b[43m \u001b[49m\u001b[38;5;241;43m*\u001b[39;49m\u001b[38;5;241;43m*\u001b[39;49m\u001b[43mrouted_params\u001b[49m\u001b[38;5;241;43m.\u001b[39;49m\u001b[43msplitter\u001b[49m\u001b[38;5;241;43m.\u001b[39;49m\u001b[43msplit\u001b[49m\u001b[43m)\u001b[49m\u001b[43m)\u001b[49m\u001b[43m,\u001b[49m\n\u001b[0;32m    980\u001b[0m \u001b[43m    \u001b[49m\u001b[43m)\u001b[49m\n\u001b[0;32m    981\u001b[0m \u001b[43m\u001b[49m\u001b[43m)\u001b[49m\n\u001b[0;32m    983\u001b[0m \u001b[38;5;28;01mif\u001b[39;00m \u001b[38;5;28mlen\u001b[39m(out) \u001b[38;5;241m<\u001b[39m \u001b[38;5;241m1\u001b[39m:\n\u001b[0;32m    984\u001b[0m     \u001b[38;5;28;01mraise\u001b[39;00m \u001b[38;5;167;01mValueError\u001b[39;00m(\n\u001b[0;32m    985\u001b[0m         \u001b[38;5;124m\"\u001b[39m\u001b[38;5;124mNo fits were performed. \u001b[39m\u001b[38;5;124m\"\u001b[39m\n\u001b[0;32m    986\u001b[0m         \u001b[38;5;124m\"\u001b[39m\u001b[38;5;124mWas the CV iterator empty? \u001b[39m\u001b[38;5;124m\"\u001b[39m\n\u001b[0;32m    987\u001b[0m         \u001b[38;5;124m\"\u001b[39m\u001b[38;5;124mWere there no candidates?\u001b[39m\u001b[38;5;124m\"\u001b[39m\n\u001b[0;32m    988\u001b[0m     )\n",
      "File \u001b[1;32m~\\AppData\\Local\\Programs\\Python\\Python312\\Lib\\site-packages\\sklearn\\utils\\parallel.py:74\u001b[0m, in \u001b[0;36mParallel.__call__\u001b[1;34m(self, iterable)\u001b[0m\n\u001b[0;32m     69\u001b[0m config \u001b[38;5;241m=\u001b[39m get_config()\n\u001b[0;32m     70\u001b[0m iterable_with_config \u001b[38;5;241m=\u001b[39m (\n\u001b[0;32m     71\u001b[0m     (_with_config(delayed_func, config), args, kwargs)\n\u001b[0;32m     72\u001b[0m     \u001b[38;5;28;01mfor\u001b[39;00m delayed_func, args, kwargs \u001b[38;5;129;01min\u001b[39;00m iterable\n\u001b[0;32m     73\u001b[0m )\n\u001b[1;32m---> 74\u001b[0m \u001b[38;5;28;01mreturn\u001b[39;00m \u001b[38;5;28;43msuper\u001b[39;49m\u001b[43m(\u001b[49m\u001b[43m)\u001b[49m\u001b[38;5;241;43m.\u001b[39;49m\u001b[38;5;21;43m__call__\u001b[39;49m\u001b[43m(\u001b[49m\u001b[43miterable_with_config\u001b[49m\u001b[43m)\u001b[49m\n",
      "File \u001b[1;32m~\\AppData\\Local\\Programs\\Python\\Python312\\Lib\\site-packages\\joblib\\parallel.py:2007\u001b[0m, in \u001b[0;36mParallel.__call__\u001b[1;34m(self, iterable)\u001b[0m\n\u001b[0;32m   2001\u001b[0m \u001b[38;5;66;03m# The first item from the output is blank, but it makes the interpreter\u001b[39;00m\n\u001b[0;32m   2002\u001b[0m \u001b[38;5;66;03m# progress until it enters the Try/Except block of the generator and\u001b[39;00m\n\u001b[0;32m   2003\u001b[0m \u001b[38;5;66;03m# reaches the first `yield` statement. This starts the asynchronous\u001b[39;00m\n\u001b[0;32m   2004\u001b[0m \u001b[38;5;66;03m# dispatch of the tasks to the workers.\u001b[39;00m\n\u001b[0;32m   2005\u001b[0m \u001b[38;5;28mnext\u001b[39m(output)\n\u001b[1;32m-> 2007\u001b[0m \u001b[38;5;28;01mreturn\u001b[39;00m output \u001b[38;5;28;01mif\u001b[39;00m \u001b[38;5;28mself\u001b[39m\u001b[38;5;241m.\u001b[39mreturn_generator \u001b[38;5;28;01melse\u001b[39;00m \u001b[38;5;28;43mlist\u001b[39;49m\u001b[43m(\u001b[49m\u001b[43moutput\u001b[49m\u001b[43m)\u001b[49m\n",
      "File \u001b[1;32m~\\AppData\\Local\\Programs\\Python\\Python312\\Lib\\site-packages\\joblib\\parallel.py:1650\u001b[0m, in \u001b[0;36mParallel._get_outputs\u001b[1;34m(self, iterator, pre_dispatch)\u001b[0m\n\u001b[0;32m   1647\u001b[0m     \u001b[38;5;28;01myield\u001b[39;00m\n\u001b[0;32m   1649\u001b[0m     \u001b[38;5;28;01mwith\u001b[39;00m \u001b[38;5;28mself\u001b[39m\u001b[38;5;241m.\u001b[39m_backend\u001b[38;5;241m.\u001b[39mretrieval_context():\n\u001b[1;32m-> 1650\u001b[0m         \u001b[38;5;28;01myield from\u001b[39;00m \u001b[38;5;28mself\u001b[39m\u001b[38;5;241m.\u001b[39m_retrieve()\n\u001b[0;32m   1652\u001b[0m \u001b[38;5;28;01mexcept\u001b[39;00m \u001b[38;5;167;01mGeneratorExit\u001b[39;00m:\n\u001b[0;32m   1653\u001b[0m     \u001b[38;5;66;03m# The generator has been garbage collected before being fully\u001b[39;00m\n\u001b[0;32m   1654\u001b[0m     \u001b[38;5;66;03m# consumed. This aborts the remaining tasks if possible and warn\u001b[39;00m\n\u001b[0;32m   1655\u001b[0m     \u001b[38;5;66;03m# the user if necessary.\u001b[39;00m\n\u001b[0;32m   1656\u001b[0m     \u001b[38;5;28mself\u001b[39m\u001b[38;5;241m.\u001b[39m_exception \u001b[38;5;241m=\u001b[39m \u001b[38;5;28;01mTrue\u001b[39;00m\n",
      "File \u001b[1;32m~\\AppData\\Local\\Programs\\Python\\Python312\\Lib\\site-packages\\joblib\\parallel.py:1762\u001b[0m, in \u001b[0;36mParallel._retrieve\u001b[1;34m(self)\u001b[0m\n\u001b[0;32m   1757\u001b[0m \u001b[38;5;66;03m# If the next job is not ready for retrieval yet, we just wait for\u001b[39;00m\n\u001b[0;32m   1758\u001b[0m \u001b[38;5;66;03m# async callbacks to progress.\u001b[39;00m\n\u001b[0;32m   1759\u001b[0m \u001b[38;5;28;01mif\u001b[39;00m ((\u001b[38;5;28mlen\u001b[39m(\u001b[38;5;28mself\u001b[39m\u001b[38;5;241m.\u001b[39m_jobs) \u001b[38;5;241m==\u001b[39m \u001b[38;5;241m0\u001b[39m) \u001b[38;5;129;01mor\u001b[39;00m\n\u001b[0;32m   1760\u001b[0m     (\u001b[38;5;28mself\u001b[39m\u001b[38;5;241m.\u001b[39m_jobs[\u001b[38;5;241m0\u001b[39m]\u001b[38;5;241m.\u001b[39mget_status(\n\u001b[0;32m   1761\u001b[0m         timeout\u001b[38;5;241m=\u001b[39m\u001b[38;5;28mself\u001b[39m\u001b[38;5;241m.\u001b[39mtimeout) \u001b[38;5;241m==\u001b[39m TASK_PENDING)):\n\u001b[1;32m-> 1762\u001b[0m     \u001b[43mtime\u001b[49m\u001b[38;5;241;43m.\u001b[39;49m\u001b[43msleep\u001b[49m\u001b[43m(\u001b[49m\u001b[38;5;241;43m0.01\u001b[39;49m\u001b[43m)\u001b[49m\n\u001b[0;32m   1763\u001b[0m     \u001b[38;5;28;01mcontinue\u001b[39;00m\n\u001b[0;32m   1765\u001b[0m \u001b[38;5;66;03m# We need to be careful: the job list can be filling up as\u001b[39;00m\n\u001b[0;32m   1766\u001b[0m \u001b[38;5;66;03m# we empty it and Python list are not thread-safe by\u001b[39;00m\n\u001b[0;32m   1767\u001b[0m \u001b[38;5;66;03m# default hence the use of the lock\u001b[39;00m\n",
      "\u001b[1;31mKeyboardInterrupt\u001b[0m: "
     ]
    }
   ],
   "source": [
    "lowest_MAE = 50000\n",
    "new_res_dict = dict()\n",
    "for degree in range(1, 11):    \n",
    "    print(f\"degree {degree}\")\n",
    "    grid_search = GridSearchCV(estimator = get_model_pipeline(X = X[top_features], \n",
    "                                                              model = Lasso(), \n",
    "                                                              poly_features = degree,\n",
    "                                                              standartize = True\n",
    "                                        ),\n",
    "                            param_grid = {'model__alpha': np.arange(50, 250, 10)},\n",
    "                            scoring = 'neg_mean_absolute_error',\n",
    "                            cv = 5,\n",
    "                            verbose = 1,\n",
    "                            n_jobs = 5\n",
    "              )\n",
    "\n",
    "\n",
    "    grid_search.fit(X[top_features], y)\n",
    "\n",
    "    print(\"Best Parameters:\", grid_search.best_params_)\n",
    "    print(\"Best MAE:\", -grid_search.best_score_)\n",
    "    print(f\"poly_degree: {degree}\")\n",
    "    new_res_dict[degree] = -grid_search.best_score_\n",
    "\n",
    "    if -grid_search.best_score_ < lowest_MAE:\n",
    "        lowest_MAE = -grid_search.best_score_\n",
    "\n",
    "    print(f\"Current lowest MAE: {lowest_MAE}\")\n",
    "    \n",
    "    print(\"\")\n",
    "    print(\"\")\n"
   ]
  },
  {
   "cell_type": "code",
   "execution_count": 28,
   "id": "b0e204d3-3bea-45a4-9fdd-fda7b99597b9",
   "metadata": {},
   "outputs": [
    {
     "name": "stdout",
     "output_type": "stream",
     "text": [
      "parks: Explained Variance Ratio per Component: [0.32376045]\n",
      "parks: Cumulative Explained Variance: 0.3238\n",
      "edu: Explained Variance Ratio per Component: [0.52977431]\n",
      "edu: Cumulative Explained Variance: 0.5298\n",
      "shops: Explained Variance Ratio per Component: [0.395567]\n",
      "shops: Cumulative Explained Variance: 0.3956\n",
      "moscow_stations: Explained Variance Ratio per Component: [0.50439374]\n",
      "moscow_stations: Cumulative Explained Variance: 0.5044\n",
      "bus_stops: Explained Variance Ratio per Component: [0.49780078]\n",
      "bus_stops: Cumulative Explained Variance: 0.4978\n",
      "eco: Explained Variance Ratio per Component: [0.49611701]\n",
      "eco: Cumulative Explained Variance: 0.4961\n",
      "hospitals: Explained Variance Ratio per Component: [0.76014283]\n",
      "hospitals: Cumulative Explained Variance: 0.7601\n",
      "Fitting 5 folds for each of 7 candidates, totalling 35 fits\n",
      "Best Parameters: {'model__alpha': 227.32000000000005}\n",
      "Best MAE: 24730.01291211962\n",
      "poly_degree: 1\n",
      "\n",
      "\n",
      "parks: Explained Variance Ratio per Component: [0.32376045]\n",
      "parks: Cumulative Explained Variance: 0.3238\n",
      "edu: Explained Variance Ratio per Component: [0.52977431]\n",
      "edu: Cumulative Explained Variance: 0.5298\n",
      "shops: Explained Variance Ratio per Component: [0.395567]\n",
      "shops: Cumulative Explained Variance: 0.3956\n",
      "moscow_stations: Explained Variance Ratio per Component: [0.50439374]\n",
      "moscow_stations: Cumulative Explained Variance: 0.5044\n",
      "bus_stops: Explained Variance Ratio per Component: [0.49780078]\n",
      "bus_stops: Cumulative Explained Variance: 0.4978\n",
      "eco: Explained Variance Ratio per Component: [0.49611701]\n",
      "eco: Cumulative Explained Variance: 0.4961\n",
      "hospitals: Explained Variance Ratio per Component: [0.76014283]\n",
      "hospitals: Cumulative Explained Variance: 0.7601\n",
      "Fitting 5 folds for each of 13 candidates, totalling 65 fits\n",
      "Best Parameters: {'model__alpha': 562.3100000000003}\n",
      "Best MAE: 22731.35434941138\n",
      "poly_degree: 2\n",
      "\n",
      "\n"
     ]
    }
   ],
   "source": [
    "i = 1\n",
    "patterns_components = [['parks', min(i, 9)], \n",
    "                           ['edu', min(i, 6)],\n",
    "                           ['shops', min(i, 5)],\n",
    "                           ['moscow_stations', min(i, 5)],\n",
    "                           ['bus_stops', min(i, 5)],\n",
    "                           ['eco', min(i, 5)],\n",
    "                           ['hospitals',  min(i, 2)]\n",
    "                          ]\n",
    "\n",
    "for degree in range(1, 3):\n",
    "    grid_search = GridSearchCV(estimator = get_model_pipeline(X = X, \n",
    "                                                              model = Lasso(), \n",
    "                                                              poly_features = degree,\n",
    "                                                              pca_groups = get_PCA_groups(X, patterns_components),\n",
    "                                                              standartize = True\n",
    "                                            ),\n",
    "                                param_grid = {'model__alpha': [np.arange(226, 228, 0.33), np.arange(560, 564, 0.33)][degree - 1]\n",
    "                                             },\n",
    "                                scoring = 'neg_mean_absolute_error',\n",
    "                                cv = 5,\n",
    "                                verbose = 1,\n",
    "                                n_jobs = 5\n",
    "                  )\n",
    "    \n",
    "\n",
    "    grid_search.fit(X, y)\n",
    "    \n",
    "    print(\"Best Parameters:\", grid_search.best_params_)\n",
    "    print(\"Best MAE:\", -grid_search.best_score_)\n",
    "    print(f\"poly_degree: {degree}\")\n",
    "\n",
    "    print(\"\")\n",
    "    print(\"\")"
   ]
  }
 ],
 "metadata": {
  "kernelspec": {
   "display_name": "Python 3 (ipykernel)",
   "language": "python",
   "name": "python3"
  },
  "language_info": {
   "codemirror_mode": {
    "name": "ipython",
    "version": 3
   },
   "file_extension": ".py",
   "mimetype": "text/x-python",
   "name": "python",
   "nbconvert_exporter": "python",
   "pygments_lexer": "ipython3",
   "version": "3.12.3"
  }
 },
 "nbformat": 4,
 "nbformat_minor": 5
}
