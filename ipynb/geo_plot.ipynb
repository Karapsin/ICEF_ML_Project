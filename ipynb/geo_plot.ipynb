{
 "cells": [
  {
   "cell_type": "code",
   "execution_count": 1,
   "id": "843c1830-66f9-452c-94f3-fb600726f42a",
   "metadata": {},
   "outputs": [],
   "source": [
    "import sys\n",
    "import matplotlib.pyplot as plt\n",
    "import os\n",
    "os.chdir('..')\n",
    "sys.path.append('py')\n",
    "from features_funs import *\n",
    "\n",
    "#for visual purposes\n",
    "def swap_coordinates(geometry):\n",
    "    if geometry.geom_type == 'Point':\n",
    "        return Point(geometry.y, geometry.x)\n",
    "    elif geometry.geom_type == 'MultiPoint':\n",
    "        return MultiPoint([Point(p.y, p.x) for p in geometry.geoms])\n",
    "    elif geometry.geom_type == 'Polygon':\n",
    "        return Polygon([(y, x) for x, y in geometry.exterior.coords])\n",
    "    elif geometry.geom_type == 'MultiPolygon':\n",
    "        return MultiPolygon([Polygon([(y, x) for x, y in poly.exterior.coords]) for poly in geometry.geoms])\n",
    "    else:\n",
    "        return geometry"
   ]
  },
  {
   "cell_type": "code",
   "execution_count": null,
   "id": "1e434a7f-cca9-4f60-8e4c-773a739d3ed6",
   "metadata": {},
   "outputs": [
    {
     "name": "stdout",
     "output_type": "stream",
     "text": [
      "processing adult_hospitals.csv\n",
      "done\n",
      "processing bus_stations.csv\n",
      "done\n",
      "processing bus_stops.csv\n",
      "done\n",
      "processing eco_boiler.csv\n",
      "done\n",
      "processing eco_dump.csv\n",
      "done\n",
      "processing eco_factory.csv\n",
      "done\n",
      "processing eco_thermal.csv\n",
      "done\n",
      "processing edu_prof.csv\n",
      "done\n",
      "processing edu_school.csv\n",
      "done\n",
      "processing kids_hospitals.csv\n",
      "done\n",
      "processing moscow_stations.csv\n",
      "done\n",
      "processing parks.csv\n",
      "done\n",
      "processing shops.csv\n"
     ]
    }
   ],
   "source": [
    "df = pd.DataFrame(columns = ['geoData', 'group'])\n",
    "for file in os.listdir('csv\\\\objects_coords'):\n",
    "    print(f\"processing {file}\")\n",
    "    mini_df = get_csv('objects_coords', file, cols = ['geoData'])\n",
    "    mini_df['group'] = file.replace('.csv', '')\n",
    "    mini_df['geoData'] = parse_str_to_polygon(mini_df['geoData'])\n",
    "    df = pd.concat([df, mini_df])\n",
    "    print(\"done\")"
   ]
  },
  {
   "cell_type": "code",
   "execution_count": null,
   "id": "ddc29265-b9da-43df-8bcf-a8909f0b0184",
   "metadata": {},
   "outputs": [],
   "source": [
    "from cartopy import crs as ccrs\n",
    "df = create_gdf(df)\n",
    "df['dist'] = df['geometry'].apply(lambda x: closest_dist_geo_obj(Point((55.755787, 37.617764)), x)/1000)\n",
    "df = df.query(\"dist < 50\")"
   ]
  },
  {
   "cell_type": "code",
   "execution_count": null,
   "id": "509e2ebf-4d0e-4b5c-b743-124210b1a8db",
   "metadata": {},
   "outputs": [],
   "source": [
    "df['swapped_geometry'] = df.geometry.apply(swap_coordinates)\n",
    "df = df.set_geometry('swapped_geometry')"
   ]
  },
  {
   "cell_type": "code",
   "execution_count": null,
   "id": "4732945f-90a0-4960-8592-1416e66b8d9d",
   "metadata": {},
   "outputs": [],
   "source": [
    "from matplotlib.lines import Line2D\n",
    "import contextily as cx\n",
    "import matplotlib.pyplot as plt\n",
    "\n",
    "def plot_group(df, \n",
    "               colors = None, \n",
    "               marker_size = 0.1,\n",
    "               fig_size = (10, 10),\n",
    "               show_legend = False\n",
    "    ):\n",
    "    \n",
    "    if colors is None:\n",
    "        cmap = plt.cm.Set1\n",
    "        unique_groups = df['group'].unique()\n",
    "        colors = {group: cmap(i / len(unique_groups)) \n",
    "                  for i, group \n",
    "                  in enumerate(unique_groups)\n",
    "                 }\n",
    "    \n",
    "    \n",
    "    \n",
    "    #plot setup\n",
    "    fig, ax = plt.subplots(figsize = fig_size)\n",
    "    \n",
    "    \n",
    "    #groups plotting\n",
    "    for group, color in colors.items():\n",
    "        (\n",
    "         df[df['group'] == group]\n",
    "          .to_crs('EPSG:3857')\n",
    "          .plot(ax = ax, \n",
    "                color = color, \n",
    "                label = group, \n",
    "                markersize = marker_size\n",
    "          )\n",
    "        )\n",
    "    \n",
    "    \n",
    "    #map img\n",
    "    cx.add_basemap(ax)\n",
    "    \n",
    "    \n",
    "    #legend\n",
    "    legend_elements = [Line2D([0], \n",
    "                              [0], \n",
    "                              marker ='o', \n",
    "                              color ='w', \n",
    "                              markerfacecolor = color, \n",
    "                              markersize = 10, \n",
    "                              label = group\n",
    "                        )\n",
    "                       for group, color \n",
    "                       in colors.items()\n",
    "                      ]\n",
    "\n",
    "    if show_legend:\n",
    "        ax.legend(handles = legend_elements, \n",
    "                  loc = \"upper right\",\n",
    "                  ncol = 3,\n",
    "                  fontsize = 8\n",
    "        )\n",
    "    \n",
    "    #final show\n",
    "    plt.show()\n",
    "\n",
    "def filter_df(df, group_list):\n",
    "    return df[df['group'].isin(group_list)]\n",
    "\n",
    "def get_group_with_pattern(df, pattern):\n",
    "    return df[df['group'].str.contains(pattern)]['group'].unique()"
   ]
  },
  {
   "cell_type": "code",
   "execution_count": null,
   "id": "71f3a204-71f8-4c54-bd09-cda514e91fa4",
   "metadata": {},
   "outputs": [],
   "source": [
    "plot_group(filter_df(df, ['shops']), \n",
    "           colors = {\"shops\": \"blue\"}\n",
    ")"
   ]
  },
  {
   "cell_type": "code",
   "execution_count": null,
   "id": "cf0fbf50-17aa-485c-9501-87cb2d143f7d",
   "metadata": {},
   "outputs": [],
   "source": [
    "plot_group(filter_df(df, \n",
    "                     get_group_with_pattern(df, \n",
    "                                            'eco'\n",
    "                     )\n",
    "            ), \n",
    "           show_legend = True, \n",
    "           marker_size = 15\n",
    ")"
   ]
  },
  {
   "cell_type": "code",
   "execution_count": null,
   "id": "fbc8fc66-f32b-4fea-a6b0-9d5bd2a9f44b",
   "metadata": {},
   "outputs": [],
   "source": [
    "plot_group(filter_df(df, \n",
    "                     ['park']\n",
    "            ), \n",
    "           show_legend = True, \n",
    "           colors = {\"parks\": \"green\"}\n",
    ")"
   ]
  },
  {
   "cell_type": "code",
   "execution_count": null,
   "id": "651eb155-ae3d-453f-9d47-3deb1737054e",
   "metadata": {},
   "outputs": [],
   "source": [
    "plot_group(filter_df(df, \n",
    "                     get_group_with_pattern(df, \n",
    "                                            'bus_stop'\n",
    "                     )\n",
    "            ), \n",
    "           show_legend = True, \n",
    "           marker_size = 0.1\n",
    ")"
   ]
  },
  {
   "cell_type": "code",
   "execution_count": null,
   "id": "bc90b90d-60ec-4252-8da5-793d9b78ef60",
   "metadata": {},
   "outputs": [],
   "source": [
    "plot_group(filter_df(df, \n",
    "                     get_group_with_pattern(df, \n",
    "                                            'station'\n",
    "                     )\n",
    "            ), \n",
    "           show_legend = True, \n",
    "           marker_size = 15\n",
    ")"
   ]
  },
  {
   "cell_type": "code",
   "execution_count": null,
   "id": "249718ad-9b32-4580-a7aa-caab08f95d84",
   "metadata": {},
   "outputs": [],
   "source": [
    "edu_df = df.copy()\n",
    "edu_df['swapped_geometry'] = edu_df['swapped_geometry'].centroid\n",
    "edu_df = edu_df.set_geometry('swapped_geometry')\n",
    "plot_group(filter_df(edu_df, \n",
    "                     get_group_with_pattern(edu_df, \n",
    "                                            'edu'\n",
    "                     )\n",
    "            ), \n",
    "           show_legend = True, \n",
    "           marker_size = 15\n",
    ")"
   ]
  },
  {
   "cell_type": "code",
   "execution_count": null,
   "id": "2c70f557-00d4-4c6c-b8f0-9c0f3ea68726",
   "metadata": {},
   "outputs": [],
   "source": [
    "plot_group(filter_df(df, \n",
    "                     get_group_with_pattern(df, \n",
    "                                            'hospit'\n",
    "                     )\n",
    "            ), \n",
    "           show_legend = True, \n",
    "           marker_size = 15\n",
    ")"
   ]
  }
 ],
 "metadata": {
  "kernelspec": {
   "display_name": "Python 3 (ipykernel)",
   "language": "python",
   "name": "python3"
  },
  "language_info": {
   "codemirror_mode": {
    "name": "ipython",
    "version": 3
   },
   "file_extension": ".py",
   "mimetype": "text/x-python",
   "name": "python",
   "nbconvert_exporter": "python",
   "pygments_lexer": "ipython3",
   "version": "3.12.3"
  }
 },
 "nbformat": 4,
 "nbformat_minor": 5
}
